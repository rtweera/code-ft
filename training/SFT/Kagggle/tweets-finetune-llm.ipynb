{
 "cells": [
  {
   "cell_type": "markdown",
   "metadata": {},
   "source": [
    "## Load Dataset"
   ]
  },
  {
   "cell_type": "code",
   "execution_count": null,
   "metadata": {
    "execution": {
     "iopub.execute_input": "2025-04-02T13:21:29.318974Z",
     "iopub.status.busy": "2025-04-02T13:21:29.318669Z",
     "iopub.status.idle": "2025-04-02T13:21:38.842270Z",
     "shell.execute_reply": "2025-04-02T13:21:38.840935Z",
     "shell.execute_reply.started": "2025-04-02T13:21:29.318945Z"
    },
    "trusted": true
   },
   "outputs": [
    {
     "name": "stdout",
     "output_type": "stream",
     "text": [
      "Note: you may need to restart the kernel to use updated packages.\n"
     ]
    },
    {
     "data": {
      "application/vnd.jupyter.widget-view+json": {
       "model_id": "d4a0b32755774f489b70ef796e53007a",
       "version_major": 2,
       "version_minor": 0
      },
      "text/plain": [
       "README.md:   0%|          | 0.00/22.0 [00:00<?, ?B/s]"
      ]
     },
     "metadata": {},
     "output_type": "display_data"
    },
    {
     "data": {
      "application/vnd.jupyter.widget-view+json": {
       "model_id": "b1c5d7d9d0a0492cb6130941e883b188",
       "version_major": 2,
       "version_minor": 0
      },
      "text/plain": [
       "train.jsonl:   0%|          | 0.00/3.63M [00:00<?, ?B/s]"
      ]
     },
     "metadata": {},
     "output_type": "display_data"
    },
    {
     "data": {
      "application/vnd.jupyter.widget-view+json": {
       "model_id": "bb2977d68e3945b9877b8e1fd35ab770",
       "version_major": 2,
       "version_minor": 0
      },
      "text/plain": [
       "test.jsonl:   0%|          | 0.00/465k [00:00<?, ?B/s]"
      ]
     },
     "metadata": {},
     "output_type": "display_data"
    },
    {
     "data": {
      "application/vnd.jupyter.widget-view+json": {
       "model_id": "a300b5834e4c4a488e0cd1e91d5fceee",
       "version_major": 2,
       "version_minor": 0
      },
      "text/plain": [
       "Generating train split:   0%|          | 0/27481 [00:00<?, ? examples/s]"
      ]
     },
     "metadata": {},
     "output_type": "display_data"
    },
    {
     "data": {
      "application/vnd.jupyter.widget-view+json": {
       "model_id": "fc6eca138f534105adf5bba52d95fa50",
       "version_major": 2,
       "version_minor": 0
      },
      "text/plain": [
       "Generating test split:   0%|          | 0/3534 [00:00<?, ? examples/s]"
      ]
     },
     "metadata": {},
     "output_type": "display_data"
    }
   ],
   "source": [
    "%pip install --quiet datasets pandas transformers huggingface_hub ipywidgets\n",
    "\n",
    "from datasets import load_dataset\n",
    "import pandas as pd\n",
    "\n",
    "dataset = load_dataset(\"mteb/tweet_sentiment_extraction\")"
   ]
  },
  {
   "cell_type": "markdown",
   "metadata": {},
   "source": [
    "#### View Dataset"
   ]
  },
  {
   "cell_type": "code",
   "execution_count": 8,
   "metadata": {},
   "outputs": [
    {
     "name": "stdout",
     "output_type": "stream",
     "text": [
      "DatasetDict({\n",
      "    train: Dataset({\n",
      "        features: ['id', 'text', 'label', 'label_text'],\n",
      "        num_rows: 27481\n",
      "    })\n",
      "    test: Dataset({\n",
      "        features: ['id', 'text', 'label', 'label_text'],\n",
      "        num_rows: 3534\n",
      "    })\n",
      "})\n"
     ]
    }
   ],
   "source": [
    "# Display the dataset structure\n",
    "print(dataset)"
   ]
  },
  {
   "cell_type": "markdown",
   "metadata": {},
   "source": [
    "#### Sample Data"
   ]
  },
  {
   "cell_type": "code",
   "execution_count": null,
   "metadata": {
    "execution": {
     "iopub.execute_input": "2025-04-02T13:21:42.201931Z",
     "iopub.status.busy": "2025-04-02T13:21:42.201468Z",
     "iopub.status.idle": "2025-04-02T13:21:42.225776Z",
     "shell.execute_reply": "2025-04-02T13:21:42.224991Z",
     "shell.execute_reply.started": "2025-04-02T13:21:42.201905Z"
    },
    "trusted": true
   },
   "outputs": [
    {
     "data": {
      "text/html": [
       "<div>\n",
       "<style scoped>\n",
       "    .dataframe tbody tr th:only-of-type {\n",
       "        vertical-align: middle;\n",
       "    }\n",
       "\n",
       "    .dataframe tbody tr th {\n",
       "        vertical-align: top;\n",
       "    }\n",
       "\n",
       "    .dataframe thead th {\n",
       "        text-align: right;\n",
       "    }\n",
       "</style>\n",
       "<table border=\"1\" class=\"dataframe\">\n",
       "  <thead>\n",
       "    <tr style=\"text-align: right;\">\n",
       "      <th></th>\n",
       "      <th>id</th>\n",
       "      <th>text</th>\n",
       "      <th>label</th>\n",
       "      <th>label_text</th>\n",
       "    </tr>\n",
       "  </thead>\n",
       "  <tbody>\n",
       "    <tr>\n",
       "      <th>0</th>\n",
       "      <td>cb774db0d1</td>\n",
       "      <td>I`d have responded, if I were going</td>\n",
       "      <td>1</td>\n",
       "      <td>neutral</td>\n",
       "    </tr>\n",
       "    <tr>\n",
       "      <th>1</th>\n",
       "      <td>549e992a42</td>\n",
       "      <td>Sooo SAD I will miss you here in San Diego!!!</td>\n",
       "      <td>0</td>\n",
       "      <td>negative</td>\n",
       "    </tr>\n",
       "    <tr>\n",
       "      <th>2</th>\n",
       "      <td>088c60f138</td>\n",
       "      <td>my boss is bullying me...</td>\n",
       "      <td>0</td>\n",
       "      <td>negative</td>\n",
       "    </tr>\n",
       "    <tr>\n",
       "      <th>3</th>\n",
       "      <td>9642c003ef</td>\n",
       "      <td>what interview! leave me alone</td>\n",
       "      <td>0</td>\n",
       "      <td>negative</td>\n",
       "    </tr>\n",
       "    <tr>\n",
       "      <th>4</th>\n",
       "      <td>358bd9e861</td>\n",
       "      <td>Sons of ****, why couldn`t they put them on t...</td>\n",
       "      <td>0</td>\n",
       "      <td>negative</td>\n",
       "    </tr>\n",
       "    <tr>\n",
       "      <th>5</th>\n",
       "      <td>28b57f3990</td>\n",
       "      <td>http://www.dothebouncy.com/smf - some shameles...</td>\n",
       "      <td>1</td>\n",
       "      <td>neutral</td>\n",
       "    </tr>\n",
       "    <tr>\n",
       "      <th>6</th>\n",
       "      <td>6e0c6d75b1</td>\n",
       "      <td>2am feedings for the baby are fun when he is a...</td>\n",
       "      <td>2</td>\n",
       "      <td>positive</td>\n",
       "    </tr>\n",
       "    <tr>\n",
       "      <th>7</th>\n",
       "      <td>50e14c0bb8</td>\n",
       "      <td>Soooo high</td>\n",
       "      <td>1</td>\n",
       "      <td>neutral</td>\n",
       "    </tr>\n",
       "    <tr>\n",
       "      <th>8</th>\n",
       "      <td>e050245fbd</td>\n",
       "      <td>Both of you</td>\n",
       "      <td>1</td>\n",
       "      <td>neutral</td>\n",
       "    </tr>\n",
       "    <tr>\n",
       "      <th>9</th>\n",
       "      <td>fc2cbefa9d</td>\n",
       "      <td>Journey!? Wow... u just became cooler.  hehe....</td>\n",
       "      <td>2</td>\n",
       "      <td>positive</td>\n",
       "    </tr>\n",
       "  </tbody>\n",
       "</table>\n",
       "</div>"
      ],
      "text/plain": [
       "           id                                               text  label  \\\n",
       "0  cb774db0d1                I`d have responded, if I were going      1   \n",
       "1  549e992a42      Sooo SAD I will miss you here in San Diego!!!      0   \n",
       "2  088c60f138                          my boss is bullying me...      0   \n",
       "3  9642c003ef                     what interview! leave me alone      0   \n",
       "4  358bd9e861   Sons of ****, why couldn`t they put them on t...      0   \n",
       "5  28b57f3990  http://www.dothebouncy.com/smf - some shameles...      1   \n",
       "6  6e0c6d75b1  2am feedings for the baby are fun when he is a...      2   \n",
       "7  50e14c0bb8                                         Soooo high      1   \n",
       "8  e050245fbd                                        Both of you      1   \n",
       "9  fc2cbefa9d   Journey!? Wow... u just became cooler.  hehe....      2   \n",
       "\n",
       "  label_text  \n",
       "0    neutral  \n",
       "1   negative  \n",
       "2   negative  \n",
       "3   negative  \n",
       "4   negative  \n",
       "5    neutral  \n",
       "6   positive  \n",
       "7    neutral  \n",
       "8    neutral  \n",
       "9   positive  "
      ]
     },
     "execution_count": 2,
     "metadata": {},
     "output_type": "execute_result"
    }
   ],
   "source": [
    "df = pd.DataFrame(dataset['train'])\n",
    "df.head(10)"
   ]
  },
  {
   "cell_type": "markdown",
   "metadata": {},
   "source": [
    "## Load Model & Tokenizer"
   ]
  },
  {
   "cell_type": "markdown",
   "metadata": {},
   "source": [
    "AutoTokenizer is a special class in the Huggingface Transformers library. It helps you choose the right tokenizer for your model without knowing the details.\n",
    "\n",
    "Think of it as a smart assistant that knows which tool to use for the job.\n",
    "\n",
    "The AutoTokenizer is easy to use. You don’t have to remember which tokenizer goes with which model. It ensures you use the correct tokenizer for the model, reducing errors and improving consistency.\n",
    "\n",
    "Autotokenizer is flexible. It works with many different models, allowing you to switch models without changing much code."
   ]
  },
  {
   "cell_type": "code",
   "execution_count": 3,
   "metadata": {
    "execution": {
     "iopub.execute_input": "2025-04-02T13:21:44.987852Z",
     "iopub.status.busy": "2025-04-02T13:21:44.987514Z",
     "iopub.status.idle": "2025-04-02T13:22:11.123213Z",
     "shell.execute_reply": "2025-04-02T13:22:11.122279Z",
     "shell.execute_reply.started": "2025-04-02T13:21:44.987829Z"
    },
    "trusted": true
   },
   "outputs": [
    {
     "name": "stderr",
     "output_type": "stream",
     "text": [
      "The cache for model files in Transformers v4.22.0 has been updated. Migrating your old cache. This is a one-time only operation. You can interrupt this and resume the migration later on by calling `transformers.utils.move_cache()`.\n"
     ]
    },
    {
     "data": {
      "application/vnd.jupyter.widget-view+json": {
       "model_id": "c6618fdaadc844009bae00230a4239d3",
       "version_major": 2,
       "version_minor": 0
      },
      "text/plain": [
       "0it [00:00, ?it/s]"
      ]
     },
     "metadata": {},
     "output_type": "display_data"
    },
    {
     "name": "stdout",
     "output_type": "stream",
     "text": [
      "Logged in to Hugging Face Hub\n"
     ]
    },
    {
     "data": {
      "application/vnd.jupyter.widget-view+json": {
       "model_id": "223c8ead35034638a63b874be54c8e20",
       "version_major": 2,
       "version_minor": 0
      },
      "text/plain": [
       "tokenizer_config.json:   0%|          | 0.00/7.23k [00:00<?, ?B/s]"
      ]
     },
     "metadata": {},
     "output_type": "display_data"
    },
    {
     "data": {
      "application/vnd.jupyter.widget-view+json": {
       "model_id": "2b3111ebcc4a4ee6a1119d67bb332ff0",
       "version_major": 2,
       "version_minor": 0
      },
      "text/plain": [
       "vocab.json:   0%|          | 0.00/2.78M [00:00<?, ?B/s]"
      ]
     },
     "metadata": {},
     "output_type": "display_data"
    },
    {
     "data": {
      "application/vnd.jupyter.widget-view+json": {
       "model_id": "6fdbc837f32b4e24adbb4f3db2f763af",
       "version_major": 2,
       "version_minor": 0
      },
      "text/plain": [
       "merges.txt:   0%|          | 0.00/1.67M [00:00<?, ?B/s]"
      ]
     },
     "metadata": {},
     "output_type": "display_data"
    },
    {
     "data": {
      "application/vnd.jupyter.widget-view+json": {
       "model_id": "bfea9c1072f64dfebfd65608ba405888",
       "version_major": 2,
       "version_minor": 0
      },
      "text/plain": [
       "tokenizer.json:   0%|          | 0.00/7.03M [00:00<?, ?B/s]"
      ]
     },
     "metadata": {},
     "output_type": "display_data"
    },
    {
     "name": "stdout",
     "output_type": "stream",
     "text": [
      "Loaded Tokenizer\n"
     ]
    },
    {
     "data": {
      "application/vnd.jupyter.widget-view+json": {
       "model_id": "aeab6df9367542348083c02aef9fe6c2",
       "version_major": 2,
       "version_minor": 0
      },
      "text/plain": [
       "config.json:   0%|          | 0.00/681 [00:00<?, ?B/s]"
      ]
     },
     "metadata": {},
     "output_type": "display_data"
    },
    {
     "data": {
      "application/vnd.jupyter.widget-view+json": {
       "model_id": "6ed0563293da4f009d6dc258516c4b36",
       "version_major": 2,
       "version_minor": 0
      },
      "text/plain": [
       "model.safetensors:   0%|          | 0.00/988M [00:00<?, ?B/s]"
      ]
     },
     "metadata": {},
     "output_type": "display_data"
    },
    {
     "name": "stderr",
     "output_type": "stream",
     "text": [
      "Some weights of Qwen2ForSequenceClassification were not initialized from the model checkpoint at Qwen/Qwen2.5-0.5B and are newly initialized: ['score.weight']\n",
      "You should probably TRAIN this model on a down-stream task to be able to use it for predictions and inference.\n"
     ]
    },
    {
     "name": "stdout",
     "output_type": "stream",
     "text": [
      "Loaded Model\n"
     ]
    }
   ],
   "source": [
    "from transformers import AutoTokenizer, AutoModelForSequenceClassification\n",
    "from huggingface_hub import login\n",
    "import os\n",
    "from kaggle_secrets import UserSecretsClient\n",
    "\n",
    "user_secrets = UserSecretsClient()\n",
    "hf_token = user_secrets.get_secret(\"HF_TOKEN\")\n",
    "token = hf_token\n",
    "\n",
    "try:\n",
    "    login(token=token)\n",
    "    print(\"Logged in to Hugging Face Hub\")\n",
    "except Exception as e:\n",
    "    print(f\"❌ Error during login: {e}\")\n",
    "    print(\"Please ensure you have a valid Hugging Face token in your .env file.\")\n",
    "    exit(1)\n",
    "\n",
    "HF_MODEL_NAME = \"Qwen/Qwen2.5-0.5B\"\n",
    "tokenizer = AutoTokenizer.from_pretrained(HF_MODEL_NAME)\n",
    "print(\"Loaded Tokenizer\")\n",
    "base_model = AutoModelForSequenceClassification.from_pretrained(HF_MODEL_NAME, num_labels=3)    \n",
    "print(\"Loaded Model\")\n"
   ]
  },
  {
   "cell_type": "markdown",
   "metadata": {},
   "source": [
    "#### Model Info"
   ]
  },
  {
   "cell_type": "code",
   "execution_count": 12,
   "metadata": {},
   "outputs": [
    {
     "name": "stdout",
     "output_type": "stream",
     "text": [
      "Model Name: Qwen/Qwen2.5-0.5B\n",
      "Architecture: Qwen2ForSequenceClassification\n",
      "Base Architecture: Qwen2ForCausalLM\n",
      "Model Type: qwen2\n",
      "Number of Layers: 24\n",
      "Total Parameters: 494,035,456\n",
      "Trainable Parameters: 494,035,456\n",
      "Non-Trainable Parameters: 0\n",
      "Device: cpu\n",
      "\n",
      "Layers:\n",
      "  -  (Qwen2ForSequenceClassification): 494,035,456 params\n",
      "  - model (Qwen2Model): 494,032,768 params\n",
      "  - model.embed_tokens (Embedding): 136,134,656 params\n",
      "  - model.layers (ModuleList): 357,897,216 params\n",
      "  - model.layers.0 (Qwen2DecoderLayer): 14,912,384 params\n",
      "  - model.layers.0.self_attn (Qwen2SdpaAttention): 1,836,160 params\n",
      "  - model.layers.0.self_attn.q_proj (Linear): 803,712 params\n",
      "  - model.layers.0.self_attn.k_proj (Linear): 114,816 params\n",
      "  - model.layers.0.self_attn.v_proj (Linear): 114,816 params\n",
      "  - model.layers.0.self_attn.o_proj (Linear): 802,816 params\n",
      "  - model.layers.0.self_attn.rotary_emb (Qwen2RotaryEmbedding): 0 params\n",
      "  - model.layers.0.mlp (Qwen2MLP): 13,074,432 params\n",
      "  - model.layers.0.mlp.gate_proj (Linear): 4,358,144 params\n",
      "  - model.layers.0.mlp.up_proj (Linear): 4,358,144 params\n",
      "  - model.layers.0.mlp.down_proj (Linear): 4,358,144 params\n",
      "  - model.layers.0.mlp.act_fn (SiLU): 0 params\n",
      "  - model.layers.0.input_layernorm (Qwen2RMSNorm): 896 params\n",
      "  - model.layers.0.post_attention_layernorm (Qwen2RMSNorm): 896 params\n",
      "  - model.layers.1 (Qwen2DecoderLayer): 14,912,384 params\n",
      "  - model.layers.1.self_attn (Qwen2SdpaAttention): 1,836,160 params\n",
      "  - model.layers.1.self_attn.q_proj (Linear): 803,712 params\n",
      "  - model.layers.1.self_attn.k_proj (Linear): 114,816 params\n",
      "  - model.layers.1.self_attn.v_proj (Linear): 114,816 params\n",
      "  - model.layers.1.self_attn.o_proj (Linear): 802,816 params\n",
      "  - model.layers.1.self_attn.rotary_emb (Qwen2RotaryEmbedding): 0 params\n",
      "  - model.layers.1.mlp (Qwen2MLP): 13,074,432 params\n",
      "  - model.layers.1.mlp.gate_proj (Linear): 4,358,144 params\n",
      "  - model.layers.1.mlp.up_proj (Linear): 4,358,144 params\n",
      "  - model.layers.1.mlp.down_proj (Linear): 4,358,144 params\n",
      "  - model.layers.1.mlp.act_fn (SiLU): 0 params\n",
      "  - model.layers.1.input_layernorm (Qwen2RMSNorm): 896 params\n",
      "  - model.layers.1.post_attention_layernorm (Qwen2RMSNorm): 896 params\n",
      "  - model.layers.2 (Qwen2DecoderLayer): 14,912,384 params\n",
      "  - model.layers.2.self_attn (Qwen2SdpaAttention): 1,836,160 params\n",
      "  - model.layers.2.self_attn.q_proj (Linear): 803,712 params\n",
      "  - model.layers.2.self_attn.k_proj (Linear): 114,816 params\n",
      "  - model.layers.2.self_attn.v_proj (Linear): 114,816 params\n",
      "  - model.layers.2.self_attn.o_proj (Linear): 802,816 params\n",
      "  - model.layers.2.self_attn.rotary_emb (Qwen2RotaryEmbedding): 0 params\n",
      "  - model.layers.2.mlp (Qwen2MLP): 13,074,432 params\n",
      "  - model.layers.2.mlp.gate_proj (Linear): 4,358,144 params\n",
      "  - model.layers.2.mlp.up_proj (Linear): 4,358,144 params\n",
      "  - model.layers.2.mlp.down_proj (Linear): 4,358,144 params\n",
      "  - model.layers.2.mlp.act_fn (SiLU): 0 params\n",
      "  - model.layers.2.input_layernorm (Qwen2RMSNorm): 896 params\n",
      "  - model.layers.2.post_attention_layernorm (Qwen2RMSNorm): 896 params\n",
      "  - model.layers.3 (Qwen2DecoderLayer): 14,912,384 params\n",
      "  - model.layers.3.self_attn (Qwen2SdpaAttention): 1,836,160 params\n",
      "  - model.layers.3.self_attn.q_proj (Linear): 803,712 params\n",
      "  - model.layers.3.self_attn.k_proj (Linear): 114,816 params\n",
      "  - model.layers.3.self_attn.v_proj (Linear): 114,816 params\n",
      "  - model.layers.3.self_attn.o_proj (Linear): 802,816 params\n",
      "  - model.layers.3.self_attn.rotary_emb (Qwen2RotaryEmbedding): 0 params\n",
      "  - model.layers.3.mlp (Qwen2MLP): 13,074,432 params\n",
      "  - model.layers.3.mlp.gate_proj (Linear): 4,358,144 params\n",
      "  - model.layers.3.mlp.up_proj (Linear): 4,358,144 params\n",
      "  - model.layers.3.mlp.down_proj (Linear): 4,358,144 params\n",
      "  - model.layers.3.mlp.act_fn (SiLU): 0 params\n",
      "  - model.layers.3.input_layernorm (Qwen2RMSNorm): 896 params\n",
      "  - model.layers.3.post_attention_layernorm (Qwen2RMSNorm): 896 params\n",
      "  - model.layers.4 (Qwen2DecoderLayer): 14,912,384 params\n",
      "  - model.layers.4.self_attn (Qwen2SdpaAttention): 1,836,160 params\n",
      "  - model.layers.4.self_attn.q_proj (Linear): 803,712 params\n",
      "  - model.layers.4.self_attn.k_proj (Linear): 114,816 params\n",
      "  - model.layers.4.self_attn.v_proj (Linear): 114,816 params\n",
      "  - model.layers.4.self_attn.o_proj (Linear): 802,816 params\n",
      "  - model.layers.4.self_attn.rotary_emb (Qwen2RotaryEmbedding): 0 params\n",
      "  - model.layers.4.mlp (Qwen2MLP): 13,074,432 params\n",
      "  - model.layers.4.mlp.gate_proj (Linear): 4,358,144 params\n",
      "  - model.layers.4.mlp.up_proj (Linear): 4,358,144 params\n",
      "  - model.layers.4.mlp.down_proj (Linear): 4,358,144 params\n",
      "  - model.layers.4.mlp.act_fn (SiLU): 0 params\n",
      "  - model.layers.4.input_layernorm (Qwen2RMSNorm): 896 params\n",
      "  - model.layers.4.post_attention_layernorm (Qwen2RMSNorm): 896 params\n",
      "  - model.layers.5 (Qwen2DecoderLayer): 14,912,384 params\n",
      "  - model.layers.5.self_attn (Qwen2SdpaAttention): 1,836,160 params\n",
      "  - model.layers.5.self_attn.q_proj (Linear): 803,712 params\n",
      "  - model.layers.5.self_attn.k_proj (Linear): 114,816 params\n",
      "  - model.layers.5.self_attn.v_proj (Linear): 114,816 params\n",
      "  - model.layers.5.self_attn.o_proj (Linear): 802,816 params\n",
      "  - model.layers.5.self_attn.rotary_emb (Qwen2RotaryEmbedding): 0 params\n",
      "  - model.layers.5.mlp (Qwen2MLP): 13,074,432 params\n",
      "  - model.layers.5.mlp.gate_proj (Linear): 4,358,144 params\n",
      "  - model.layers.5.mlp.up_proj (Linear): 4,358,144 params\n",
      "  - model.layers.5.mlp.down_proj (Linear): 4,358,144 params\n",
      "  - model.layers.5.mlp.act_fn (SiLU): 0 params\n",
      "  - model.layers.5.input_layernorm (Qwen2RMSNorm): 896 params\n",
      "  - model.layers.5.post_attention_layernorm (Qwen2RMSNorm): 896 params\n",
      "  - model.layers.6 (Qwen2DecoderLayer): 14,912,384 params\n",
      "  - model.layers.6.self_attn (Qwen2SdpaAttention): 1,836,160 params\n",
      "  - model.layers.6.self_attn.q_proj (Linear): 803,712 params\n",
      "  - model.layers.6.self_attn.k_proj (Linear): 114,816 params\n",
      "  - model.layers.6.self_attn.v_proj (Linear): 114,816 params\n",
      "  - model.layers.6.self_attn.o_proj (Linear): 802,816 params\n",
      "  - model.layers.6.self_attn.rotary_emb (Qwen2RotaryEmbedding): 0 params\n",
      "  - model.layers.6.mlp (Qwen2MLP): 13,074,432 params\n",
      "  - model.layers.6.mlp.gate_proj (Linear): 4,358,144 params\n",
      "  - model.layers.6.mlp.up_proj (Linear): 4,358,144 params\n",
      "  - model.layers.6.mlp.down_proj (Linear): 4,358,144 params\n",
      "  - model.layers.6.mlp.act_fn (SiLU): 0 params\n",
      "  - model.layers.6.input_layernorm (Qwen2RMSNorm): 896 params\n",
      "  - model.layers.6.post_attention_layernorm (Qwen2RMSNorm): 896 params\n",
      "  - model.layers.7 (Qwen2DecoderLayer): 14,912,384 params\n",
      "  - model.layers.7.self_attn (Qwen2SdpaAttention): 1,836,160 params\n",
      "  - model.layers.7.self_attn.q_proj (Linear): 803,712 params\n",
      "  - model.layers.7.self_attn.k_proj (Linear): 114,816 params\n",
      "  - model.layers.7.self_attn.v_proj (Linear): 114,816 params\n",
      "  - model.layers.7.self_attn.o_proj (Linear): 802,816 params\n",
      "  - model.layers.7.self_attn.rotary_emb (Qwen2RotaryEmbedding): 0 params\n",
      "  - model.layers.7.mlp (Qwen2MLP): 13,074,432 params\n",
      "  - model.layers.7.mlp.gate_proj (Linear): 4,358,144 params\n",
      "  - model.layers.7.mlp.up_proj (Linear): 4,358,144 params\n",
      "  - model.layers.7.mlp.down_proj (Linear): 4,358,144 params\n",
      "  - model.layers.7.mlp.act_fn (SiLU): 0 params\n",
      "  - model.layers.7.input_layernorm (Qwen2RMSNorm): 896 params\n",
      "  - model.layers.7.post_attention_layernorm (Qwen2RMSNorm): 896 params\n",
      "  - model.layers.8 (Qwen2DecoderLayer): 14,912,384 params\n",
      "  - model.layers.8.self_attn (Qwen2SdpaAttention): 1,836,160 params\n",
      "  - model.layers.8.self_attn.q_proj (Linear): 803,712 params\n",
      "  - model.layers.8.self_attn.k_proj (Linear): 114,816 params\n",
      "  - model.layers.8.self_attn.v_proj (Linear): 114,816 params\n",
      "  - model.layers.8.self_attn.o_proj (Linear): 802,816 params\n",
      "  - model.layers.8.self_attn.rotary_emb (Qwen2RotaryEmbedding): 0 params\n",
      "  - model.layers.8.mlp (Qwen2MLP): 13,074,432 params\n",
      "  - model.layers.8.mlp.gate_proj (Linear): 4,358,144 params\n",
      "  - model.layers.8.mlp.up_proj (Linear): 4,358,144 params\n",
      "  - model.layers.8.mlp.down_proj (Linear): 4,358,144 params\n",
      "  - model.layers.8.mlp.act_fn (SiLU): 0 params\n",
      "  - model.layers.8.input_layernorm (Qwen2RMSNorm): 896 params\n",
      "  - model.layers.8.post_attention_layernorm (Qwen2RMSNorm): 896 params\n",
      "  - model.layers.9 (Qwen2DecoderLayer): 14,912,384 params\n",
      "  - model.layers.9.self_attn (Qwen2SdpaAttention): 1,836,160 params\n",
      "  - model.layers.9.self_attn.q_proj (Linear): 803,712 params\n",
      "  - model.layers.9.self_attn.k_proj (Linear): 114,816 params\n",
      "  - model.layers.9.self_attn.v_proj (Linear): 114,816 params\n",
      "  - model.layers.9.self_attn.o_proj (Linear): 802,816 params\n",
      "  - model.layers.9.self_attn.rotary_emb (Qwen2RotaryEmbedding): 0 params\n",
      "  - model.layers.9.mlp (Qwen2MLP): 13,074,432 params\n",
      "  - model.layers.9.mlp.gate_proj (Linear): 4,358,144 params\n",
      "  - model.layers.9.mlp.up_proj (Linear): 4,358,144 params\n",
      "  - model.layers.9.mlp.down_proj (Linear): 4,358,144 params\n",
      "  - model.layers.9.mlp.act_fn (SiLU): 0 params\n",
      "  - model.layers.9.input_layernorm (Qwen2RMSNorm): 896 params\n",
      "  - model.layers.9.post_attention_layernorm (Qwen2RMSNorm): 896 params\n",
      "  - model.layers.10 (Qwen2DecoderLayer): 14,912,384 params\n",
      "  - model.layers.10.self_attn (Qwen2SdpaAttention): 1,836,160 params\n",
      "  - model.layers.10.self_attn.q_proj (Linear): 803,712 params\n",
      "  - model.layers.10.self_attn.k_proj (Linear): 114,816 params\n",
      "  - model.layers.10.self_attn.v_proj (Linear): 114,816 params\n",
      "  - model.layers.10.self_attn.o_proj (Linear): 802,816 params\n",
      "  - model.layers.10.self_attn.rotary_emb (Qwen2RotaryEmbedding): 0 params\n",
      "  - model.layers.10.mlp (Qwen2MLP): 13,074,432 params\n",
      "  - model.layers.10.mlp.gate_proj (Linear): 4,358,144 params\n",
      "  - model.layers.10.mlp.up_proj (Linear): 4,358,144 params\n",
      "  - model.layers.10.mlp.down_proj (Linear): 4,358,144 params\n",
      "  - model.layers.10.mlp.act_fn (SiLU): 0 params\n",
      "  - model.layers.10.input_layernorm (Qwen2RMSNorm): 896 params\n",
      "  - model.layers.10.post_attention_layernorm (Qwen2RMSNorm): 896 params\n",
      "  - model.layers.11 (Qwen2DecoderLayer): 14,912,384 params\n",
      "  - model.layers.11.self_attn (Qwen2SdpaAttention): 1,836,160 params\n",
      "  - model.layers.11.self_attn.q_proj (Linear): 803,712 params\n",
      "  - model.layers.11.self_attn.k_proj (Linear): 114,816 params\n",
      "  - model.layers.11.self_attn.v_proj (Linear): 114,816 params\n",
      "  - model.layers.11.self_attn.o_proj (Linear): 802,816 params\n",
      "  - model.layers.11.self_attn.rotary_emb (Qwen2RotaryEmbedding): 0 params\n",
      "  - model.layers.11.mlp (Qwen2MLP): 13,074,432 params\n",
      "  - model.layers.11.mlp.gate_proj (Linear): 4,358,144 params\n",
      "  - model.layers.11.mlp.up_proj (Linear): 4,358,144 params\n",
      "  - model.layers.11.mlp.down_proj (Linear): 4,358,144 params\n",
      "  - model.layers.11.mlp.act_fn (SiLU): 0 params\n",
      "  - model.layers.11.input_layernorm (Qwen2RMSNorm): 896 params\n",
      "  - model.layers.11.post_attention_layernorm (Qwen2RMSNorm): 896 params\n",
      "  - model.layers.12 (Qwen2DecoderLayer): 14,912,384 params\n",
      "  - model.layers.12.self_attn (Qwen2SdpaAttention): 1,836,160 params\n",
      "  - model.layers.12.self_attn.q_proj (Linear): 803,712 params\n",
      "  - model.layers.12.self_attn.k_proj (Linear): 114,816 params\n",
      "  - model.layers.12.self_attn.v_proj (Linear): 114,816 params\n",
      "  - model.layers.12.self_attn.o_proj (Linear): 802,816 params\n",
      "  - model.layers.12.self_attn.rotary_emb (Qwen2RotaryEmbedding): 0 params\n",
      "  - model.layers.12.mlp (Qwen2MLP): 13,074,432 params\n",
      "  - model.layers.12.mlp.gate_proj (Linear): 4,358,144 params\n",
      "  - model.layers.12.mlp.up_proj (Linear): 4,358,144 params\n",
      "  - model.layers.12.mlp.down_proj (Linear): 4,358,144 params\n",
      "  - model.layers.12.mlp.act_fn (SiLU): 0 params\n",
      "  - model.layers.12.input_layernorm (Qwen2RMSNorm): 896 params\n",
      "  - model.layers.12.post_attention_layernorm (Qwen2RMSNorm): 896 params\n",
      "  - model.layers.13 (Qwen2DecoderLayer): 14,912,384 params\n",
      "  - model.layers.13.self_attn (Qwen2SdpaAttention): 1,836,160 params\n",
      "  - model.layers.13.self_attn.q_proj (Linear): 803,712 params\n",
      "  - model.layers.13.self_attn.k_proj (Linear): 114,816 params\n",
      "  - model.layers.13.self_attn.v_proj (Linear): 114,816 params\n",
      "  - model.layers.13.self_attn.o_proj (Linear): 802,816 params\n",
      "  - model.layers.13.self_attn.rotary_emb (Qwen2RotaryEmbedding): 0 params\n",
      "  - model.layers.13.mlp (Qwen2MLP): 13,074,432 params\n",
      "  - model.layers.13.mlp.gate_proj (Linear): 4,358,144 params\n",
      "  - model.layers.13.mlp.up_proj (Linear): 4,358,144 params\n",
      "  - model.layers.13.mlp.down_proj (Linear): 4,358,144 params\n",
      "  - model.layers.13.mlp.act_fn (SiLU): 0 params\n",
      "  - model.layers.13.input_layernorm (Qwen2RMSNorm): 896 params\n",
      "  - model.layers.13.post_attention_layernorm (Qwen2RMSNorm): 896 params\n",
      "  - model.layers.14 (Qwen2DecoderLayer): 14,912,384 params\n",
      "  - model.layers.14.self_attn (Qwen2SdpaAttention): 1,836,160 params\n",
      "  - model.layers.14.self_attn.q_proj (Linear): 803,712 params\n",
      "  - model.layers.14.self_attn.k_proj (Linear): 114,816 params\n",
      "  - model.layers.14.self_attn.v_proj (Linear): 114,816 params\n",
      "  - model.layers.14.self_attn.o_proj (Linear): 802,816 params\n",
      "  - model.layers.14.self_attn.rotary_emb (Qwen2RotaryEmbedding): 0 params\n",
      "  - model.layers.14.mlp (Qwen2MLP): 13,074,432 params\n",
      "  - model.layers.14.mlp.gate_proj (Linear): 4,358,144 params\n",
      "  - model.layers.14.mlp.up_proj (Linear): 4,358,144 params\n",
      "  - model.layers.14.mlp.down_proj (Linear): 4,358,144 params\n",
      "  - model.layers.14.mlp.act_fn (SiLU): 0 params\n",
      "  - model.layers.14.input_layernorm (Qwen2RMSNorm): 896 params\n",
      "  - model.layers.14.post_attention_layernorm (Qwen2RMSNorm): 896 params\n",
      "  - model.layers.15 (Qwen2DecoderLayer): 14,912,384 params\n",
      "  - model.layers.15.self_attn (Qwen2SdpaAttention): 1,836,160 params\n",
      "  - model.layers.15.self_attn.q_proj (Linear): 803,712 params\n",
      "  - model.layers.15.self_attn.k_proj (Linear): 114,816 params\n",
      "  - model.layers.15.self_attn.v_proj (Linear): 114,816 params\n",
      "  - model.layers.15.self_attn.o_proj (Linear): 802,816 params\n",
      "  - model.layers.15.self_attn.rotary_emb (Qwen2RotaryEmbedding): 0 params\n",
      "  - model.layers.15.mlp (Qwen2MLP): 13,074,432 params\n",
      "  - model.layers.15.mlp.gate_proj (Linear): 4,358,144 params\n",
      "  - model.layers.15.mlp.up_proj (Linear): 4,358,144 params\n",
      "  - model.layers.15.mlp.down_proj (Linear): 4,358,144 params\n",
      "  - model.layers.15.mlp.act_fn (SiLU): 0 params\n",
      "  - model.layers.15.input_layernorm (Qwen2RMSNorm): 896 params\n",
      "  - model.layers.15.post_attention_layernorm (Qwen2RMSNorm): 896 params\n",
      "  - model.layers.16 (Qwen2DecoderLayer): 14,912,384 params\n",
      "  - model.layers.16.self_attn (Qwen2SdpaAttention): 1,836,160 params\n",
      "  - model.layers.16.self_attn.q_proj (Linear): 803,712 params\n",
      "  - model.layers.16.self_attn.k_proj (Linear): 114,816 params\n",
      "  - model.layers.16.self_attn.v_proj (Linear): 114,816 params\n",
      "  - model.layers.16.self_attn.o_proj (Linear): 802,816 params\n",
      "  - model.layers.16.self_attn.rotary_emb (Qwen2RotaryEmbedding): 0 params\n",
      "  - model.layers.16.mlp (Qwen2MLP): 13,074,432 params\n",
      "  - model.layers.16.mlp.gate_proj (Linear): 4,358,144 params\n",
      "  - model.layers.16.mlp.up_proj (Linear): 4,358,144 params\n",
      "  - model.layers.16.mlp.down_proj (Linear): 4,358,144 params\n",
      "  - model.layers.16.mlp.act_fn (SiLU): 0 params\n",
      "  - model.layers.16.input_layernorm (Qwen2RMSNorm): 896 params\n",
      "  - model.layers.16.post_attention_layernorm (Qwen2RMSNorm): 896 params\n",
      "  - model.layers.17 (Qwen2DecoderLayer): 14,912,384 params\n",
      "  - model.layers.17.self_attn (Qwen2SdpaAttention): 1,836,160 params\n",
      "  - model.layers.17.self_attn.q_proj (Linear): 803,712 params\n",
      "  - model.layers.17.self_attn.k_proj (Linear): 114,816 params\n",
      "  - model.layers.17.self_attn.v_proj (Linear): 114,816 params\n",
      "  - model.layers.17.self_attn.o_proj (Linear): 802,816 params\n",
      "  - model.layers.17.self_attn.rotary_emb (Qwen2RotaryEmbedding): 0 params\n",
      "  - model.layers.17.mlp (Qwen2MLP): 13,074,432 params\n",
      "  - model.layers.17.mlp.gate_proj (Linear): 4,358,144 params\n",
      "  - model.layers.17.mlp.up_proj (Linear): 4,358,144 params\n",
      "  - model.layers.17.mlp.down_proj (Linear): 4,358,144 params\n",
      "  - model.layers.17.mlp.act_fn (SiLU): 0 params\n",
      "  - model.layers.17.input_layernorm (Qwen2RMSNorm): 896 params\n",
      "  - model.layers.17.post_attention_layernorm (Qwen2RMSNorm): 896 params\n",
      "  - model.layers.18 (Qwen2DecoderLayer): 14,912,384 params\n",
      "  - model.layers.18.self_attn (Qwen2SdpaAttention): 1,836,160 params\n",
      "  - model.layers.18.self_attn.q_proj (Linear): 803,712 params\n",
      "  - model.layers.18.self_attn.k_proj (Linear): 114,816 params\n",
      "  - model.layers.18.self_attn.v_proj (Linear): 114,816 params\n",
      "  - model.layers.18.self_attn.o_proj (Linear): 802,816 params\n",
      "  - model.layers.18.self_attn.rotary_emb (Qwen2RotaryEmbedding): 0 params\n",
      "  - model.layers.18.mlp (Qwen2MLP): 13,074,432 params\n",
      "  - model.layers.18.mlp.gate_proj (Linear): 4,358,144 params\n",
      "  - model.layers.18.mlp.up_proj (Linear): 4,358,144 params\n",
      "  - model.layers.18.mlp.down_proj (Linear): 4,358,144 params\n",
      "  - model.layers.18.mlp.act_fn (SiLU): 0 params\n",
      "  - model.layers.18.input_layernorm (Qwen2RMSNorm): 896 params\n",
      "  - model.layers.18.post_attention_layernorm (Qwen2RMSNorm): 896 params\n",
      "  - model.layers.19 (Qwen2DecoderLayer): 14,912,384 params\n",
      "  - model.layers.19.self_attn (Qwen2SdpaAttention): 1,836,160 params\n",
      "  - model.layers.19.self_attn.q_proj (Linear): 803,712 params\n",
      "  - model.layers.19.self_attn.k_proj (Linear): 114,816 params\n",
      "  - model.layers.19.self_attn.v_proj (Linear): 114,816 params\n",
      "  - model.layers.19.self_attn.o_proj (Linear): 802,816 params\n",
      "  - model.layers.19.self_attn.rotary_emb (Qwen2RotaryEmbedding): 0 params\n",
      "  - model.layers.19.mlp (Qwen2MLP): 13,074,432 params\n",
      "  - model.layers.19.mlp.gate_proj (Linear): 4,358,144 params\n",
      "  - model.layers.19.mlp.up_proj (Linear): 4,358,144 params\n",
      "  - model.layers.19.mlp.down_proj (Linear): 4,358,144 params\n",
      "  - model.layers.19.mlp.act_fn (SiLU): 0 params\n",
      "  - model.layers.19.input_layernorm (Qwen2RMSNorm): 896 params\n",
      "  - model.layers.19.post_attention_layernorm (Qwen2RMSNorm): 896 params\n",
      "  - model.layers.20 (Qwen2DecoderLayer): 14,912,384 params\n",
      "  - model.layers.20.self_attn (Qwen2SdpaAttention): 1,836,160 params\n",
      "  - model.layers.20.self_attn.q_proj (Linear): 803,712 params\n",
      "  - model.layers.20.self_attn.k_proj (Linear): 114,816 params\n",
      "  - model.layers.20.self_attn.v_proj (Linear): 114,816 params\n",
      "  - model.layers.20.self_attn.o_proj (Linear): 802,816 params\n",
      "  - model.layers.20.self_attn.rotary_emb (Qwen2RotaryEmbedding): 0 params\n",
      "  - model.layers.20.mlp (Qwen2MLP): 13,074,432 params\n",
      "  - model.layers.20.mlp.gate_proj (Linear): 4,358,144 params\n",
      "  - model.layers.20.mlp.up_proj (Linear): 4,358,144 params\n",
      "  - model.layers.20.mlp.down_proj (Linear): 4,358,144 params\n",
      "  - model.layers.20.mlp.act_fn (SiLU): 0 params\n",
      "  - model.layers.20.input_layernorm (Qwen2RMSNorm): 896 params\n",
      "  - model.layers.20.post_attention_layernorm (Qwen2RMSNorm): 896 params\n",
      "  - model.layers.21 (Qwen2DecoderLayer): 14,912,384 params\n",
      "  - model.layers.21.self_attn (Qwen2SdpaAttention): 1,836,160 params\n",
      "  - model.layers.21.self_attn.q_proj (Linear): 803,712 params\n",
      "  - model.layers.21.self_attn.k_proj (Linear): 114,816 params\n",
      "  - model.layers.21.self_attn.v_proj (Linear): 114,816 params\n",
      "  - model.layers.21.self_attn.o_proj (Linear): 802,816 params\n",
      "  - model.layers.21.self_attn.rotary_emb (Qwen2RotaryEmbedding): 0 params\n",
      "  - model.layers.21.mlp (Qwen2MLP): 13,074,432 params\n",
      "  - model.layers.21.mlp.gate_proj (Linear): 4,358,144 params\n",
      "  - model.layers.21.mlp.up_proj (Linear): 4,358,144 params\n",
      "  - model.layers.21.mlp.down_proj (Linear): 4,358,144 params\n",
      "  - model.layers.21.mlp.act_fn (SiLU): 0 params\n",
      "  - model.layers.21.input_layernorm (Qwen2RMSNorm): 896 params\n",
      "  - model.layers.21.post_attention_layernorm (Qwen2RMSNorm): 896 params\n",
      "  - model.layers.22 (Qwen2DecoderLayer): 14,912,384 params\n",
      "  - model.layers.22.self_attn (Qwen2SdpaAttention): 1,836,160 params\n",
      "  - model.layers.22.self_attn.q_proj (Linear): 803,712 params\n",
      "  - model.layers.22.self_attn.k_proj (Linear): 114,816 params\n",
      "  - model.layers.22.self_attn.v_proj (Linear): 114,816 params\n",
      "  - model.layers.22.self_attn.o_proj (Linear): 802,816 params\n",
      "  - model.layers.22.self_attn.rotary_emb (Qwen2RotaryEmbedding): 0 params\n",
      "  - model.layers.22.mlp (Qwen2MLP): 13,074,432 params\n",
      "  - model.layers.22.mlp.gate_proj (Linear): 4,358,144 params\n",
      "  - model.layers.22.mlp.up_proj (Linear): 4,358,144 params\n",
      "  - model.layers.22.mlp.down_proj (Linear): 4,358,144 params\n",
      "  - model.layers.22.mlp.act_fn (SiLU): 0 params\n",
      "  - model.layers.22.input_layernorm (Qwen2RMSNorm): 896 params\n",
      "  - model.layers.22.post_attention_layernorm (Qwen2RMSNorm): 896 params\n",
      "  - model.layers.23 (Qwen2DecoderLayer): 14,912,384 params\n",
      "  - model.layers.23.self_attn (Qwen2SdpaAttention): 1,836,160 params\n",
      "  - model.layers.23.self_attn.q_proj (Linear): 803,712 params\n",
      "  - model.layers.23.self_attn.k_proj (Linear): 114,816 params\n",
      "  - model.layers.23.self_attn.v_proj (Linear): 114,816 params\n",
      "  - model.layers.23.self_attn.o_proj (Linear): 802,816 params\n",
      "  - model.layers.23.self_attn.rotary_emb (Qwen2RotaryEmbedding): 0 params\n",
      "  - model.layers.23.mlp (Qwen2MLP): 13,074,432 params\n",
      "  - model.layers.23.mlp.gate_proj (Linear): 4,358,144 params\n",
      "  - model.layers.23.mlp.up_proj (Linear): 4,358,144 params\n",
      "  - model.layers.23.mlp.down_proj (Linear): 4,358,144 params\n",
      "  - model.layers.23.mlp.act_fn (SiLU): 0 params\n",
      "  - model.layers.23.input_layernorm (Qwen2RMSNorm): 896 params\n",
      "  - model.layers.23.post_attention_layernorm (Qwen2RMSNorm): 896 params\n",
      "  - model.norm (Qwen2RMSNorm): 896 params\n",
      "  - model.rotary_emb (Qwen2RotaryEmbedding): 0 params\n",
      "  - score (Linear): 2,688 params\n"
     ]
    }
   ],
   "source": [
    "import json\n",
    "\n",
    "def get_model_info(model):\n",
    "    \"\"\"Extract detailed information about the model.\"\"\"\n",
    "    model_info = {\n",
    "        \"Model Name\": HF_MODEL_NAME,\n",
    "        \"Architecture\": type(model).__name__,\n",
    "        \"Base Architecture\": model.config.architectures[0] if hasattr(model.config, \"architectures\") else \"N/A\",\n",
    "        \"Model Type\": model.config.model_type if hasattr(model.config, \"model_type\") else \"N/A\",\n",
    "        \"Number of Layers\": len(list(model.model.layers)) if hasattr(model.model, \"layers\") else \"N/A\",\n",
    "        \"Total Parameters\": sum(p.numel() for p in model.parameters()),\n",
    "        \"Trainable Parameters\": sum(p.numel() for p in model.parameters() if p.requires_grad),\n",
    "        \"Non-Trainable Parameters\": sum(p.numel() for p in model.parameters() if not p.requires_grad),  \n",
    "        # some params like BatchNorm are not trainable; they are updated during training but not optimized using backpropagation. They are updated using mean and std calculations.\n",
    "        \"Device\": next(model.parameters()).device,\n",
    "    }\n",
    "\n",
    "    # List all layers and their parameters\n",
    "    layers_info = []\n",
    "    for name, module in model.named_modules():  # Get all modules (i.e. layers in pytorch terminology) in the network: https://pytorch.org/docs/stable/generated/torch.nn.Module.html\n",
    "        layers_info.append({\n",
    "            \"Layer Name\": name,\n",
    "            \"Layer Type\": type(module).__name__,\n",
    "            # module.parameters() returns an iterator over module parameters, which are the weights and biases of the layer (i.e. tensor). https://pytorch.org/docs/stable/generated/torch.nn.parameter.Parameter.html#torch.nn.parameter.Parameter\n",
    "            # p.numel() returns the total number of elements in the tensor (i.e. the number of parameters in the layer). https://pytorch.org/docs/stable/generated/torch.numel.html#torch.numel\n",
    "            \"Number of Parameters\": sum(p.numel() for p in module.parameters()),\n",
    "            \"Trainable Parameters\": sum(p.numel() for p in module.parameters() if p.requires_grad),\n",
    "        })\n",
    "\n",
    "    model_info[\"Layers\"] = layers_info\n",
    "\n",
    "    return model_info\n",
    "\n",
    "# Get model information\n",
    "model_info = get_model_info(base_model)\n",
    "\n",
    "# Print model summary\n",
    "print(f\"Model Name: {model_info['Model Name']}\")\n",
    "print(f\"Architecture: {model_info['Architecture']}\")\n",
    "print(f\"Base Architecture: {model_info['Base Architecture']}\")\n",
    "print(f\"Model Type: {model_info['Model Type']}\")\n",
    "print(f\"Number of Layers: {model_info['Number of Layers']}\")\n",
    "print(f\"Total Parameters: {model_info['Total Parameters']:,}\")\n",
    "print(f\"Trainable Parameters: {model_info['Trainable Parameters']:,}\")\n",
    "print(f\"Non-Trainable Parameters: {model_info['Non-Trainable Parameters']:,}\")\n",
    "print(f\"Device: {model_info['Device']}\")\n",
    "print(\"\\nLayers:\")\n",
    "for layer in model_info[\"Layers\"]:\n",
    "    print(f\"  - {layer['Layer Name']} ({layer['Layer Type']}): {layer['Number of Parameters']:,} params\")\n",
    "\n",
    "# # Optional: Save the model info to a file\n",
    "# with open(\"model_info.json\", \"w\") as f:\n",
    "#     json.dump(model_info, f, indent=4)"
   ]
  },
  {
   "cell_type": "code",
   "execution_count": null,
   "metadata": {},
   "outputs": [],
   "source": []
  },
  {
   "cell_type": "markdown",
   "metadata": {},
   "source": [
    "#### View all special tokens"
   ]
  },
  {
   "cell_type": "code",
   "execution_count": 4,
   "metadata": {
    "execution": {
     "iopub.execute_input": "2025-04-02T13:19:33.788865Z",
     "iopub.status.busy": "2025-04-02T13:19:33.788578Z",
     "iopub.status.idle": "2025-04-02T13:19:33.794189Z",
     "shell.execute_reply": "2025-04-02T13:19:33.793216Z",
     "shell.execute_reply.started": "2025-04-02T13:19:33.788844Z"
    },
    "trusted": true
   },
   "outputs": [
    {
     "data": {
      "text/plain": [
       "{'eos_token': '<|endoftext|>',\n",
       " 'pad_token': '<|endoftext|>',\n",
       " 'additional_special_tokens': ['<|im_start|>',\n",
       "  '<|im_end|>',\n",
       "  '<|object_ref_start|>',\n",
       "  '<|object_ref_end|>',\n",
       "  '<|box_start|>',\n",
       "  '<|box_end|>',\n",
       "  '<|quad_start|>',\n",
       "  '<|quad_end|>',\n",
       "  '<|vision_start|>',\n",
       "  '<|vision_end|>',\n",
       "  '<|vision_pad|>',\n",
       "  '<|image_pad|>',\n",
       "  '<|video_pad|>']}"
      ]
     },
     "execution_count": 4,
     "metadata": {},
     "output_type": "execute_result"
    }
   ],
   "source": [
    "tokenizer.special_tokens_map"
   ]
  },
  {
   "cell_type": "markdown",
   "metadata": {},
   "source": [
    "#### Tokenize Text (Split + Encode)"
   ]
  },
  {
   "cell_type": "code",
   "execution_count": 9,
   "metadata": {
    "execution": {
     "iopub.execute_input": "2025-04-02T13:22:11.125166Z",
     "iopub.status.busy": "2025-04-02T13:22:11.124455Z",
     "iopub.status.idle": "2025-04-02T13:22:19.271611Z",
     "shell.execute_reply": "2025-04-02T13:22:19.270933Z",
     "shell.execute_reply.started": "2025-04-02T13:22:11.125138Z"
    },
    "trusted": true
   },
   "outputs": [
    {
     "data": {
      "application/vnd.jupyter.widget-view+json": {
       "model_id": "fde9839eb6104ebba91cc8771907689c",
       "version_major": 2,
       "version_minor": 0
      },
      "text/plain": [
       "Map:   0%|          | 0/27481 [00:00<?, ? examples/s]"
      ]
     },
     "metadata": {},
     "output_type": "display_data"
    },
    {
     "data": {
      "application/vnd.jupyter.widget-view+json": {
       "model_id": "7ecfff6983974778b8dd9b238ff9bb6e",
       "version_major": 2,
       "version_minor": 0
      },
      "text/plain": [
       "Map:   0%|          | 0/3534 [00:00<?, ? examples/s]"
      ]
     },
     "metadata": {},
     "output_type": "display_data"
    },
    {
     "name": "stdout",
     "output_type": "stream",
     "text": [
      "DatasetDict({\n",
      "    train: Dataset({\n",
      "        features: ['id', 'text', 'label', 'label_text', 'input_ids', 'attention_mask'],\n",
      "        num_rows: 27481\n",
      "    })\n",
      "    test: Dataset({\n",
      "        features: ['id', 'text', 'label', 'label_text', 'input_ids', 'attention_mask'],\n",
      "        num_rows: 3534\n",
      "    })\n",
      "})\n"
     ]
    }
   ],
   "source": [
    "# Setting the pad token. By default, LLaMA models do not have a pad token, so we need to set it manually.\n",
    "if tokenizer.pad_token is None:\n",
    "    tokenizer.pad_token = tokenizer.eos_token\n",
    "\n",
    "def tokenize_function(examples):\n",
    "    # padding set make the batches equal to the value set in max_length \n",
    "    # truncation set to True to truncate the text if it exceeds max_length\n",
    "    return tokenizer(examples[\"text\"], padding=\"max_length\", truncation=True, max_length=512)\n",
    "\n",
    "tokenized_datasets = dataset.map(tokenize_function, batched=True)\n",
    "print(tokenized_datasets)\n",
    "\n",
    "small_train_dataset = tokenized_datasets[\"train\"].shuffle(seed=42).select(range(1000))\n",
    "small_eval_dataset = tokenized_datasets[\"test\"].shuffle(seed=42).select(range(1000))"
   ]
  },
  {
   "cell_type": "markdown",
   "metadata": {},
   "source": [
    "### Evaluate (function def only)"
   ]
  },
  {
   "cell_type": "code",
   "execution_count": 6,
   "metadata": {
    "execution": {
     "iopub.execute_input": "2025-04-02T13:22:20.959386Z",
     "iopub.status.busy": "2025-04-02T13:22:20.959082Z",
     "iopub.status.idle": "2025-04-02T13:22:25.760654Z",
     "shell.execute_reply": "2025-04-02T13:22:25.759733Z",
     "shell.execute_reply.started": "2025-04-02T13:22:20.959362Z"
    },
    "trusted": true
   },
   "outputs": [
    {
     "name": "stdout",
     "output_type": "stream",
     "text": [
      "\u001b[2K   \u001b[90m━━━━━━━━━━━━━━━━━━━━━━━━━━━━━━━━━━━━━━━━\u001b[0m \u001b[32m84.0/84.0 kB\u001b[0m \u001b[31m3.5 MB/s\u001b[0m eta \u001b[36m0:00:00\u001b[0m\n",
      "\u001b[?25hNote: you may need to restart the kernel to use updated packages.\n"
     ]
    },
    {
     "data": {
      "application/vnd.jupyter.widget-view+json": {
       "model_id": "8fe0e82d146047c79880dc1fb082171d",
       "version_major": 2,
       "version_minor": 0
      },
      "text/plain": [
       "Downloading builder script:   0%|          | 0.00/4.20k [00:00<?, ?B/s]"
      ]
     },
     "metadata": {},
     "output_type": "display_data"
    }
   ],
   "source": [
    "%pip install --quiet evaluate\n",
    "import evaluate\n",
    "import numpy as np\n",
    "\n",
    "metric = evaluate.load(\"accuracy\")\n",
    "\n",
    "def compute_metrics(eval_pred):\n",
    "   logits, labels = eval_pred\n",
    "   predictions = np.argmax(logits, axis=-1)\n",
    "   return metric.compute(predictions=predictions, references=labels)"
   ]
  },
  {
   "cell_type": "markdown",
   "metadata": {},
   "source": [
    "### Fine Tune"
   ]
  },
  {
   "cell_type": "code",
   "execution_count": 7,
   "metadata": {
    "execution": {
     "iopub.execute_input": "2025-04-02T13:22:33.204904Z",
     "iopub.status.busy": "2025-04-02T13:22:33.204544Z",
     "iopub.status.idle": "2025-04-02T13:36:03.751789Z",
     "shell.execute_reply": "2025-04-02T13:36:03.750259Z",
     "shell.execute_reply.started": "2025-04-02T13:22:33.204875Z"
    },
    "trusted": true
   },
   "outputs": [
    {
     "name": "stderr",
     "output_type": "stream",
     "text": [
      "/usr/local/lib/python3.10/dist-packages/transformers/training_args.py:1575: FutureWarning: `evaluation_strategy` is deprecated and will be removed in version 4.46 of 🤗 Transformers. Use `eval_strategy` instead\n",
      "  warnings.warn(\n"
     ]
    },
    {
     "name": "stdout",
     "output_type": "stream",
     "text": [
      "Starting training...\n"
     ]
    },
    {
     "name": "stderr",
     "output_type": "stream",
     "text": [
      "/usr/local/lib/python3.10/dist-packages/torch/nn/parallel/_functions.py:71: UserWarning: Was asked to gather along dimension 0, but all input tensors were scalars; will instead unsqueeze and return a vector.\n",
      "  warnings.warn(\n"
     ]
    },
    {
     "data": {
      "text/html": [
       "\n",
       "    <div>\n",
       "      \n",
       "      <progress value='1000' max='1000' style='width:300px; height:20px; vertical-align: middle;'></progress>\n",
       "      [1000/1000 1:22:08, Epoch 8/8]\n",
       "    </div>\n",
       "    <table border=\"1\" class=\"dataframe\">\n",
       "  <thead>\n",
       " <tr style=\"text-align: left;\">\n",
       "      <th>Step</th>\n",
       "      <th>Training Loss</th>\n",
       "      <th>Validation Loss</th>\n",
       "      <th>Accuracy</th>\n",
       "    </tr>\n",
       "  </thead>\n",
       "  <tbody>\n",
       "    <tr>\n",
       "      <td>100</td>\n",
       "      <td>0.866400</td>\n",
       "      <td>0.664867</td>\n",
       "      <td>0.732000</td>\n",
       "    </tr>\n",
       "    <tr>\n",
       "      <td>200</td>\n",
       "      <td>0.652700</td>\n",
       "      <td>0.926518</td>\n",
       "      <td>0.670000</td>\n",
       "    </tr>\n",
       "    <tr>\n",
       "      <td>300</td>\n",
       "      <td>0.503800</td>\n",
       "      <td>1.696871</td>\n",
       "      <td>0.686000</td>\n",
       "    </tr>\n",
       "    <tr>\n",
       "      <td>400</td>\n",
       "      <td>0.331800</td>\n",
       "      <td>2.079151</td>\n",
       "      <td>0.707000</td>\n",
       "    </tr>\n",
       "    <tr>\n",
       "      <td>500</td>\n",
       "      <td>0.009200</td>\n",
       "      <td>3.298762</td>\n",
       "      <td>0.701000</td>\n",
       "    </tr>\n",
       "    <tr>\n",
       "      <td>600</td>\n",
       "      <td>0.000000</td>\n",
       "      <td>4.308538</td>\n",
       "      <td>0.716000</td>\n",
       "    </tr>\n",
       "    <tr>\n",
       "      <td>700</td>\n",
       "      <td>0.000000</td>\n",
       "      <td>4.334841</td>\n",
       "      <td>0.721000</td>\n",
       "    </tr>\n",
       "    <tr>\n",
       "      <td>800</td>\n",
       "      <td>0.000000</td>\n",
       "      <td>4.573539</td>\n",
       "      <td>0.718000</td>\n",
       "    </tr>\n",
       "    <tr>\n",
       "      <td>900</td>\n",
       "      <td>0.000000</td>\n",
       "      <td>4.589652</td>\n",
       "      <td>0.718000</td>\n",
       "    </tr>\n",
       "    <tr>\n",
       "      <td>1000</td>\n",
       "      <td>0.000000</td>\n",
       "      <td>4.589754</td>\n",
       "      <td>0.718000</td>\n",
       "    </tr>\n",
       "  </tbody>\n",
       "</table><p>"
      ],
      "text/plain": [
       "<IPython.core.display.HTML object>"
      ]
     },
     "metadata": {},
     "output_type": "display_data"
    },
    {
     "data": {
      "image/png": "[encoded data removed]",
      "text/plain": [
       "<Figure size 1500x500 with 2 Axes>"
      ]
     },
     "metadata": {},
     "output_type": "display_data"
    },
    {
     "name": "stderr",
     "output_type": "stream",
     "text": [
      "/usr/local/lib/python3.10/dist-packages/torch/nn/parallel/_functions.py:71: UserWarning: Was asked to gather along dimension 0, but all input tensors were scalars; will instead unsqueeze and return a vector.\n",
      "  warnings.warn(\n",
      "/usr/local/lib/python3.10/dist-packages/torch/nn/parallel/_functions.py:71: UserWarning: Was asked to gather along dimension 0, but all input tensors were scalars; will instead unsqueeze and return a vector.\n",
      "  warnings.warn(\n",
      "/usr/local/lib/python3.10/dist-packages/torch/nn/parallel/_functions.py:71: UserWarning: Was asked to gather along dimension 0, but all input tensors were scalars; will instead unsqueeze and return a vector.\n",
      "  warnings.warn(\n",
      "/usr/local/lib/python3.10/dist-packages/torch/nn/parallel/_functions.py:71: UserWarning: Was asked to gather along dimension 0, but all input tensors were scalars; will instead unsqueeze and return a vector.\n",
      "  warnings.warn(\n",
      "/usr/local/lib/python3.10/dist-packages/torch/nn/parallel/_functions.py:71: UserWarning: Was asked to gather along dimension 0, but all input tensors were scalars; will instead unsqueeze and return a vector.\n",
      "  warnings.warn(\n",
      "/usr/local/lib/python3.10/dist-packages/torch/nn/parallel/_functions.py:71: UserWarning: Was asked to gather along dimension 0, but all input tensors were scalars; will instead unsqueeze and return a vector.\n",
      "  warnings.warn(\n",
      "/usr/local/lib/python3.10/dist-packages/torch/nn/parallel/_functions.py:71: UserWarning: Was asked to gather along dimension 0, but all input tensors were scalars; will instead unsqueeze and return a vector.\n",
      "  warnings.warn(\n",
      "/usr/local/lib/python3.10/dist-packages/torch/nn/parallel/_functions.py:71: UserWarning: Was asked to gather along dimension 0, but all input tensors were scalars; will instead unsqueeze and return a vector.\n",
      "  warnings.warn(\n",
      "/usr/local/lib/python3.10/dist-packages/torch/nn/parallel/_functions.py:71: UserWarning: Was asked to gather along dimension 0, but all input tensors were scalars; will instead unsqueeze and return a vector.\n",
      "  warnings.warn(\n"
     ]
    },
    {
     "data": {
      "text/plain": [
       "TrainOutput(global_step=1000, training_loss=0.3047633919078933, metrics={'train_runtime': 4933.2741, 'train_samples_per_second': 1.622, 'train_steps_per_second': 0.203, 'total_flos': 8795770060800000.0, 'train_loss': 0.3047633919078933, 'epoch': 8.0})"
      ]
     },
     "execution_count": 7,
     "metadata": {},
     "output_type": "execute_result"
    },
    {
     "data": {
      "image/png": "[encoded data removed]",
      "text/plain": [
       "<Figure size 1500x500 with 2 Axes>"
      ]
     },
     "metadata": {},
     "output_type": "display_data"
    }
   ],
   "source": [
    "from transformers import TrainingArguments, Trainer, TrainerCallback\n",
    "import matplotlib.pyplot as plt\n",
    "from IPython.display import display, update_display, HTML\n",
    "\n",
    "class ProgressVisualizationCallback(TrainerCallback):\n",
    "    def __init__(self):\n",
    "        self.training_logs = []\n",
    "        self.output_id = 'progress_viz'\n",
    "        self.fig = None\n",
    "    \n",
    "    def on_train_begin(self, args, state, control, **kwargs):\n",
    "        self.training_logs = []\n",
    "        # Don't print anything here to avoid interfering with the default progress display\n",
    "    \n",
    "    def on_log(self, args, state, control, logs=None, **kwargs):\n",
    "        if logs:\n",
    "            self.training_logs.append(logs)\n",
    "            # Plot every 10 logs to avoid slowing down training\n",
    "            if len(self.training_logs) % 10 == 0:\n",
    "                self.visualize_progress(state)\n",
    "    \n",
    "    def visualize_progress(self, state):\n",
    "        # Extract metrics\n",
    "        steps = [log.get('step', i) for i, log in enumerate(self.training_logs) if 'loss' in log]\n",
    "        loss = [log['loss'] for log in self.training_logs if 'loss' in log]\n",
    "        lr = [log['learning_rate'] for log in self.training_logs if 'learning_rate' in log]\n",
    "        \n",
    "        # Create plot\n",
    "        if self.fig is None:\n",
    "            self.fig, (ax1, ax2) = plt.subplots(1, 2, figsize=(15, 5))\n",
    "            display(self.fig, display_id=self.output_id)\n",
    "        else:\n",
    "            # Clear previous plot data\n",
    "            for ax in self.fig.axes:\n",
    "                ax.clear()\n",
    "            ax1, ax2 = self.fig.axes\n",
    "        \n",
    "        # Loss plot\n",
    "        ax1.plot(steps, loss, label='Training Loss')\n",
    "        ax1.set_xlabel('Step')\n",
    "        ax1.set_ylabel('Loss')\n",
    "        ax1.set_title('Training Loss')\n",
    "        ax1.legend()\n",
    "        ax1.grid(True)\n",
    "        \n",
    "        # Learning rate plot\n",
    "        ax2.plot(steps, lr, label='Learning Rate', color='green')\n",
    "        ax2.set_xlabel('Step')\n",
    "        ax2.set_ylabel('Learning Rate')\n",
    "        ax2.set_title('Learning Rate Schedule')\n",
    "        ax2.legend()\n",
    "        ax2.grid(True)\n",
    "        \n",
    "        self.fig.tight_layout()\n",
    "        update_display(self.fig, display_id=self.output_id)\n",
    "        \n",
    "        # Don't print status here to avoid interfering with the default progress display\n",
    "\n",
    "# Setup training with proper logging\n",
    "training_args = TrainingArguments(\n",
    "    output_dir=\"test_trainer\",\n",
    "    logging_dir=\"./logs\",\n",
    "    logging_strategy=\"steps\",\n",
    "    logging_steps=10,  # Log every 10 steps\n",
    "    evaluation_strategy=\"steps\",\n",
    "    eval_steps=100,    # Evaluate every 100 steps\n",
    "    save_strategy=\"steps\",\n",
    "    save_steps=500,    # Save model every 100 steps\n",
    "    save_only_model=True,  # Only save model weights, not optimizer state\n",
    "    per_device_train_batch_size=1,\n",
    "    per_device_eval_batch_size=1,\n",
    "    gradient_accumulation_steps=4,\n",
    "    max_steps=1000,    # Set a specific number of steps\n",
    "    report_to=\"none\",  # Disable wandb/tensorboard to avoid conflicts\n",
    "    learning_rate=2e-5,\n",
    "    weight_decay=0.01,\n",
    ")\n",
    "\n",
    "# Create the trainer with our callback\n",
    "progress_callback = ProgressVisualizationCallback()\n",
    "trainer = Trainer(\n",
    "    model=base_model,\n",
    "    args=training_args,\n",
    "    train_dataset=small_train_dataset,\n",
    "    eval_dataset=small_eval_dataset,\n",
    "    compute_metrics=compute_metrics,\n",
    "    callbacks=[progress_callback],  # Add the callback here\n",
    ")\n",
    "\n",
    "# Start training\n",
    "print(\"Starting training...\")\n",
    "trainer.train()"
   ]
  },
  {
   "cell_type": "markdown",
   "metadata": {},
   "source": [
    "### Saving the Model"
   ]
  },
  {
   "cell_type": "code",
   "execution_count": 8,
   "metadata": {},
   "outputs": [
    {
     "name": "stdout",
     "output_type": "stream",
     "text": [
      "Saving model to hf-llama-3.2-sentiment-classifier...\n",
      "✅ Model saved to hf-llama-3.2-sentiment-classifier\n",
      "✅ Tokenizer saved to hf-llama-3.2-sentiment-classifier\n"
     ]
    }
   ],
   "source": [
    "import os\n",
    "\n",
    "# Save in Hugging Face format\n",
    "model_name = \"llama-3.2-sentiment-classifier\"\n",
    "hf_dir = f\"hf-{model_name}\"\n",
    "print(f\"Saving model to {hf_dir}...\")\n",
    "# os.makedirs(hf_dir, exist_ok=True)\n",
    "\n",
    "# 1. Save the model in Hugging Face format\n",
    "trainer.save_model(hf_dir) \n",
    "print(f\"✅ Model saved to {hf_dir}\")\n",
    "\n",
    "# Save tokenizer separately to ensure it's included\n",
    "tokenizer.save_pretrained(hf_dir)\n",
    "print(f\"✅ Tokenizer saved to {hf_dir}\")\n",
    "\n",
    "# # To save to your local directory with a better structure\n",
    "# model_name = \"llama-3.2-sentiment-classifier\"\n",
    "# local_dir = f\"{model_name}-{trainer.state.global_step}\"\n",
    "# trainer.save_model(local_dir)\n",
    "\n",
    "# # 3. Convert to Ollama format\n",
    "# print(\"Converting to Ollama format...\")\n",
    "\n",
    "# # Create Modelfile for Ollama\n",
    "# ollama_dir = f\"ollama-{model_name}\"\n",
    "# os.makedirs(ollama_dir, exist_ok=True)\n",
    "\n",
    "# # Write Modelfile\n",
    "# with open(f\"{ollama_dir}/Modelfile\", \"w\") as f:\n",
    "#     f.write(f\"\"\"FROM llama3.2\n",
    "# PARAMETER temperature 0.7\n",
    "# PARAMETER top_p 0.9\n",
    "# PARAMETER stop [\"\\n\", \"Human:\", \"Assistant:\"]\n",
    "# SYSTEM You are a sentiment analysis assistant specialized in analyzing tweets. Classify sentiment as positive, negative, or neutral.\n",
    "\n",
    "# # Pull the model weights\n",
    "# ADAPTER file=pytorch_model.bin\n",
    "\n",
    "# LICENSE Apache 2.0\n",
    "# \"\"\")\n",
    "\n",
    "# # Copy necessary files from the HF format to Ollama format\n",
    "# import shutil\n",
    "# shutil.copy(f\"{local_dir}/pytorch_model.bin\", f\"{ollama_dir}/pytorch_model.bin\")\n",
    "# shutil.copy(f\"{local_dir}/config.json\", f\"{ollama_dir}/config.json\")\n",
    "\n",
    "# print(f\"✅ Ollama files created in {ollama_dir}\")\n",
    "# print(\"To use with Ollama, run:\")\n",
    "# print(f\"ollama create {model_name} -f {ollama_dir}/Modelfile\")\n",
    "# print(f\"ollama run {model_name}\")\n"
   ]
  },
  {
   "cell_type": "markdown",
   "metadata": {},
   "source": [
    "### Convert to Ollama (gguf)"
   ]
  },
  {
   "cell_type": "code",
   "execution_count": 10,
   "metadata": {},
   "outputs": [
    {
     "name": "stdout",
     "output_type": "stream",
     "text": [
      "Requirement already satisfied: transformers in /usr/local/lib/python3.10/dist-packages (4.47.0)\n",
      "Requirement already satisfied: safetensors in /usr/local/lib/python3.10/dist-packages (0.4.5)\n",
      "Requirement already satisfied: huggingface_hub in /usr/local/lib/python3.10/dist-packages (0.29.0)\n",
      "Requirement already satisfied: filelock in /usr/local/lib/python3.10/dist-packages (from transformers) (3.17.0)\n",
      "Requirement already satisfied: numpy>=1.17 in /usr/local/lib/python3.10/dist-packages (from transformers) (1.26.4)\n",
      "Requirement already satisfied: packaging>=20.0 in /usr/local/lib/python3.10/dist-packages (from transformers) (24.2)\n",
      "Requirement already satisfied: pyyaml>=5.1 in /usr/local/lib/python3.10/dist-packages (from transformers) (6.0.2)\n",
      "Requirement already satisfied: regex!=2019.12.17 in /usr/local/lib/python3.10/dist-packages (from transformers) (2024.11.6)\n",
      "Requirement already satisfied: requests in /usr/local/lib/python3.10/dist-packages (from transformers) (2.32.3)\n",
      "Requirement already satisfied: tokenizers<0.22,>=0.21 in /usr/local/lib/python3.10/dist-packages (from transformers) (0.21.0)\n",
      "Requirement already satisfied: tqdm>=4.27 in /usr/local/lib/python3.10/dist-packages (from transformers) (4.67.1)\n",
      "Requirement already satisfied: fsspec>=2023.5.0 in /usr/local/lib/python3.10/dist-packages (from huggingface_hub) (2024.12.0)\n",
      "Requirement already satisfied: typing-extensions>=3.7.4.3 in /usr/local/lib/python3.10/dist-packages (from huggingface_hub) (4.12.2)\n",
      "Requirement already satisfied: mkl_fft in /usr/local/lib/python3.10/dist-packages (from numpy>=1.17->transformers) (1.3.8)\n",
      "Requirement already satisfied: mkl_random in /usr/local/lib/python3.10/dist-packages (from numpy>=1.17->transformers) (1.2.4)\n",
      "Requirement already satisfied: mkl_umath in /usr/local/lib/python3.10/dist-packages (from numpy>=1.17->transformers) (0.1.1)\n",
      "Requirement already satisfied: mkl in /usr/local/lib/python3.10/dist-packages (from numpy>=1.17->transformers) (2025.0.1)\n",
      "Requirement already satisfied: tbb4py in /usr/local/lib/python3.10/dist-packages (from numpy>=1.17->transformers) (2022.0.0)\n",
      "Requirement already satisfied: mkl-service in /usr/local/lib/python3.10/dist-packages (from numpy>=1.17->transformers) (2.4.1)\n",
      "Requirement already satisfied: charset-normalizer<4,>=2 in /usr/local/lib/python3.10/dist-packages (from requests->transformers) (3.4.1)\n",
      "Requirement already satisfied: idna<4,>=2.5 in /usr/local/lib/python3.10/dist-packages (from requests->transformers) (3.10)\n",
      "Requirement already satisfied: urllib3<3,>=1.21.1 in /usr/local/lib/python3.10/dist-packages (from requests->transformers) (2.3.0)\n",
      "Requirement already satisfied: certifi>=2017.4.17 in /usr/local/lib/python3.10/dist-packages (from requests->transformers) (2025.1.31)\n",
      "Requirement already satisfied: intel-openmp>=2024 in /usr/local/lib/python3.10/dist-packages (from mkl->numpy>=1.17->transformers) (2024.2.0)\n",
      "Requirement already satisfied: tbb==2022.* in /usr/local/lib/python3.10/dist-packages (from mkl->numpy>=1.17->transformers) (2022.0.0)\n",
      "Requirement already satisfied: tcmlib==1.* in /usr/local/lib/python3.10/dist-packages (from tbb==2022.*->mkl->numpy>=1.17->transformers) (1.2.0)\n",
      "Requirement already satisfied: intel-cmplr-lib-rt in /usr/local/lib/python3.10/dist-packages (from mkl_umath->numpy>=1.17->transformers) (2024.2.0)\n",
      "Requirement already satisfied: intel-cmplr-lib-ur==2024.2.0 in /usr/local/lib/python3.10/dist-packages (from intel-openmp>=2024->mkl->numpy>=1.17->transformers) (2024.2.0)\n",
      "Note: you may need to restart the kernel to use updated packages.\n",
      "Cloning into 'llama.cpp'...\n",
      "remote: Enumerating objects: 47667, done.\u001b[K\n",
      "remote: Counting objects: 100% (154/154), done.\u001b[K\n",
      "remote: Compressing objects: 100% (119/119), done.\u001b[K\n",
      "remote: Total 47667 (delta 96), reused 35 (delta 35), pack-reused 47513 (from 5)\u001b[K\n",
      "Receiving objects: 100% (47667/47667), 99.69 MiB | 27.06 MiB/s, done.\n",
      "Resolving deltas: 100% (34195/34195), done.\n",
      "/kaggle/working/llama.cpp\n",
      "Looking in indexes: https://pypi.org/simple, https://download.pytorch.org/whl/cpu, https://download.pytorch.org/whl/cpu, https://download.pytorch.org/whl/cpu, https://download.pytorch.org/whl/cpu\n",
      "Requirement already satisfied: numpy~=1.26.4 in /usr/local/lib/python3.10/dist-packages (from -r ./requirements/requirements-convert_legacy_llama.txt (line 1)) (1.26.4)\n",
      "Requirement already satisfied: sentencepiece~=0.2.0 in /usr/local/lib/python3.10/dist-packages (from -r ./requirements/requirements-convert_legacy_llama.txt (line 2)) (0.2.0)\n",
      "Requirement already satisfied: transformers<5.0.0,>=4.45.1 in /usr/local/lib/python3.10/dist-packages (from -r ./requirements/requirements-convert_legacy_llama.txt (line 3)) (4.47.0)\n",
      "Collecting gguf>=0.1.0 (from -r ./requirements/requirements-convert_legacy_llama.txt (line 4))\n",
      "  Downloading gguf-0.14.0-py3-none-any.whl.metadata (3.7 kB)\n",
      "Collecting protobuf<5.0.0,>=4.21.0 (from -r ./requirements/requirements-convert_legacy_llama.txt (line 5))\n",
      "  Downloading protobuf-4.25.6-cp37-abi3-manylinux2014_x86_64.whl.metadata (541 bytes)\n",
      "Collecting torch~=2.2.1 (from -r ./requirements/requirements-convert_hf_to_gguf.txt (line 3))\n",
      "  Downloading https://download.pytorch.org/whl/cpu/torch-2.2.2%2Bcpu-cp310-cp310-linux_x86_64.whl (186.8 MB)\n",
      "\u001b[2K     \u001b[90m━━━━━━━━━━━━━━━━━━━━━━━━━━━━━━━━━━━━━━━━\u001b[0m \u001b[32m186.8/186.8 MB\u001b[0m \u001b[31m6.1 MB/s\u001b[0m eta \u001b[36m0:00:00\u001b[0m0:00:01\u001b[0m00:01\u001b[0m\n",
      "\u001b[?25hCollecting aiohttp~=3.9.3 (from -r ./requirements/requirements-tool_bench.txt (line 1))\n",
      "  Downloading aiohttp-3.9.5-cp310-cp310-manylinux_2_17_x86_64.manylinux2014_x86_64.whl.metadata (7.5 kB)\n",
      "Requirement already satisfied: pytest~=8.3.3 in /usr/local/lib/python3.10/dist-packages (from -r ./requirements/requirements-tool_bench.txt (line 2)) (8.3.4)\n",
      "Collecting huggingface_hub~=0.23.2 (from -r ./requirements/requirements-tool_bench.txt (line 3))\n",
      "  Downloading huggingface_hub-0.23.5-py3-none-any.whl.metadata (12 kB)\n",
      "Collecting matplotlib~=3.10.0 (from -r ./requirements/requirements-tool_bench.txt (line 4))\n",
      "  Downloading matplotlib-3.10.1-cp310-cp310-manylinux_2_17_x86_64.manylinux2014_x86_64.whl.metadata (11 kB)\n",
      "Collecting openai~=1.55.3 (from -r ./requirements/requirements-tool_bench.txt (line 6))\n",
      "  Downloading openai-1.55.3-py3-none-any.whl.metadata (24 kB)\n",
      "Requirement already satisfied: pandas~=2.2.3 in /usr/local/lib/python3.10/dist-packages (from -r ./requirements/requirements-tool_bench.txt (line 7)) (2.2.3)\n",
      "Collecting prometheus-client~=0.20.0 (from -r ./requirements/requirements-tool_bench.txt (line 8))\n",
      "  Downloading prometheus_client-0.20.0-py3-none-any.whl.metadata (1.8 kB)\n",
      "Requirement already satisfied: requests~=2.32.3 in /usr/local/lib/python3.10/dist-packages (from -r ./requirements/requirements-tool_bench.txt (line 9)) (2.32.3)\n",
      "Collecting wget~=3.2 (from -r ./requirements/requirements-tool_bench.txt (line 10))\n",
      "  Downloading wget-3.2.zip (10 kB)\n",
      "  Preparing metadata (setup.py) ... \u001b[?25l\u001b[?25hdone\n",
      "Requirement already satisfied: typer~=0.15.1 in /usr/local/lib/python3.10/dist-packages (from -r ./requirements/requirements-tool_bench.txt (line 11)) (0.15.1)\n",
      "Collecting seaborn~=0.13.2 (from -r ./requirements/requirements-tool_bench.txt (line 12))\n",
      "  Downloading seaborn-0.13.2-py3-none-any.whl.metadata (5.4 kB)\n",
      "Requirement already satisfied: mkl_fft in /usr/local/lib/python3.10/dist-packages (from numpy~=1.26.4->-r ./requirements/requirements-convert_legacy_llama.txt (line 1)) (1.3.8)\n",
      "Requirement already satisfied: mkl_random in /usr/local/lib/python3.10/dist-packages (from numpy~=1.26.4->-r ./requirements/requirements-convert_legacy_llama.txt (line 1)) (1.2.4)\n",
      "Requirement already satisfied: mkl_umath in /usr/local/lib/python3.10/dist-packages (from numpy~=1.26.4->-r ./requirements/requirements-convert_legacy_llama.txt (line 1)) (0.1.1)\n",
      "Requirement already satisfied: mkl in /usr/local/lib/python3.10/dist-packages (from numpy~=1.26.4->-r ./requirements/requirements-convert_legacy_llama.txt (line 1)) (2025.0.1)\n",
      "Requirement already satisfied: tbb4py in /usr/local/lib/python3.10/dist-packages (from numpy~=1.26.4->-r ./requirements/requirements-convert_legacy_llama.txt (line 1)) (2022.0.0)\n",
      "Requirement already satisfied: mkl-service in /usr/local/lib/python3.10/dist-packages (from numpy~=1.26.4->-r ./requirements/requirements-convert_legacy_llama.txt (line 1)) (2.4.1)\n",
      "Requirement already satisfied: filelock in /usr/local/lib/python3.10/dist-packages (from transformers<5.0.0,>=4.45.1->-r ./requirements/requirements-convert_legacy_llama.txt (line 3)) (3.17.0)\n",
      "INFO: pip is looking at multiple versions of transformers to determine which version is compatible with other requirements. This could take a while.\n",
      "Collecting transformers<5.0.0,>=4.45.1 (from -r ./requirements/requirements-convert_legacy_llama.txt (line 3))\n",
      "  Downloading transformers-4.50.3-py3-none-any.whl.metadata (39 kB)\n",
      "  Downloading transformers-4.50.2-py3-none-any.whl.metadata (39 kB)\n",
      "  Downloading transformers-4.50.1-py3-none-any.whl.metadata (39 kB)\n",
      "  Downloading transformers-4.50.0-py3-none-any.whl.metadata (39 kB)\n",
      "  Downloading transformers-4.49.0-py3-none-any.whl.metadata (44 kB)\n",
      "\u001b[2K     \u001b[90m━━━━━━━━━━━━━━━━━━━━━━━━━━━━━━━━━━━━━━━━\u001b[0m \u001b[32m44.0/44.0 kB\u001b[0m \u001b[31m2.2 MB/s\u001b[0m eta \u001b[36m0:00:00\u001b[0m\n",
      "\u001b[?25h  Downloading transformers-4.48.3-py3-none-any.whl.metadata (44 kB)\n",
      "\u001b[2K     \u001b[90m━━━━━━━━━━━━━━━━━━━━━━━━━━━━━━━━━━━━━━━━\u001b[0m \u001b[32m44.4/44.4 kB\u001b[0m \u001b[31m2.2 MB/s\u001b[0m eta \u001b[36m0:00:00\u001b[0m\n",
      "\u001b[?25h  Downloading transformers-4.48.2-py3-none-any.whl.metadata (44 kB)\n",
      "\u001b[2K     \u001b[90m━━━━━━━━━━━━━━━━━━━━━━━━━━━━━━━━━━━━━━━━\u001b[0m \u001b[32m44.4/44.4 kB\u001b[0m \u001b[31m2.6 MB/s\u001b[0m eta \u001b[36m0:00:00\u001b[0m\n",
      "\u001b[?25hINFO: pip is still looking at multiple versions of transformers to determine which version is compatible with other requirements. This could take a while.\n",
      "  Downloading transformers-4.48.1-py3-none-any.whl.metadata (44 kB)\n",
      "\u001b[2K     \u001b[90m━━━━━━━━━━━━━━━━━━━━━━━━━━━━━━━━━━━━━━━━\u001b[0m \u001b[32m44.4/44.4 kB\u001b[0m \u001b[31m2.5 MB/s\u001b[0m eta \u001b[36m0:00:00\u001b[0m\n",
      "\u001b[?25h  Downloading transformers-4.48.0-py3-none-any.whl.metadata (44 kB)\n",
      "\u001b[2K     \u001b[90m━━━━━━━━━━━━━━━━━━━━━━━━━━━━━━━━━━━━━━━━\u001b[0m \u001b[32m44.4/44.4 kB\u001b[0m \u001b[31m2.3 MB/s\u001b[0m eta \u001b[36m0:00:00\u001b[0m\n",
      "\u001b[?25h  Downloading transformers-4.47.1-py3-none-any.whl.metadata (44 kB)\n",
      "\u001b[2K     \u001b[90m━━━━━━━━━━━━━━━━━━━━━━━━━━━━━━━━━━━━━━━━\u001b[0m \u001b[32m44.1/44.1 kB\u001b[0m \u001b[31m2.2 MB/s\u001b[0m eta \u001b[36m0:00:00\u001b[0m\n",
      "\u001b[?25h  Downloading transformers-4.46.3-py3-none-any.whl.metadata (44 kB)\n",
      "\u001b[2K     \u001b[90m━━━━━━━━━━━━━━━━━━━━━━━━━━━━━━━━━━━━━━━━\u001b[0m \u001b[32m44.1/44.1 kB\u001b[0m \u001b[31m2.3 MB/s\u001b[0m eta \u001b[36m0:00:00\u001b[0m\n",
      "\u001b[?25hRequirement already satisfied: packaging>=20.0 in /usr/local/lib/python3.10/dist-packages (from transformers<5.0.0,>=4.45.1->-r ./requirements/requirements-convert_legacy_llama.txt (line 3)) (24.2)\n",
      "Requirement already satisfied: pyyaml>=5.1 in /usr/local/lib/python3.10/dist-packages (from transformers<5.0.0,>=4.45.1->-r ./requirements/requirements-convert_legacy_llama.txt (line 3)) (6.0.2)\n",
      "Requirement already satisfied: regex!=2019.12.17 in /usr/local/lib/python3.10/dist-packages (from transformers<5.0.0,>=4.45.1->-r ./requirements/requirements-convert_legacy_llama.txt (line 3)) (2024.11.6)\n",
      "Collecting tokenizers<0.21,>=0.20 (from transformers<5.0.0,>=4.45.1->-r ./requirements/requirements-convert_legacy_llama.txt (line 3))\n",
      "  Downloading tokenizers-0.20.3-cp310-cp310-manylinux_2_17_x86_64.manylinux2014_x86_64.whl.metadata (6.7 kB)\n",
      "Requirement already satisfied: safetensors>=0.4.1 in /usr/local/lib/python3.10/dist-packages (from transformers<5.0.0,>=4.45.1->-r ./requirements/requirements-convert_legacy_llama.txt (line 3)) (0.4.5)\n",
      "Requirement already satisfied: tqdm>=4.27 in /usr/local/lib/python3.10/dist-packages (from transformers<5.0.0,>=4.45.1->-r ./requirements/requirements-convert_legacy_llama.txt (line 3)) (4.67.1)\n",
      "Requirement already satisfied: typing-extensions>=4.8.0 in /usr/local/lib/python3.10/dist-packages (from torch~=2.2.1->-r ./requirements/requirements-convert_hf_to_gguf.txt (line 3)) (4.12.2)\n",
      "Requirement already satisfied: sympy in /usr/local/lib/python3.10/dist-packages (from torch~=2.2.1->-r ./requirements/requirements-convert_hf_to_gguf.txt (line 3)) (1.13.1)\n",
      "Requirement already satisfied: networkx in /usr/local/lib/python3.10/dist-packages (from torch~=2.2.1->-r ./requirements/requirements-convert_hf_to_gguf.txt (line 3)) (3.4.2)\n",
      "Requirement already satisfied: jinja2 in /usr/local/lib/python3.10/dist-packages (from torch~=2.2.1->-r ./requirements/requirements-convert_hf_to_gguf.txt (line 3)) (3.1.4)\n",
      "Requirement already satisfied: fsspec in /usr/local/lib/python3.10/dist-packages (from torch~=2.2.1->-r ./requirements/requirements-convert_hf_to_gguf.txt (line 3)) (2024.12.0)\n",
      "Requirement already satisfied: aiosignal>=1.1.2 in /usr/local/lib/python3.10/dist-packages (from aiohttp~=3.9.3->-r ./requirements/requirements-tool_bench.txt (line 1)) (1.3.2)\n",
      "Requirement already satisfied: attrs>=17.3.0 in /usr/local/lib/python3.10/dist-packages (from aiohttp~=3.9.3->-r ./requirements/requirements-tool_bench.txt (line 1)) (25.1.0)\n",
      "Requirement already satisfied: frozenlist>=1.1.1 in /usr/local/lib/python3.10/dist-packages (from aiohttp~=3.9.3->-r ./requirements/requirements-tool_bench.txt (line 1)) (1.5.0)\n",
      "Requirement already satisfied: multidict<7.0,>=4.5 in /usr/local/lib/python3.10/dist-packages (from aiohttp~=3.9.3->-r ./requirements/requirements-tool_bench.txt (line 1)) (6.1.0)\n",
      "Requirement already satisfied: yarl<2.0,>=1.0 in /usr/local/lib/python3.10/dist-packages (from aiohttp~=3.9.3->-r ./requirements/requirements-tool_bench.txt (line 1)) (1.18.3)\n",
      "Collecting async-timeout<5.0,>=4.0 (from aiohttp~=3.9.3->-r ./requirements/requirements-tool_bench.txt (line 1))\n",
      "  Downloading async_timeout-4.0.3-py3-none-any.whl.metadata (4.2 kB)\n",
      "Requirement already satisfied: exceptiongroup>=1.0.0rc8 in /usr/local/lib/python3.10/dist-packages (from pytest~=8.3.3->-r ./requirements/requirements-tool_bench.txt (line 2)) (1.2.2)\n",
      "Requirement already satisfied: iniconfig in /usr/local/lib/python3.10/dist-packages (from pytest~=8.3.3->-r ./requirements/requirements-tool_bench.txt (line 2)) (2.0.0)\n",
      "Requirement already satisfied: pluggy<2,>=1.5 in /usr/local/lib/python3.10/dist-packages (from pytest~=8.3.3->-r ./requirements/requirements-tool_bench.txt (line 2)) (1.5.0)\n",
      "Requirement already satisfied: tomli>=1 in /usr/local/lib/python3.10/dist-packages (from pytest~=8.3.3->-r ./requirements/requirements-tool_bench.txt (line 2)) (2.2.1)\n",
      "Requirement already satisfied: contourpy>=1.0.1 in /usr/local/lib/python3.10/dist-packages (from matplotlib~=3.10.0->-r ./requirements/requirements-tool_bench.txt (line 4)) (1.3.1)\n",
      "Requirement already satisfied: cycler>=0.10 in /usr/local/lib/python3.10/dist-packages (from matplotlib~=3.10.0->-r ./requirements/requirements-tool_bench.txt (line 4)) (0.12.1)\n",
      "Requirement already satisfied: fonttools>=4.22.0 in /usr/local/lib/python3.10/dist-packages (from matplotlib~=3.10.0->-r ./requirements/requirements-tool_bench.txt (line 4)) (4.55.3)\n",
      "Requirement already satisfied: kiwisolver>=1.3.1 in /usr/local/lib/python3.10/dist-packages (from matplotlib~=3.10.0->-r ./requirements/requirements-tool_bench.txt (line 4)) (1.4.7)\n",
      "Requirement already satisfied: pillow>=8 in /usr/local/lib/python3.10/dist-packages (from matplotlib~=3.10.0->-r ./requirements/requirements-tool_bench.txt (line 4)) (11.0.0)\n",
      "Requirement already satisfied: pyparsing>=2.3.1 in /usr/local/lib/python3.10/dist-packages (from matplotlib~=3.10.0->-r ./requirements/requirements-tool_bench.txt (line 4)) (3.2.0)\n",
      "Requirement already satisfied: python-dateutil>=2.7 in /usr/local/lib/python3.10/dist-packages (from matplotlib~=3.10.0->-r ./requirements/requirements-tool_bench.txt (line 4)) (2.9.0.post0)\n",
      "Requirement already satisfied: anyio<5,>=3.5.0 in /usr/local/lib/python3.10/dist-packages (from openai~=1.55.3->-r ./requirements/requirements-tool_bench.txt (line 6)) (3.7.1)\n",
      "Requirement already satisfied: distro<2,>=1.7.0 in /usr/local/lib/python3.10/dist-packages (from openai~=1.55.3->-r ./requirements/requirements-tool_bench.txt (line 6)) (1.9.0)\n",
      "Requirement already satisfied: httpx<1,>=0.23.0 in /usr/local/lib/python3.10/dist-packages (from openai~=1.55.3->-r ./requirements/requirements-tool_bench.txt (line 6)) (0.28.1)\n",
      "Requirement already satisfied: jiter<1,>=0.4.0 in /usr/local/lib/python3.10/dist-packages (from openai~=1.55.3->-r ./requirements/requirements-tool_bench.txt (line 6)) (0.8.2)\n",
      "Requirement already satisfied: pydantic<3,>=1.9.0 in /usr/local/lib/python3.10/dist-packages (from openai~=1.55.3->-r ./requirements/requirements-tool_bench.txt (line 6)) (2.11.0a2)\n",
      "Requirement already satisfied: sniffio in /usr/local/lib/python3.10/dist-packages (from openai~=1.55.3->-r ./requirements/requirements-tool_bench.txt (line 6)) (1.3.1)\n",
      "Requirement already satisfied: pytz>=2020.1 in /usr/local/lib/python3.10/dist-packages (from pandas~=2.2.3->-r ./requirements/requirements-tool_bench.txt (line 7)) (2025.1)\n",
      "Requirement already satisfied: tzdata>=2022.7 in /usr/local/lib/python3.10/dist-packages (from pandas~=2.2.3->-r ./requirements/requirements-tool_bench.txt (line 7)) (2025.1)\n",
      "Requirement already satisfied: charset-normalizer<4,>=2 in /usr/local/lib/python3.10/dist-packages (from requests~=2.32.3->-r ./requirements/requirements-tool_bench.txt (line 9)) (3.4.1)\n",
      "Requirement already satisfied: idna<4,>=2.5 in /usr/local/lib/python3.10/dist-packages (from requests~=2.32.3->-r ./requirements/requirements-tool_bench.txt (line 9)) (3.10)\n",
      "Requirement already satisfied: urllib3<3,>=1.21.1 in /usr/local/lib/python3.10/dist-packages (from requests~=2.32.3->-r ./requirements/requirements-tool_bench.txt (line 9)) (2.3.0)\n",
      "Requirement already satisfied: certifi>=2017.4.17 in /usr/local/lib/python3.10/dist-packages (from requests~=2.32.3->-r ./requirements/requirements-tool_bench.txt (line 9)) (2025.1.31)\n",
      "Requirement already satisfied: click>=8.0.0 in /usr/local/lib/python3.10/dist-packages (from typer~=0.15.1->-r ./requirements/requirements-tool_bench.txt (line 11)) (8.1.7)\n",
      "Requirement already satisfied: shellingham>=1.3.0 in /usr/local/lib/python3.10/dist-packages (from typer~=0.15.1->-r ./requirements/requirements-tool_bench.txt (line 11)) (1.5.4)\n",
      "Requirement already satisfied: rich>=10.11.0 in /usr/local/lib/python3.10/dist-packages (from typer~=0.15.1->-r ./requirements/requirements-tool_bench.txt (line 11)) (13.9.4)\n",
      "Requirement already satisfied: httpcore==1.* in /usr/local/lib/python3.10/dist-packages (from httpx<1,>=0.23.0->openai~=1.55.3->-r ./requirements/requirements-tool_bench.txt (line 6)) (1.0.7)\n",
      "Requirement already satisfied: h11<0.15,>=0.13 in /usr/local/lib/python3.10/dist-packages (from httpcore==1.*->httpx<1,>=0.23.0->openai~=1.55.3->-r ./requirements/requirements-tool_bench.txt (line 6)) (0.14.0)\n",
      "Requirement already satisfied: annotated-types>=0.6.0 in /usr/local/lib/python3.10/dist-packages (from pydantic<3,>=1.9.0->openai~=1.55.3->-r ./requirements/requirements-tool_bench.txt (line 6)) (0.7.0)\n",
      "Requirement already satisfied: pydantic-core==2.29.0 in /usr/local/lib/python3.10/dist-packages (from pydantic<3,>=1.9.0->openai~=1.55.3->-r ./requirements/requirements-tool_bench.txt (line 6)) (2.29.0)\n",
      "Requirement already satisfied: six>=1.5 in /usr/local/lib/python3.10/dist-packages (from python-dateutil>=2.7->matplotlib~=3.10.0->-r ./requirements/requirements-tool_bench.txt (line 4)) (1.17.0)\n",
      "Requirement already satisfied: markdown-it-py>=2.2.0 in /usr/local/lib/python3.10/dist-packages (from rich>=10.11.0->typer~=0.15.1->-r ./requirements/requirements-tool_bench.txt (line 11)) (3.0.0)\n",
      "Requirement already satisfied: pygments<3.0.0,>=2.13.0 in /usr/local/lib/python3.10/dist-packages (from rich>=10.11.0->typer~=0.15.1->-r ./requirements/requirements-tool_bench.txt (line 11)) (2.19.1)\n",
      "Requirement already satisfied: propcache>=0.2.0 in /usr/local/lib/python3.10/dist-packages (from yarl<2.0,>=1.0->aiohttp~=3.9.3->-r ./requirements/requirements-tool_bench.txt (line 1)) (0.2.1)\n",
      "Requirement already satisfied: MarkupSafe>=2.0 in /usr/local/lib/python3.10/dist-packages (from jinja2->torch~=2.2.1->-r ./requirements/requirements-convert_hf_to_gguf.txt (line 3)) (3.0.2)\n",
      "Requirement already satisfied: intel-openmp>=2024 in /usr/local/lib/python3.10/dist-packages (from mkl->numpy~=1.26.4->-r ./requirements/requirements-convert_legacy_llama.txt (line 1)) (2024.2.0)\n",
      "Requirement already satisfied: tbb==2022.* in /usr/local/lib/python3.10/dist-packages (from mkl->numpy~=1.26.4->-r ./requirements/requirements-convert_legacy_llama.txt (line 1)) (2022.0.0)\n",
      "Requirement already satisfied: tcmlib==1.* in /usr/local/lib/python3.10/dist-packages (from tbb==2022.*->mkl->numpy~=1.26.4->-r ./requirements/requirements-convert_legacy_llama.txt (line 1)) (1.2.0)\n",
      "Requirement already satisfied: intel-cmplr-lib-rt in /usr/local/lib/python3.10/dist-packages (from mkl_umath->numpy~=1.26.4->-r ./requirements/requirements-convert_legacy_llama.txt (line 1)) (2024.2.0)\n",
      "Requirement already satisfied: mpmath<1.4,>=1.1.0 in /usr/local/lib/python3.10/dist-packages (from sympy->torch~=2.2.1->-r ./requirements/requirements-convert_hf_to_gguf.txt (line 3)) (1.3.0)\n",
      "Requirement already satisfied: intel-cmplr-lib-ur==2024.2.0 in /usr/local/lib/python3.10/dist-packages (from intel-openmp>=2024->mkl->numpy~=1.26.4->-r ./requirements/requirements-convert_legacy_llama.txt (line 1)) (2024.2.0)\n",
      "Requirement already satisfied: mdurl~=0.1 in /usr/local/lib/python3.10/dist-packages (from markdown-it-py>=2.2.0->rich>=10.11.0->typer~=0.15.1->-r ./requirements/requirements-tool_bench.txt (line 11)) (0.1.2)\n",
      "Downloading transformers-4.46.3-py3-none-any.whl (10.0 MB)\n",
      "\u001b[2K   \u001b[90m━━━━━━━━━━━━━━━━━━━━━━━━━━━━━━━━━━━━━━━━\u001b[0m \u001b[32m10.0/10.0 MB\u001b[0m \u001b[31m87.2 MB/s\u001b[0m eta \u001b[36m0:00:00\u001b[0m:00:01\u001b[0m0:01\u001b[0m\n",
      "\u001b[?25hDownloading gguf-0.14.0-py3-none-any.whl (76 kB)\n",
      "\u001b[2K   \u001b[90m━━━━━━━━━━━━━━━━━━━━━━━━━━━━━━━━━━━━━━━━\u001b[0m \u001b[32m76.2/76.2 kB\u001b[0m \u001b[31m4.1 MB/s\u001b[0m eta \u001b[36m0:00:00\u001b[0m\n",
      "\u001b[?25hDownloading protobuf-4.25.6-cp37-abi3-manylinux2014_x86_64.whl (294 kB)\n",
      "\u001b[2K   \u001b[90m━━━━━━━━━━━━━━━━━━━━━━━━━━━━━━━━━━━━━━━━\u001b[0m \u001b[32m294.6/294.6 kB\u001b[0m \u001b[31m15.5 MB/s\u001b[0m eta \u001b[36m0:00:00\u001b[0m\n",
      "\u001b[?25hDownloading aiohttp-3.9.5-cp310-cp310-manylinux_2_17_x86_64.manylinux2014_x86_64.whl (1.2 MB)\n",
      "\u001b[2K   \u001b[90m━━━━━━━━━━━━━━━━━━━━━━━━━━━━━━━━━━━━━━━━\u001b[0m \u001b[32m1.2/1.2 MB\u001b[0m \u001b[31m44.7 MB/s\u001b[0m eta \u001b[36m0:00:00\u001b[0m\n",
      "\u001b[?25hDownloading huggingface_hub-0.23.5-py3-none-any.whl (402 kB)\n",
      "\u001b[2K   \u001b[90m━━━━━━━━━━━━━━━━━━━━━━━━━━━━━━━━━━━━━━━━\u001b[0m \u001b[32m402.8/402.8 kB\u001b[0m \u001b[31m22.6 MB/s\u001b[0m eta \u001b[36m0:00:00\u001b[0m\n",
      "\u001b[?25hDownloading matplotlib-3.10.1-cp310-cp310-manylinux_2_17_x86_64.manylinux2014_x86_64.whl (8.6 MB)\n",
      "\u001b[2K   \u001b[90m━━━━━━━━━━━━━━━━━━━━━━━━━━━━━━━━━━━━━━━━\u001b[0m \u001b[32m8.6/8.6 MB\u001b[0m \u001b[31m73.3 MB/s\u001b[0m eta \u001b[36m0:00:00\u001b[0m:00:01\u001b[0m00:01\u001b[0m\n",
      "\u001b[?25hDownloading openai-1.55.3-py3-none-any.whl (389 kB)\n",
      "\u001b[2K   \u001b[90m━━━━━━━━━━━━━━━━━━━━━━━━━━━━━━━━━━━━━━━━\u001b[0m \u001b[32m389.6/389.6 kB\u001b[0m \u001b[31m22.5 MB/s\u001b[0m eta \u001b[36m0:00:00\u001b[0m\n",
      "\u001b[?25hDownloading prometheus_client-0.20.0-py3-none-any.whl (54 kB)\n",
      "\u001b[2K   \u001b[90m━━━━━━━━━━━━━━━━━━━━━━━━━━━━━━━━━━━━━━━━\u001b[0m \u001b[32m54.5/54.5 kB\u001b[0m \u001b[31m3.5 MB/s\u001b[0m eta \u001b[36m0:00:00\u001b[0m\n",
      "\u001b[?25hDownloading seaborn-0.13.2-py3-none-any.whl (294 kB)\n",
      "\u001b[2K   \u001b[90m━━━━━━━━━━━━━━━━━━━━━━━━━━━━━━━━━━━━━━━━\u001b[0m \u001b[32m294.9/294.9 kB\u001b[0m \u001b[31m14.6 MB/s\u001b[0m eta \u001b[36m0:00:00\u001b[0m\n",
      "\u001b[?25hDownloading async_timeout-4.0.3-py3-none-any.whl (5.7 kB)\n",
      "Downloading tokenizers-0.20.3-cp310-cp310-manylinux_2_17_x86_64.manylinux2014_x86_64.whl (3.0 MB)\n",
      "\u001b[2K   \u001b[90m━━━━━━━━━━━━━━━━━━━━━━━━━━━━━━━━━━━━━━━━\u001b[0m \u001b[32m3.0/3.0 MB\u001b[0m \u001b[31m70.2 MB/s\u001b[0m eta \u001b[36m0:00:00\u001b[0m:00:01\u001b[0m\n",
      "\u001b[?25hBuilding wheels for collected packages: wget\n",
      "  Building wheel for wget (setup.py) ... \u001b[?25l\u001b[?25hdone\n",
      "  Created wheel for wget: filename=wget-3.2-py3-none-any.whl size=9656 sha256=4f36b6295d9dc6dcb54b9af1f1cf1d0766792b3056885f0e9705bdf50bd7137b\n",
      "  Stored in directory: /root/.cache/pip/wheels/8b/f1/7f/5c94f0a7a505ca1c81cd1d9208ae2064675d97582078e6c769\n",
      "Successfully built wget\n",
      "Installing collected packages: wget, protobuf, prometheus-client, async-timeout, torch, huggingface_hub, tokenizers, openai, aiohttp, matplotlib, transformers, seaborn, gguf\n",
      "  Attempting uninstall: protobuf\n",
      "    Found existing installation: protobuf 3.20.3\n",
      "    Uninstalling protobuf-3.20.3:\n",
      "      Successfully uninstalled protobuf-3.20.3\n",
      "  Attempting uninstall: prometheus-client\n",
      "    Found existing installation: prometheus_client 0.21.1\n",
      "    Uninstalling prometheus_client-0.21.1:\n",
      "      Successfully uninstalled prometheus_client-0.21.1\n",
      "  Attempting uninstall: async-timeout\n",
      "    Found existing installation: async-timeout 5.0.1\n",
      "    Uninstalling async-timeout-5.0.1:\n",
      "      Successfully uninstalled async-timeout-5.0.1\n",
      "  Attempting uninstall: torch\n",
      "    Found existing installation: torch 2.5.1+cu121\n",
      "    Uninstalling torch-2.5.1+cu121:\n",
      "      Successfully uninstalled torch-2.5.1+cu121\n",
      "  Attempting uninstall: huggingface_hub\n",
      "    Found existing installation: huggingface-hub 0.29.0\n",
      "    Uninstalling huggingface-hub-0.29.0:\n",
      "      Successfully uninstalled huggingface-hub-0.29.0\n",
      "  Attempting uninstall: tokenizers\n",
      "    Found existing installation: tokenizers 0.21.0\n",
      "    Uninstalling tokenizers-0.21.0:\n",
      "      Successfully uninstalled tokenizers-0.21.0\n",
      "  Attempting uninstall: openai\n",
      "    Found existing installation: openai 1.57.4\n",
      "    Uninstalling openai-1.57.4:\n",
      "      Successfully uninstalled openai-1.57.4\n",
      "  Attempting uninstall: aiohttp\n",
      "    Found existing installation: aiohttp 3.11.12\n",
      "    Uninstalling aiohttp-3.11.12:\n",
      "      Successfully uninstalled aiohttp-3.11.12\n",
      "  Attempting uninstall: matplotlib\n",
      "    Found existing installation: matplotlib 3.7.5\n",
      "    Uninstalling matplotlib-3.7.5:\n",
      "      Successfully uninstalled matplotlib-3.7.5\n",
      "  Attempting uninstall: transformers\n",
      "    Found existing installation: transformers 4.47.0\n",
      "    Uninstalling transformers-4.47.0:\n",
      "      Successfully uninstalled transformers-4.47.0\n",
      "  Attempting uninstall: seaborn\n",
      "    Found existing installation: seaborn 0.12.2\n",
      "    Uninstalling seaborn-0.12.2:\n",
      "      Successfully uninstalled seaborn-0.12.2\n",
      "\u001b[31mERROR: pip's dependency resolver does not currently take into account all the packages that are installed. This behaviour is the source of the following dependency conflicts.\n",
      "datasets 3.3.1 requires huggingface-hub>=0.24.0, but you have huggingface-hub 0.23.5 which is incompatible.\n",
      "gcsfs 2024.10.0 requires fsspec==2024.10.0, but you have fsspec 2024.12.0 which is incompatible.\n",
      "google-api-core 1.34.1 requires protobuf!=3.20.0,!=3.20.1,!=4.21.0,!=4.21.1,!=4.21.2,!=4.21.3,!=4.21.4,!=4.21.5,<4.0.0dev,>=3.19.5, but you have protobuf 4.25.6 which is incompatible.\n",
      "google-cloud-bigtable 2.27.0 requires google-api-core[grpc]<3.0.0dev,>=2.16.0, but you have google-api-core 1.34.1 which is incompatible.\n",
      "mlxtend 0.23.3 requires scikit-learn>=1.3.1, but you have scikit-learn 1.2.2 which is incompatible.\n",
      "pandas-gbq 0.25.0 requires google-api-core<3.0.0dev,>=2.10.2, but you have google-api-core 1.34.1 which is incompatible.\n",
      "peft 0.14.0 requires huggingface-hub>=0.25.0, but you have huggingface-hub 0.23.5 which is incompatible.\n",
      "tensorflow-decision-forests 1.10.0 requires tensorflow==2.17.0, but you have tensorflow 2.17.1 which is incompatible.\n",
      "torchaudio 2.5.1+cu121 requires torch==2.5.1, but you have torch 2.2.2+cpu which is incompatible.\n",
      "torchvision 0.20.1+cu121 requires torch==2.5.1, but you have torch 2.2.2+cpu which is incompatible.\u001b[0m\u001b[31m\n",
      "\u001b[0mSuccessfully installed aiohttp-3.9.5 async-timeout-4.0.3 gguf-0.14.0 huggingface_hub-0.23.5 matplotlib-3.10.1 openai-1.55.3 prometheus-client-0.20.0 protobuf-4.25.6 seaborn-0.13.2 tokenizers-0.20.3 torch-2.2.2+cpu transformers-4.46.3 wget-3.2\n",
      "Note: you may need to restart the kernel to use updated packages.\n",
      "/kaggle/working\n"
     ]
    }
   ],
   "source": [
    "# Install necessary libraries (run this in a separate cell if not already installed)\n",
    "%pip install transformers safetensors huggingface_hub\n",
    "\n",
    "# Clone llama.cpp repository and install its requirements\n",
    "!git clone https://github.com/ggerganov/llama.cpp.git\n",
    "%cd llama.cpp\n",
    "%pip install -r requirements.txt\n",
    "%cd .."
   ]
  },
  {
   "cell_type": "code",
   "execution_count": 12,
   "metadata": {},
   "outputs": [
    {
     "name": "stdout",
     "output_type": "stream",
     "text": [
      "Directories: ['llama.cpp', '.virtual_documents', 'hf-llama-3.2-sentiment-classifier', 'results']\n"
     ]
    }
   ],
   "source": [
    "import os\n",
    "\n",
    "# List directories in the current working directory\n",
    "directories = [d for d in os.listdir('.') if os.path.isdir(d)]\n",
    "print(\"Directories:\", directories)"
   ]
  },
  {
   "cell_type": "code",
   "execution_count": 20,
   "metadata": {},
   "outputs": [
    {
     "name": "stdout",
     "output_type": "stream",
     "text": [
      "\n",
      "\n",
      "=== Alternative: Converting using %run ===\n",
      "Traceback (most recent call last):\n",
      "  File \"/kaggle/working/llama.cpp/convert_hf_to_gguf.py\", line 5486, in main\n",
      "    model_class = Model.from_model_architecture(model_architecture)\n",
      "  File \"/kaggle/working/llama.cpp/convert_hf_to_gguf.py\", line 492, in from_model_architecture\n",
      "    raise NotImplementedError(f'Architecture {arch!r} not supported!') from None\n",
      "NotImplementedError: Architecture 'Qwen2ForSequenceClassification' not supported!\n",
      "\n",
      "During handling of the above exception, another exception occurred:\n",
      "\n",
      "Traceback (most recent call last):\n",
      "  File \"/usr/local/lib/python3.10/dist-packages/IPython/core/interactiveshell.py\", line 2831, in safe_execfile\n",
      "    py3compat.execfile(\n",
      "  File \"/usr/local/lib/python3.10/dist-packages/IPython/utils/py3compat.py\", line 168, in execfile\n",
      "    exec(compiler(f.read(), fname, 'exec'), glob, loc)\n",
      "  File \"/kaggle/working/llama.cpp/convert_hf_to_gguf.py\", line 5511, in <module>\n",
      "    main()\n",
      "  File \"/kaggle/working/llama.cpp/convert_hf_to_gguf.py\", line 5489, in main\n",
      "    sys.exit(1)\n",
      "SystemExit: 1\n",
      "\n",
      "During handling of the above exception, another exception occurred:\n",
      "\n",
      "Traceback (most recent call last):\n",
      "  File \"/usr/local/lib/python3.10/dist-packages/IPython/core/ultratb.py\", line 1101, in get_records\n",
      "    return _fixed_getinnerframes(etb, number_of_lines_of_context, tb_offset)\n",
      "  File \"/usr/local/lib/python3.10/dist-packages/IPython/core/ultratb.py\", line 248, in wrapped\n",
      "    return f(*args, **kwargs)\n",
      "  File \"/usr/local/lib/python3.10/dist-packages/IPython/core/ultratb.py\", line 281, in _fixed_getinnerframes\n",
      "    records = fix_frame_records_filenames(inspect.getinnerframes(etb, context))\n",
      "  File \"/usr/lib/python3.10/inspect.py\", line 1662, in getinnerframes\n",
      "    frameinfo = (tb.tb_frame,) + getframeinfo(tb, context)\n",
      "AttributeError: 'tuple' object has no attribute 'tb_frame'\n"
     ]
    },
    {
     "ename": "TypeError",
     "evalue": "object of type 'NoneType' has no len()",
     "output_type": "error",
     "traceback": [
      "\u001b[0;31m---------------------------------------------------------------------------\u001b[0m",
      "\u001b[0;31mNotImplementedError\u001b[0m                       Traceback (most recent call last)",
      "\u001b[0;32m/kaggle/working/llama.cpp/convert_hf_to_gguf.py\u001b[0m in \u001b[0;36mmain\u001b[0;34m()\u001b[0m\n\u001b[1;32m   5485\u001b[0m         \u001b[0;32mtry\u001b[0m\u001b[0;34m:\u001b[0m\u001b[0;34m\u001b[0m\u001b[0;34m\u001b[0m\u001b[0m\n\u001b[0;32m-> 5486\u001b[0;31m             \u001b[0mmodel_class\u001b[0m \u001b[0;34m=\u001b[0m \u001b[0mModel\u001b[0m\u001b[0;34m.\u001b[0m\u001b[0mfrom_model_architecture\u001b[0m\u001b[0;34m(\u001b[0m\u001b[0mmodel_architecture\u001b[0m\u001b[0;34m)\u001b[0m\u001b[0;34m\u001b[0m\u001b[0;34m\u001b[0m\u001b[0m\n\u001b[0m\u001b[1;32m   5487\u001b[0m         \u001b[0;32mexcept\u001b[0m \u001b[0mNotImplementedError\u001b[0m\u001b[0;34m:\u001b[0m\u001b[0;34m\u001b[0m\u001b[0;34m\u001b[0m\u001b[0m\n",
      "\u001b[0;32m/kaggle/working/llama.cpp/convert_hf_to_gguf.py\u001b[0m in \u001b[0;36mfrom_model_architecture\u001b[0;34m(cls, arch)\u001b[0m\n\u001b[1;32m    491\u001b[0m         \u001b[0;32mexcept\u001b[0m \u001b[0mKeyError\u001b[0m\u001b[0;34m:\u001b[0m\u001b[0;34m\u001b[0m\u001b[0;34m\u001b[0m\u001b[0m\n\u001b[0;32m--> 492\u001b[0;31m             \u001b[0;32mraise\u001b[0m \u001b[0mNotImplementedError\u001b[0m\u001b[0;34m(\u001b[0m\u001b[0;34mf'Architecture {arch!r} not supported!'\u001b[0m\u001b[0;34m)\u001b[0m \u001b[0;32mfrom\u001b[0m \u001b[0;32mNone\u001b[0m\u001b[0;34m\u001b[0m\u001b[0;34m\u001b[0m\u001b[0m\n\u001b[0m\u001b[1;32m    493\u001b[0m \u001b[0;34m\u001b[0m\u001b[0m\n",
      "\u001b[0;31mNotImplementedError\u001b[0m: Architecture 'Qwen2ForSequenceClassification' not supported!",
      "\nDuring handling of the above exception, another exception occurred:\n",
      "\u001b[0;31mSystemExit\u001b[0m                                Traceback (most recent call last)",
      "\u001b[0;32m/usr/local/lib/python3.10/dist-packages/IPython/core/interactiveshell.py\u001b[0m in \u001b[0;36msafe_execfile\u001b[0;34m(self, fname, exit_ignore, raise_exceptions, shell_futures, *where)\u001b[0m\n\u001b[1;32m   2830\u001b[0m                 \u001b[0mglob\u001b[0m\u001b[0;34m,\u001b[0m \u001b[0mloc\u001b[0m \u001b[0;34m=\u001b[0m \u001b[0;34m(\u001b[0m\u001b[0mwhere\u001b[0m \u001b[0;34m+\u001b[0m \u001b[0;34m(\u001b[0m\u001b[0;32mNone\u001b[0m\u001b[0;34m,\u001b[0m \u001b[0;34m)\u001b[0m\u001b[0;34m)\u001b[0m\u001b[0;34m[\u001b[0m\u001b[0;34m:\u001b[0m\u001b[0;36m2\u001b[0m\u001b[0;34m]\u001b[0m\u001b[0;34m\u001b[0m\u001b[0;34m\u001b[0m\u001b[0m\n\u001b[0;32m-> 2831\u001b[0;31m                 py3compat.execfile(\n\u001b[0m\u001b[1;32m   2832\u001b[0m                     \u001b[0mfname\u001b[0m\u001b[0;34m,\u001b[0m \u001b[0mglob\u001b[0m\u001b[0;34m,\u001b[0m \u001b[0mloc\u001b[0m\u001b[0;34m,\u001b[0m\u001b[0;34m\u001b[0m\u001b[0;34m\u001b[0m\u001b[0m\n",
      "\u001b[0;32m/usr/local/lib/python3.10/dist-packages/IPython/utils/py3compat.py\u001b[0m in \u001b[0;36mexecfile\u001b[0;34m(fname, glob, loc, compiler)\u001b[0m\n\u001b[1;32m    167\u001b[0m         \u001b[0mcompiler\u001b[0m \u001b[0;34m=\u001b[0m \u001b[0mcompiler\u001b[0m \u001b[0;32mor\u001b[0m \u001b[0mcompile\u001b[0m\u001b[0;34m\u001b[0m\u001b[0;34m\u001b[0m\u001b[0m\n\u001b[0;32m--> 168\u001b[0;31m         \u001b[0mexec\u001b[0m\u001b[0;34m(\u001b[0m\u001b[0mcompiler\u001b[0m\u001b[0;34m(\u001b[0m\u001b[0mf\u001b[0m\u001b[0;34m.\u001b[0m\u001b[0mread\u001b[0m\u001b[0;34m(\u001b[0m\u001b[0;34m)\u001b[0m\u001b[0;34m,\u001b[0m \u001b[0mfname\u001b[0m\u001b[0;34m,\u001b[0m \u001b[0;34m'exec'\u001b[0m\u001b[0;34m)\u001b[0m\u001b[0;34m,\u001b[0m \u001b[0mglob\u001b[0m\u001b[0;34m,\u001b[0m \u001b[0mloc\u001b[0m\u001b[0;34m)\u001b[0m\u001b[0;34m\u001b[0m\u001b[0;34m\u001b[0m\u001b[0m\n\u001b[0m\u001b[1;32m    169\u001b[0m \u001b[0;34m\u001b[0m\u001b[0m\n",
      "\u001b[0;32m/kaggle/working/llama.cpp/convert_hf_to_gguf.py\u001b[0m in \u001b[0;36m<module>\u001b[0;34m\u001b[0m\n\u001b[1;32m   5510\u001b[0m \u001b[0;32mif\u001b[0m \u001b[0m__name__\u001b[0m \u001b[0;34m==\u001b[0m \u001b[0;34m'__main__'\u001b[0m\u001b[0;34m:\u001b[0m\u001b[0;34m\u001b[0m\u001b[0;34m\u001b[0m\u001b[0m\n\u001b[0;32m-> 5511\u001b[0;31m     \u001b[0mmain\u001b[0m\u001b[0;34m(\u001b[0m\u001b[0;34m)\u001b[0m\u001b[0;34m\u001b[0m\u001b[0;34m\u001b[0m\u001b[0m\n\u001b[0m",
      "\u001b[0;32m/kaggle/working/llama.cpp/convert_hf_to_gguf.py\u001b[0m in \u001b[0;36mmain\u001b[0;34m()\u001b[0m\n\u001b[1;32m   5488\u001b[0m             \u001b[0mlogger\u001b[0m\u001b[0;34m.\u001b[0m\u001b[0merror\u001b[0m\u001b[0;34m(\u001b[0m\u001b[0;34mf\"Model {model_architecture} is not supported\"\u001b[0m\u001b[0;34m)\u001b[0m\u001b[0;34m\u001b[0m\u001b[0;34m\u001b[0m\u001b[0m\n\u001b[0;32m-> 5489\u001b[0;31m             \u001b[0msys\u001b[0m\u001b[0;34m.\u001b[0m\u001b[0mexit\u001b[0m\u001b[0;34m(\u001b[0m\u001b[0;36m1\u001b[0m\u001b[0;34m)\u001b[0m\u001b[0;34m\u001b[0m\u001b[0;34m\u001b[0m\u001b[0m\n\u001b[0m\u001b[1;32m   5490\u001b[0m \u001b[0;34m\u001b[0m\u001b[0m\n",
      "\u001b[0;31mSystemExit\u001b[0m: 1",
      "\nDuring handling of the above exception, another exception occurred:\n",
      "\u001b[0;31mTypeError\u001b[0m                                 Traceback (most recent call last)",
      "\u001b[0;32m<ipython-input-20-65778b17555d>\u001b[0m in \u001b[0;36m<cell line: 46>\u001b[0;34m()\u001b[0m\n\u001b[1;32m     44\u001b[0m \u001b[0;34m\u001b[0m\u001b[0m\n\u001b[1;32m     45\u001b[0m \u001b[0mprint\u001b[0m\u001b[0;34m(\u001b[0m\u001b[0;34m\"\\n\\n=== Alternative: Converting using %run ===\"\u001b[0m\u001b[0;34m)\u001b[0m\u001b[0;34m\u001b[0m\u001b[0;34m\u001b[0m\u001b[0m\n\u001b[0;32m---> 46\u001b[0;31m \u001b[0mget_ipython\u001b[0m\u001b[0;34m(\u001b[0m\u001b[0;34m)\u001b[0m\u001b[0;34m.\u001b[0m\u001b[0mrun_line_magic\u001b[0m\u001b[0;34m(\u001b[0m\u001b[0;34m'run'\u001b[0m\u001b[0;34m,\u001b[0m \u001b[0;34m'{llama_cpp_dir}/convert_hf_to_gguf.py {hf_dir} --outfile {output_gguf}_alt --verbose'\u001b[0m\u001b[0;34m)\u001b[0m\u001b[0;34m\u001b[0m\u001b[0;34m\u001b[0m\u001b[0m\n\u001b[0m\u001b[1;32m     47\u001b[0m \u001b[0;31m# Run the conversion command\u001b[0m\u001b[0;34m\u001b[0m\u001b[0;34m\u001b[0m\u001b[0m\n\u001b[1;32m     48\u001b[0m \u001b[0;34m\u001b[0m\u001b[0m\n",
      "\u001b[0;32m/usr/local/lib/python3.10/dist-packages/IPython/core/interactiveshell.py\u001b[0m in \u001b[0;36mrun_line_magic\u001b[0;34m(self, magic_name, line, _stack_depth)\u001b[0m\n\u001b[1;32m   2416\u001b[0m                 \u001b[0mkwargs\u001b[0m\u001b[0;34m[\u001b[0m\u001b[0;34m'local_ns'\u001b[0m\u001b[0;34m]\u001b[0m \u001b[0;34m=\u001b[0m \u001b[0mself\u001b[0m\u001b[0;34m.\u001b[0m\u001b[0mget_local_scope\u001b[0m\u001b[0;34m(\u001b[0m\u001b[0mstack_depth\u001b[0m\u001b[0;34m)\u001b[0m\u001b[0;34m\u001b[0m\u001b[0;34m\u001b[0m\u001b[0m\n\u001b[1;32m   2417\u001b[0m             \u001b[0;32mwith\u001b[0m \u001b[0mself\u001b[0m\u001b[0;34m.\u001b[0m\u001b[0mbuiltin_trap\u001b[0m\u001b[0;34m:\u001b[0m\u001b[0;34m\u001b[0m\u001b[0;34m\u001b[0m\u001b[0m\n\u001b[0;32m-> 2418\u001b[0;31m                 \u001b[0mresult\u001b[0m \u001b[0;34m=\u001b[0m \u001b[0mfn\u001b[0m\u001b[0;34m(\u001b[0m\u001b[0;34m*\u001b[0m\u001b[0margs\u001b[0m\u001b[0;34m,\u001b[0m \u001b[0;34m**\u001b[0m\u001b[0mkwargs\u001b[0m\u001b[0;34m)\u001b[0m\u001b[0;34m\u001b[0m\u001b[0;34m\u001b[0m\u001b[0m\n\u001b[0m\u001b[1;32m   2419\u001b[0m             \u001b[0;32mreturn\u001b[0m \u001b[0mresult\u001b[0m\u001b[0;34m\u001b[0m\u001b[0;34m\u001b[0m\u001b[0m\n\u001b[1;32m   2420\u001b[0m \u001b[0;34m\u001b[0m\u001b[0m\n",
      "\u001b[0;32m<decorator-gen-52>\u001b[0m in \u001b[0;36mrun\u001b[0;34m(self, parameter_s, runner, file_finder)\u001b[0m\n",
      "\u001b[0;32m/usr/local/lib/python3.10/dist-packages/IPython/core/magic.py\u001b[0m in \u001b[0;36m<lambda>\u001b[0;34m(f, *a, **k)\u001b[0m\n\u001b[1;32m    185\u001b[0m     \u001b[0;31m# but it's overkill for just that one bit of state.\u001b[0m\u001b[0;34m\u001b[0m\u001b[0;34m\u001b[0m\u001b[0m\n\u001b[1;32m    186\u001b[0m     \u001b[0;32mdef\u001b[0m \u001b[0mmagic_deco\u001b[0m\u001b[0;34m(\u001b[0m\u001b[0marg\u001b[0m\u001b[0;34m)\u001b[0m\u001b[0;34m:\u001b[0m\u001b[0;34m\u001b[0m\u001b[0;34m\u001b[0m\u001b[0m\n\u001b[0;32m--> 187\u001b[0;31m         \u001b[0mcall\u001b[0m \u001b[0;34m=\u001b[0m \u001b[0;32mlambda\u001b[0m \u001b[0mf\u001b[0m\u001b[0;34m,\u001b[0m \u001b[0;34m*\u001b[0m\u001b[0ma\u001b[0m\u001b[0;34m,\u001b[0m \u001b[0;34m**\u001b[0m\u001b[0mk\u001b[0m\u001b[0;34m:\u001b[0m \u001b[0mf\u001b[0m\u001b[0;34m(\u001b[0m\u001b[0;34m*\u001b[0m\u001b[0ma\u001b[0m\u001b[0;34m,\u001b[0m \u001b[0;34m**\u001b[0m\u001b[0mk\u001b[0m\u001b[0;34m)\u001b[0m\u001b[0;34m\u001b[0m\u001b[0;34m\u001b[0m\u001b[0m\n\u001b[0m\u001b[1;32m    188\u001b[0m \u001b[0;34m\u001b[0m\u001b[0m\n\u001b[1;32m    189\u001b[0m         \u001b[0;32mif\u001b[0m \u001b[0mcallable\u001b[0m\u001b[0;34m(\u001b[0m\u001b[0marg\u001b[0m\u001b[0;34m)\u001b[0m\u001b[0;34m:\u001b[0m\u001b[0;34m\u001b[0m\u001b[0;34m\u001b[0m\u001b[0m\n",
      "\u001b[0;32m/usr/local/lib/python3.10/dist-packages/IPython/core/magics/execution.py\u001b[0m in \u001b[0;36mrun\u001b[0;34m(self, parameter_s, runner, file_finder)\u001b[0m\n\u001b[1;32m    845\u001b[0m                     \u001b[0;32melse\u001b[0m\u001b[0;34m:\u001b[0m\u001b[0;34m\u001b[0m\u001b[0;34m\u001b[0m\u001b[0m\n\u001b[1;32m    846\u001b[0m                         \u001b[0;31m# regular execution\u001b[0m\u001b[0;34m\u001b[0m\u001b[0;34m\u001b[0m\u001b[0m\n\u001b[0;32m--> 847\u001b[0;31m                         \u001b[0mrun\u001b[0m\u001b[0;34m(\u001b[0m\u001b[0;34m)\u001b[0m\u001b[0;34m\u001b[0m\u001b[0;34m\u001b[0m\u001b[0m\n\u001b[0m\u001b[1;32m    848\u001b[0m \u001b[0;34m\u001b[0m\u001b[0m\n\u001b[1;32m    849\u001b[0m             \u001b[0;32mif\u001b[0m \u001b[0;34m'i'\u001b[0m \u001b[0;32min\u001b[0m \u001b[0mopts\u001b[0m\u001b[0;34m:\u001b[0m\u001b[0;34m\u001b[0m\u001b[0;34m\u001b[0m\u001b[0m\n",
      "\u001b[0;32m/usr/local/lib/python3.10/dist-packages/IPython/core/magics/execution.py\u001b[0m in \u001b[0;36mrun\u001b[0;34m()\u001b[0m\n\u001b[1;32m    830\u001b[0m \u001b[0;34m\u001b[0m\u001b[0m\n\u001b[1;32m    831\u001b[0m                         \u001b[0;32mdef\u001b[0m \u001b[0mrun\u001b[0m\u001b[0;34m(\u001b[0m\u001b[0;34m)\u001b[0m\u001b[0;34m:\u001b[0m\u001b[0;34m\u001b[0m\u001b[0;34m\u001b[0m\u001b[0m\n\u001b[0;32m--> 832\u001b[0;31m                             runner(filename, prog_ns, prog_ns,\n\u001b[0m\u001b[1;32m    833\u001b[0m                                     exit_ignore=exit_ignore)\n\u001b[1;32m    834\u001b[0m \u001b[0;34m\u001b[0m\u001b[0m\n",
      "\u001b[0;32m/usr/local/lib/python3.10/dist-packages/IPython/core/pylabtools.py\u001b[0m in \u001b[0;36mmpl_execfile\u001b[0;34m(fname, *where, **kw)\u001b[0m\n\u001b[1;32m    210\u001b[0m         \u001b[0mis_interactive\u001b[0m \u001b[0;34m=\u001b[0m \u001b[0mmatplotlib\u001b[0m\u001b[0;34m.\u001b[0m\u001b[0mrcParams\u001b[0m\u001b[0;34m[\u001b[0m\u001b[0;34m'interactive'\u001b[0m\u001b[0;34m]\u001b[0m\u001b[0;34m\u001b[0m\u001b[0;34m\u001b[0m\u001b[0m\n\u001b[1;32m    211\u001b[0m         \u001b[0mmatplotlib\u001b[0m\u001b[0;34m.\u001b[0m\u001b[0minteractive\u001b[0m\u001b[0;34m(\u001b[0m\u001b[0;32mFalse\u001b[0m\u001b[0;34m)\u001b[0m\u001b[0;34m\u001b[0m\u001b[0;34m\u001b[0m\u001b[0m\n\u001b[0;32m--> 212\u001b[0;31m         \u001b[0msafe_execfile\u001b[0m\u001b[0;34m(\u001b[0m\u001b[0mfname\u001b[0m\u001b[0;34m,\u001b[0m\u001b[0;34m*\u001b[0m\u001b[0mwhere\u001b[0m\u001b[0;34m,\u001b[0m\u001b[0;34m**\u001b[0m\u001b[0mkw\u001b[0m\u001b[0;34m)\u001b[0m\u001b[0;34m\u001b[0m\u001b[0;34m\u001b[0m\u001b[0m\n\u001b[0m\u001b[1;32m    213\u001b[0m         \u001b[0mmatplotlib\u001b[0m\u001b[0;34m.\u001b[0m\u001b[0minteractive\u001b[0m\u001b[0;34m(\u001b[0m\u001b[0mis_interactive\u001b[0m\u001b[0;34m)\u001b[0m\u001b[0;34m\u001b[0m\u001b[0;34m\u001b[0m\u001b[0m\n\u001b[1;32m    214\u001b[0m         \u001b[0;31m# make rendering call now, if the user tried to do it\u001b[0m\u001b[0;34m\u001b[0m\u001b[0;34m\u001b[0m\u001b[0m\n",
      "\u001b[0;32m/usr/local/lib/python3.10/dist-packages/IPython/core/interactiveshell.py\u001b[0m in \u001b[0;36msafe_execfile\u001b[0;34m(self, fname, exit_ignore, raise_exceptions, shell_futures, *where)\u001b[0m\n\u001b[1;32m   2846\u001b[0m                         \u001b[0;32mraise\u001b[0m\u001b[0;34m\u001b[0m\u001b[0;34m\u001b[0m\u001b[0m\n\u001b[1;32m   2847\u001b[0m                     \u001b[0;32mif\u001b[0m \u001b[0;32mnot\u001b[0m \u001b[0mexit_ignore\u001b[0m\u001b[0;34m:\u001b[0m\u001b[0;34m\u001b[0m\u001b[0;34m\u001b[0m\u001b[0m\n\u001b[0;32m-> 2848\u001b[0;31m                         \u001b[0mself\u001b[0m\u001b[0;34m.\u001b[0m\u001b[0mshowtraceback\u001b[0m\u001b[0;34m(\u001b[0m\u001b[0mexception_only\u001b[0m\u001b[0;34m=\u001b[0m\u001b[0;32mTrue\u001b[0m\u001b[0;34m)\u001b[0m\u001b[0;34m\u001b[0m\u001b[0;34m\u001b[0m\u001b[0m\n\u001b[0m\u001b[1;32m   2849\u001b[0m             \u001b[0;32mexcept\u001b[0m\u001b[0;34m:\u001b[0m\u001b[0;34m\u001b[0m\u001b[0;34m\u001b[0m\u001b[0m\n\u001b[1;32m   2850\u001b[0m                 \u001b[0;32mif\u001b[0m \u001b[0mraise_exceptions\u001b[0m\u001b[0;34m:\u001b[0m\u001b[0;34m\u001b[0m\u001b[0;34m\u001b[0m\u001b[0m\n",
      "\u001b[0;32m/usr/local/lib/python3.10/dist-packages/IPython/core/interactiveshell.py\u001b[0m in \u001b[0;36mshowtraceback\u001b[0;34m(self, exc_tuple, filename, tb_offset, exception_only, running_compiled_code)\u001b[0m\n\u001b[1;32m   2090\u001b[0m                     stb = ['An exception has occurred, use %tb to see '\n\u001b[1;32m   2091\u001b[0m                            'the full traceback.\\n']\n\u001b[0;32m-> 2092\u001b[0;31m                     stb.extend(self.InteractiveTB.get_exception_only(etype,\n\u001b[0m\u001b[1;32m   2093\u001b[0m                                                                      value))\n\u001b[1;32m   2094\u001b[0m                 \u001b[0;32melse\u001b[0m\u001b[0;34m:\u001b[0m\u001b[0;34m\u001b[0m\u001b[0;34m\u001b[0m\u001b[0m\n",
      "\u001b[0;32m/usr/local/lib/python3.10/dist-packages/IPython/core/ultratb.py\u001b[0m in \u001b[0;36mget_exception_only\u001b[0;34m(self, etype, value)\u001b[0m\n\u001b[1;32m    752\u001b[0m         \u001b[0mvalue\u001b[0m \u001b[0;34m:\u001b[0m \u001b[0mexception\u001b[0m \u001b[0mvalue\u001b[0m\u001b[0;34m\u001b[0m\u001b[0;34m\u001b[0m\u001b[0m\n\u001b[1;32m    753\u001b[0m         \"\"\"\n\u001b[0;32m--> 754\u001b[0;31m         \u001b[0;32mreturn\u001b[0m \u001b[0mListTB\u001b[0m\u001b[0;34m.\u001b[0m\u001b[0mstructured_traceback\u001b[0m\u001b[0;34m(\u001b[0m\u001b[0mself\u001b[0m\u001b[0;34m,\u001b[0m \u001b[0metype\u001b[0m\u001b[0;34m,\u001b[0m \u001b[0mvalue\u001b[0m\u001b[0;34m)\u001b[0m\u001b[0;34m\u001b[0m\u001b[0;34m\u001b[0m\u001b[0m\n\u001b[0m\u001b[1;32m    755\u001b[0m \u001b[0;34m\u001b[0m\u001b[0m\n\u001b[1;32m    756\u001b[0m     \u001b[0;32mdef\u001b[0m \u001b[0mshow_exception_only\u001b[0m\u001b[0;34m(\u001b[0m\u001b[0mself\u001b[0m\u001b[0;34m,\u001b[0m \u001b[0metype\u001b[0m\u001b[0;34m,\u001b[0m \u001b[0mevalue\u001b[0m\u001b[0;34m)\u001b[0m\u001b[0;34m:\u001b[0m\u001b[0;34m\u001b[0m\u001b[0;34m\u001b[0m\u001b[0m\n",
      "\u001b[0;32m/usr/local/lib/python3.10/dist-packages/IPython/core/ultratb.py\u001b[0m in \u001b[0;36mstructured_traceback\u001b[0;34m(self, etype, evalue, etb, tb_offset, context)\u001b[0m\n\u001b[1;32m    627\u001b[0m             \u001b[0mchained_exceptions_tb_offset\u001b[0m \u001b[0;34m=\u001b[0m \u001b[0;36m0\u001b[0m\u001b[0;34m\u001b[0m\u001b[0;34m\u001b[0m\u001b[0m\n\u001b[1;32m    628\u001b[0m             out_list = (\n\u001b[0;32m--> 629\u001b[0;31m                 self.structured_traceback(\n\u001b[0m\u001b[1;32m    630\u001b[0m                     \u001b[0metype\u001b[0m\u001b[0;34m,\u001b[0m \u001b[0mevalue\u001b[0m\u001b[0;34m,\u001b[0m \u001b[0;34m(\u001b[0m\u001b[0metb\u001b[0m\u001b[0;34m,\u001b[0m \u001b[0mchained_exc_ids\u001b[0m\u001b[0;34m)\u001b[0m\u001b[0;34m,\u001b[0m\u001b[0;34m\u001b[0m\u001b[0;34m\u001b[0m\u001b[0m\n\u001b[1;32m    631\u001b[0m                     chained_exceptions_tb_offset, context)\n",
      "\u001b[0;32m/usr/local/lib/python3.10/dist-packages/IPython/core/ultratb.py\u001b[0m in \u001b[0;36mstructured_traceback\u001b[0;34m(self, etype, value, tb, tb_offset, number_of_lines_of_context)\u001b[0m\n\u001b[1;32m   1365\u001b[0m         \u001b[0;32melse\u001b[0m\u001b[0;34m:\u001b[0m\u001b[0;34m\u001b[0m\u001b[0;34m\u001b[0m\u001b[0m\n\u001b[1;32m   1366\u001b[0m             \u001b[0mself\u001b[0m\u001b[0;34m.\u001b[0m\u001b[0mtb\u001b[0m \u001b[0;34m=\u001b[0m \u001b[0mtb\u001b[0m\u001b[0;34m\u001b[0m\u001b[0;34m\u001b[0m\u001b[0m\n\u001b[0;32m-> 1367\u001b[0;31m         return FormattedTB.structured_traceback(\n\u001b[0m\u001b[1;32m   1368\u001b[0m             self, etype, value, tb, tb_offset, number_of_lines_of_context)\n\u001b[1;32m   1369\u001b[0m \u001b[0;34m\u001b[0m\u001b[0m\n",
      "\u001b[0;32m/usr/local/lib/python3.10/dist-packages/IPython/core/ultratb.py\u001b[0m in \u001b[0;36mstructured_traceback\u001b[0;34m(self, etype, value, tb, tb_offset, number_of_lines_of_context)\u001b[0m\n\u001b[1;32m   1265\u001b[0m         \u001b[0;32mif\u001b[0m \u001b[0mmode\u001b[0m \u001b[0;32min\u001b[0m \u001b[0mself\u001b[0m\u001b[0;34m.\u001b[0m\u001b[0mverbose_modes\u001b[0m\u001b[0;34m:\u001b[0m\u001b[0;34m\u001b[0m\u001b[0;34m\u001b[0m\u001b[0m\n\u001b[1;32m   1266\u001b[0m             \u001b[0;31m# Verbose modes need a full traceback\u001b[0m\u001b[0;34m\u001b[0m\u001b[0;34m\u001b[0m\u001b[0m\n\u001b[0;32m-> 1267\u001b[0;31m             return VerboseTB.structured_traceback(\n\u001b[0m\u001b[1;32m   1268\u001b[0m                 \u001b[0mself\u001b[0m\u001b[0;34m,\u001b[0m \u001b[0metype\u001b[0m\u001b[0;34m,\u001b[0m \u001b[0mvalue\u001b[0m\u001b[0;34m,\u001b[0m \u001b[0mtb\u001b[0m\u001b[0;34m,\u001b[0m \u001b[0mtb_offset\u001b[0m\u001b[0;34m,\u001b[0m \u001b[0mnumber_of_lines_of_context\u001b[0m\u001b[0;34m\u001b[0m\u001b[0;34m\u001b[0m\u001b[0m\n\u001b[1;32m   1269\u001b[0m             )\n",
      "\u001b[0;32m/usr/local/lib/python3.10/dist-packages/IPython/core/ultratb.py\u001b[0m in \u001b[0;36mstructured_traceback\u001b[0;34m(self, etype, evalue, etb, tb_offset, number_of_lines_of_context)\u001b[0m\n\u001b[1;32m   1122\u001b[0m         \u001b[0;34m\"\"\"Return a nice text document describing the traceback.\"\"\"\u001b[0m\u001b[0;34m\u001b[0m\u001b[0;34m\u001b[0m\u001b[0m\n\u001b[1;32m   1123\u001b[0m \u001b[0;34m\u001b[0m\u001b[0m\n\u001b[0;32m-> 1124\u001b[0;31m         formatted_exception = self.format_exception_as_a_whole(etype, evalue, etb, number_of_lines_of_context,\n\u001b[0m\u001b[1;32m   1125\u001b[0m                                                                tb_offset)\n\u001b[1;32m   1126\u001b[0m \u001b[0;34m\u001b[0m\u001b[0m\n",
      "\u001b[0;32m/usr/local/lib/python3.10/dist-packages/IPython/core/ultratb.py\u001b[0m in \u001b[0;36mformat_exception_as_a_whole\u001b[0;34m(self, etype, evalue, etb, number_of_lines_of_context, tb_offset)\u001b[0m\n\u001b[1;32m   1080\u001b[0m \u001b[0;34m\u001b[0m\u001b[0m\n\u001b[1;32m   1081\u001b[0m \u001b[0;34m\u001b[0m\u001b[0m\n\u001b[0;32m-> 1082\u001b[0;31m         \u001b[0mlast_unique\u001b[0m\u001b[0;34m,\u001b[0m \u001b[0mrecursion_repeat\u001b[0m \u001b[0;34m=\u001b[0m \u001b[0mfind_recursion\u001b[0m\u001b[0;34m(\u001b[0m\u001b[0morig_etype\u001b[0m\u001b[0;34m,\u001b[0m \u001b[0mevalue\u001b[0m\u001b[0;34m,\u001b[0m \u001b[0mrecords\u001b[0m\u001b[0;34m)\u001b[0m\u001b[0;34m\u001b[0m\u001b[0;34m\u001b[0m\u001b[0m\n\u001b[0m\u001b[1;32m   1083\u001b[0m \u001b[0;34m\u001b[0m\u001b[0m\n\u001b[1;32m   1084\u001b[0m         \u001b[0mframes\u001b[0m \u001b[0;34m=\u001b[0m \u001b[0mself\u001b[0m\u001b[0;34m.\u001b[0m\u001b[0mformat_records\u001b[0m\u001b[0;34m(\u001b[0m\u001b[0mrecords\u001b[0m\u001b[0;34m,\u001b[0m \u001b[0mlast_unique\u001b[0m\u001b[0;34m,\u001b[0m \u001b[0mrecursion_repeat\u001b[0m\u001b[0;34m)\u001b[0m\u001b[0;34m\u001b[0m\u001b[0;34m\u001b[0m\u001b[0m\n",
      "\u001b[0;32m/usr/local/lib/python3.10/dist-packages/IPython/core/ultratb.py\u001b[0m in \u001b[0;36mfind_recursion\u001b[0;34m(etype, value, records)\u001b[0m\n\u001b[1;32m    380\u001b[0m     \u001b[0;31m# first frame (from in to out) that looks different.\u001b[0m\u001b[0;34m\u001b[0m\u001b[0;34m\u001b[0m\u001b[0m\n\u001b[1;32m    381\u001b[0m     \u001b[0;32mif\u001b[0m \u001b[0;32mnot\u001b[0m \u001b[0mis_recursion_error\u001b[0m\u001b[0;34m(\u001b[0m\u001b[0metype\u001b[0m\u001b[0;34m,\u001b[0m \u001b[0mvalue\u001b[0m\u001b[0;34m,\u001b[0m \u001b[0mrecords\u001b[0m\u001b[0;34m)\u001b[0m\u001b[0;34m:\u001b[0m\u001b[0;34m\u001b[0m\u001b[0;34m\u001b[0m\u001b[0m\n\u001b[0;32m--> 382\u001b[0;31m         \u001b[0;32mreturn\u001b[0m \u001b[0mlen\u001b[0m\u001b[0;34m(\u001b[0m\u001b[0mrecords\u001b[0m\u001b[0;34m)\u001b[0m\u001b[0;34m,\u001b[0m \u001b[0;36m0\u001b[0m\u001b[0;34m\u001b[0m\u001b[0;34m\u001b[0m\u001b[0m\n\u001b[0m\u001b[1;32m    383\u001b[0m \u001b[0;34m\u001b[0m\u001b[0m\n\u001b[1;32m    384\u001b[0m     \u001b[0;31m# Select filename, lineno, func_name to track frames with\u001b[0m\u001b[0;34m\u001b[0m\u001b[0;34m\u001b[0m\u001b[0m\n",
      "\u001b[0;31mTypeError\u001b[0m: object of type 'NoneType' has no len()"
     ]
    }
   ],
   "source": [
    "import os\n",
    "import subprocess\n",
    "\n",
    "model_name = \"llama-3.2-sentiment-classifier\"\n",
    "hf_dir = f\"hf-{model_name}\"\n",
    "ollama_dir = f\"ollama-{model_name}\"\n",
    "os.makedirs(ollama_dir, exist_ok=True)\n",
    "\n",
    "# Define paths\n",
    "output_gguf = \"./model.gguf\"      # Output GGUF file path\n",
    "llama_cpp_dir = \"./llama.cpp\"    # Path to cloned llama.cpp directory\n",
    "quantized_gguf = \"./model_q4_k_m.gguf\"  # Optional quantized GGUF file path\n",
    "\n",
    "# Step 1: Verify that the saved model directory contains necessary files\n",
    "required_files = [\n",
    "    \"config.json\",\n",
    "    \"training_args.bin\",\n",
    "    \"model.safetensors\",\n",
    "    \"added_tokens.json\",\n",
    "    \"merges.txt\",\n",
    "    \"special_tokens_map.json\",\n",
    "    \"tokenizer.json\",\n",
    "    \"tokenizer_config.json\",\n",
    "    \"vocab.json\"\n",
    "]  # Adjust based on your model\n",
    "if not os.path.exists(hf_dir):\n",
    "    raise FileNotFoundError(f\"❌ Model directory {hf_dir} not found. Ensure trainer.save_model() ran successfully.\")\n",
    "missing_files = [file for file in required_files if not os.path.exists(os.path.join(hf_dir, file))]\n",
    "if missing_files:\n",
    "    raise FileNotFoundError(f\"🔍 Missing files in {hf_dir}: {' | '.join(missing_files)}. Ensure all necessary files are present.\")\n",
    "\n",
    "# Step 2: Convert the Hugging Face model to GGUF using llama.cpp's convert_hf_to_gguf.py\n",
    "convert_script = os.path.join(llama_cpp_dir, \"convert_hf_to_gguf.py\")\n",
    "if not os.path.exists(convert_script):\n",
    "    raise FileNotFoundError(f\"❌ convert_hf_to_gguf.py not found in {llama_cpp_dir}. Ensure llama.cpp is cloned correctly.\")\n",
    "\n",
    "# # Method 1: Using ! for direct shell commands with variable interpolation\n",
    "# print(\"\\n\\n=== Converting using ! command ===\")\n",
    "# !python {llama_cpp_dir}/convert_hf_to_gguf.py {hf_dir} --outfile {output_gguf} --verbose\n",
    "\n",
    "# # # Check if conversion worked\n",
    "# # print(\"\\nChecking if output file was created:\")\n",
    "# # !ls -lh {output_gguf}\n",
    "\n",
    "print(\"\\n\\n=== Alternative: Converting using %run ===\")\n",
    "%run {llama_cpp_dir}/convert_hf_to_gguf.py {hf_dir} --outfile {output_gguf}_alt --verbose\n",
    "# Run the conversion command\n",
    "\n",
    "convert_command = [\n",
    "    \"python\",\n",
    "    convert_script,\n",
    "    hf_dir,              # Input directory from trainer.save_model()\n",
    "    \"--outfile\", output_gguf  # Output GGUF file\n",
    "]\n",
    "result = subprocess.run(convert_command, capture_output=True, text=True)\n",
    "\n",
    "# Check if conversion was successful\n",
    "if result.returncode != 0:\n",
    "    print(\"❌ Conversion failed!\")\n",
    "    print(result.stderr)\n",
    "    print(result.stdout)\n",
    "    print(result.returncode)\n",
    "else:\n",
    "    print(\"✅ Conversion successful!\")\n",
    "    print(f\"GGUF file saved at: {output_gguf}\")\n",
    "\n",
    "# # Step 3 (Optional): Quantize the GGUF file (e.g., to Q4_K_M)\n",
    "# quantize_script = os.path.join(llama_cpp_dir, \"quantize\")\n",
    "# if os.path.exists(quantize_script) and os.path.exists(output_gguf):\n",
    "#     quantize_command = [\n",
    "#         quantize_script,\n",
    "#         output_gguf,         # Input GGUF file\n",
    "#         quantized_gguf,      # Output quantized GGUF file\n",
    "#         \"Q4_K_M\"            # Quantization type (adjust as needed)\n",
    "#     ]\n",
    "#     quantize_result = subprocess.run(quantize_command, capture_output=True, text=True)\n",
    "    \n",
    "#     if quantize_result.returncode != 0:\n",
    "#         print(\"Quantization failed!\")\n",
    "#         print(quantize_result.stderr)\n",
    "#     else:\n",
    "#         print(\"Quantization successful!\")\n",
    "#         print(f\"Quantized GGUF file saved at: {quantized_gguf}\")\n",
    "# else:\n",
    "#     print(\"Quantization script or GGUF file not found. Skipping quantization.\")\n",
    "\n",
    "# # Step 4: Verify the GGUF file exists\n",
    "# if os.path.exists(output_gguf):\n",
    "#     print(f\"GGUF file is ready for use with Ollama: {output_gguf}\")\n",
    "# if os.path.exists(quantized_gguf):\n",
    "#     print(f\"Quantized GGUF file is ready for use with Ollama: {quantized_gguf}\")"
   ]
  },
  {
   "cell_type": "code",
   "execution_count": 28,
   "metadata": {},
   "outputs": [],
   "source": [
    "!python ./llama.cpp/convert_hf_to_gguf.py hf-llama-3.2-sentiment-classifier --outfile model.gguf --verbose "
   ]
  },
  {
   "cell_type": "code",
   "execution_count": 32,
   "metadata": {},
   "outputs": [
    {
     "name": "stdout",
     "output_type": "stream",
     "text": [
      "./llama.cpp/models/ggml-vocab-mpt.gguf\n",
      "./llama.cpp/models/ggml-vocab-deepseek-llm.gguf\n",
      "./llama.cpp/models/ggml-vocab-baichuan.gguf\n",
      "./llama.cpp/models/ggml-vocab-command-r.gguf\n",
      "./llama.cpp/models/ggml-vocab-llama-bpe.gguf\n",
      "./llama.cpp/models/ggml-vocab-phi-3.gguf\n",
      "./llama.cpp/models/ggml-vocab-starcoder.gguf\n",
      "./llama.cpp/models/ggml-vocab-llama-spm.gguf\n",
      "./llama.cpp/models/ggml-vocab-falcon.gguf\n",
      "./llama.cpp/models/ggml-vocab-bert-bge.gguf\n",
      "./llama.cpp/models/ggml-vocab-aquila.gguf\n",
      "./llama.cpp/models/ggml-vocab-gpt-neox.gguf\n",
      "./llama.cpp/models/ggml-vocab-qwen2.gguf\n",
      "./llama.cpp/models/ggml-vocab-refact.gguf\n",
      "./llama.cpp/models/ggml-vocab-gpt-2.gguf\n",
      "./llama.cpp/models/ggml-vocab-deepseek-coder.gguf\n"
     ]
    }
   ],
   "source": [
    "!find . -name \"*.gguf\" -type f"
   ]
  },
  {
   "cell_type": "code",
   "execution_count": 22,
   "metadata": {},
   "outputs": [
    {
     "name": "stdout",
     "output_type": "stream",
     "text": [
      "Converting  to _bash...\n",
      "❌ Conversion failed!\n"
     ]
    },
    {
     "name": "stderr",
     "output_type": "stream",
     "text": [
      "python3: can't open file '/convert_hf_to_gguf.py': [Errno 2] No such file or directory\n"
     ]
    }
   ],
   "source": [
    "%%bash\n",
    "# This needs to be in its own cell to work properly\n",
    "LLAMA_CPP_DIR=\"${llama_cpp_dir}\"\n",
    "HF_DIR=\"${hf_dir}\"\n",
    "OUTPUT=\"${output_gguf}_bash\"\n",
    "\n",
    "echo \"Converting $HF_DIR to $OUTPUT...\"\n",
    "python $LLAMA_CPP_DIR/convert_hf_to_gguf.py $HF_DIR --outfile $OUTPUT --verbose\n",
    "\n",
    "if [ -f \"$OUTPUT\" ]; then\n",
    "    echo \"✅ Conversion successful!\"\n",
    "    ls -lh $OUTPUT\n",
    "else\n",
    "    echo \"❌ Conversion failed!\"\n",
    "fi\n"
   ]
  },
  {
   "cell_type": "markdown",
   "metadata": {},
   "source": [
    "### Load model"
   ]
  },
  {
   "cell_type": "code",
   "execution_count": 7,
   "metadata": {},
   "outputs": [
    {
     "name": "stdout",
     "output_type": "stream",
     "text": [
      "Loading fine-tuned model from rtweera/tweet-finetuned-qwen2.5-0.5B...\n"
     ]
    },
    {
     "data": {
      "application/vnd.jupyter.widget-view+json": {
       "model_id": "cf4560f1f7c74550a66fa023ba6eae1d",
       "version_major": 2,
       "version_minor": 0
      },
      "text/plain": [
       "tokenizer_config.json:   0%|          | 0.00/7.26k [00:00<?, ?B/s]"
      ]
     },
     "metadata": {},
     "output_type": "display_data"
    },
    {
     "data": {
      "application/vnd.jupyter.widget-view+json": {
       "model_id": "acaebf74e96a49799103157b0676ccdf",
       "version_major": 2,
       "version_minor": 0
      },
      "text/plain": [
       "vocab.json:   0%|          | 0.00/2.78M [00:00<?, ?B/s]"
      ]
     },
     "metadata": {},
     "output_type": "display_data"
    },
    {
     "data": {
      "application/vnd.jupyter.widget-view+json": {
       "model_id": "92788bfd10f646a18f3eb2247966be3b",
       "version_major": 2,
       "version_minor": 0
      },
      "text/plain": [
       "merges.txt:   0%|          | 0.00/1.67M [00:00<?, ?B/s]"
      ]
     },
     "metadata": {},
     "output_type": "display_data"
    },
    {
     "data": {
      "application/vnd.jupyter.widget-view+json": {
       "model_id": "226381ffa15b4f41b75fdacaead4bd2d",
       "version_major": 2,
       "version_minor": 0
      },
      "text/plain": [
       "tokenizer.json:   0%|          | 0.00/11.4M [00:00<?, ?B/s]"
      ]
     },
     "metadata": {},
     "output_type": "display_data"
    },
    {
     "data": {
      "application/vnd.jupyter.widget-view+json": {
       "model_id": "065f97fd7b4b49d880b2d6ac0bf98f8e",
       "version_major": 2,
       "version_minor": 0
      },
      "text/plain": [
       "added_tokens.json:   0%|          | 0.00/605 [00:00<?, ?B/s]"
      ]
     },
     "metadata": {},
     "output_type": "display_data"
    },
    {
     "data": {
      "application/vnd.jupyter.widget-view+json": {
       "model_id": "5eb27516d2b348acae294998ae885cb0",
       "version_major": 2,
       "version_minor": 0
      },
      "text/plain": [
       "special_tokens_map.json:   0%|          | 0.00/616 [00:00<?, ?B/s]"
      ]
     },
     "metadata": {},
     "output_type": "display_data"
    },
    {
     "name": "stdout",
     "output_type": "stream",
     "text": [
      "Using device: cpu\n"
     ]
    },
    {
     "data": {
      "application/vnd.jupyter.widget-view+json": {
       "model_id": "93f507e633b54987983c53de915decd4",
       "version_major": 2,
       "version_minor": 0
      },
      "text/plain": [
       "training_args.bin:   0%|          | 0.00/5.24k [00:00<?, ?B/s]"
      ]
     },
     "metadata": {},
     "output_type": "display_data"
    },
    {
     "name": "stdout",
     "output_type": "stream",
     "text": [
      "Downloaded training args from: /root/.cache/huggingface/hub/models--rtweera--tweet-finetuned-qwen2.5-0.5B/snapshots/41bf9107bc1684a42c1f63403a29721e84d7ed0e/training_args.bin\n",
      "✅ Successfully loaded training arguments from .bin file\n",
      "Modified training args to disable CUDA (no_cuda=True)\n"
     ]
    },
    {
     "name": "stderr",
     "output_type": "stream",
     "text": [
      "<ipython-input-7-ed70a3c9a786>:26: FutureWarning: You are using `torch.load` with `weights_only=False` (the current default value), which uses the default pickle module implicitly. It is possible to construct malicious pickle data which will execute arbitrary code during unpickling (See https://github.com/pytorch/pytorch/blob/main/SECURITY.md#untrusted-models for more details). In a future release, the default value for `weights_only` will be flipped to `True`. This limits the functions that could be executed during unpickling. Arbitrary objects will no longer be allowed to be loaded via this mode unless they are explicitly allowlisted by the user via `torch.serialization.add_safe_globals`. We recommend you start setting `weights_only=True` for any use case where you don't have full control of the loaded file. Please open an issue on GitHub for any issues related to this experimental feature.\n",
      "  training_args = torch.load(args_file, map_location=\"cpu\")\n"
     ]
    },
    {
     "data": {
      "application/vnd.jupyter.widget-view+json": {
       "model_id": "081c65cd915a44c495fe0f840998e8f9",
       "version_major": 2,
       "version_minor": 0
      },
      "text/plain": [
       "config.json:   0%|          | 0.00/960 [00:00<?, ?B/s]"
      ]
     },
     "metadata": {},
     "output_type": "display_data"
    },
    {
     "data": {
      "application/vnd.jupyter.widget-view+json": {
       "model_id": "5a91e36f93bf46a183c82ebfe4f3d42f",
       "version_major": 2,
       "version_minor": 0
      },
      "text/plain": [
       "model.safetensors:   0%|          | 0.00/1.98G [00:00<?, ?B/s]"
      ]
     },
     "metadata": {},
     "output_type": "display_data"
    },
    {
     "name": "stdout",
     "output_type": "stream",
     "text": [
      "Model loaded successfully on cpu\n",
      "\n",
      "Loaded Training Arguments:\n",
      "Output directory: ./results\n",
      "Learning rate: 2e-05\n",
      "Batch size: 1\n",
      "Evaluation strategy: steps\n",
      "no_cuda: True\n",
      "Current device: cpu\n"
     ]
    }
   ],
   "source": [
    "# Load the fine-tuned model from saved files\n",
    "import os\n",
    "from transformers import AutoModelForSequenceClassification, AutoTokenizer, TrainingArguments, Trainer\n",
    "import json\n",
    "from huggingface_hub import hf_hub_download\n",
    "import torch\n",
    "\n",
    "# Path to your saved model\n",
    "model_path = \"rtweera/tweet-finetuned-qwen2.5-0.5B\"  # Update this to your saved model directory\n",
    "\n",
    "print(f\"Loading fine-tuned model from {model_path}...\")\n",
    "\n",
    "# Load tokenizer and model\n",
    "tokenizer = AutoTokenizer.from_pretrained(model_path)\n",
    "\n",
    "# Check environment\n",
    "device = \"cuda\" if torch.cuda.is_available() else \"cpu\"\n",
    "print(f\"Using device: {device}\")\n",
    "\n",
    "# Try to download training_args from HuggingFace Hub first\n",
    "try:\n",
    "    args_file = hf_hub_download(repo_id=model_path, filename=\"training_args.bin\")\n",
    "    print(f\"Downloaded training args from: {args_file}\")\n",
    "    \n",
    "    # Load binary file with torch to CPU first, regardless of target device\n",
    "    training_args = torch.load(args_file, map_location=\"cpu\")\n",
    "    print(\"✅ Successfully loaded training arguments from .bin file\")\n",
    "    \n",
    "    # Just modify the no_cuda attribute based on current environment\n",
    "    if device == \"cpu\":\n",
    "        training_args.no_cuda = True\n",
    "        print(\"Modified training args to disable CUDA (no_cuda=True)\")\n",
    "    else:\n",
    "        training_args.no_cuda = False\n",
    "        print(\"Modified training args to enable CUDA (no_cuda=False)\")\n",
    "    \n",
    "    # Also update the output directory to a local path\n",
    "    training_args.output_dir = \"./results\"\n",
    "    \n",
    "except Exception as e:\n",
    "    print(f\"Could not load training arguments: {e}\")\n",
    "    # Create default training args if original not available\n",
    "    training_args = TrainingArguments(\n",
    "        output_dir=\"./results\",\n",
    "        per_device_eval_batch_size=8,\n",
    "        no_cuda=(device == \"cpu\"),  # Set based on current environment\n",
    "    )\n",
    "    print(\"Created default training arguments\")\n",
    "\n",
    "# Now we can load the model with appropriate device settings\n",
    "if device == \"cpu\":\n",
    "    # For CPU, explicitly prevent any GPU usage\n",
    "    fine_tuned_model = AutoModelForSequenceClassification.from_pretrained(\n",
    "        model_path, device_map=\"cpu\")\n",
    "else:\n",
    "    # For GPU, load normally\n",
    "    fine_tuned_model = AutoModelForSequenceClassification.from_pretrained(model_path)\n",
    "    fine_tuned_model.to(device)\n",
    "\n",
    "print(f\"Model loaded successfully on {device}\")\n",
    "\n",
    "# Create a trainer for evaluation purposes\n",
    "trainer = Trainer(\n",
    "    model=fine_tuned_model,\n",
    "    args=training_args,\n",
    "    eval_dataset=small_eval_dataset,\n",
    "    compute_metrics=compute_metrics,\n",
    ")\n",
    "\n",
    "# Print some of the loaded training arguments to verify\n",
    "print(\"\\nLoaded Training Arguments:\")\n",
    "print(f\"Output directory: {training_args.output_dir}\")\n",
    "print(f\"Learning rate: {training_args.learning_rate}\")\n",
    "print(f\"Batch size: {training_args.per_device_train_batch_size}\")\n",
    "print(f\"Evaluation strategy: {training_args.evaluation_strategy}\")\n",
    "print(f\"no_cuda: {training_args.no_cuda}\")\n",
    "print(f\"Current device: {device}\")\n",
    "\n",
    "# # Now you can evaluate the model\n",
    "# print(\"\\nEvaluating loaded model...\")\n",
    "# try:\n",
    "#     eval_results = loaded_trainer.evaluate()\n",
    "#     print(f\"Evaluation results: {eval_results}\")\n",
    "# except Exception as e:\n",
    "#     import traceback\n",
    "#     print(f\"Error during evaluation: {e}\")\n",
    "#     traceback.print_exc()"
   ]
  },
  {
   "cell_type": "code",
   "execution_count": 19,
   "metadata": {},
   "outputs": [
    {
     "name": "stdout",
     "output_type": "stream",
     "text": [
      "Loading fine-tuned model from rtweera/tweet-finetuned-qwen2.5-0.5B...\n",
      "Using device: cpu\n",
      "Model loaded successfully and moved to cpu\n",
      "\n",
      "=== Example 1: Single Text Inference ===\n",
      "Text: 'I absolutely love this product! Best purchase ever!'\n",
      "Sentiment: Positive\n",
      "Confidence scores:\n",
      "  - negative: 0.0000\n",
      "  - neutral: 0.0000\n",
      "  - positive: 1.0000\n",
      "\n",
      "=== Example 2: Multiple Texts Inference ===\n",
      "\n",
      "=== Example 3: Try Your Own Text ===\n",
      "Type a tweet to analyze its sentiment (or 'q' to quit):\n",
      "Tweet: hi\n",
      "Sentiment: Positive\n",
      "Confidence:\n",
      "  negative [▓                   ] 0.0738\n",
      "  neutral  [                    ] 0.0001\n",
      "  positive [▓▓▓▓▓▓▓▓▓▓▓▓▓▓▓▓▓▓  ] 0.9261\n",
      "\n",
      "Type another tweet (or 'q' to quit):\n",
      "Tweet: yo yo\n",
      "Sentiment: Neutral\n",
      "Confidence:\n",
      "  negative [                    ] 0.0000\n",
      "  neutral  [▓▓▓▓▓▓▓▓▓▓▓▓▓▓▓▓▓▓▓ ] 0.9997\n",
      "  positive [                    ] 0.0003\n",
      "\n",
      "Type another tweet (or 'q' to quit):\n",
      "Tweet: in 21:40, if I am not mistaken, the result from different heads are concatenated to a higher dimension matrix and project back to the original one, instead of simply adding them up together.\n",
      "Sentiment: Neutral\n",
      "Confidence:\n",
      "  negative [                    ] 0.0000\n",
      "  neutral  [▓▓▓▓▓▓▓▓▓▓▓▓▓▓▓▓▓▓▓▓] 1.0000\n",
      "  positive [                    ] 0.0000\n",
      "\n",
      "Type another tweet (or 'q' to quit):\n",
      "Tweet: To me the part that was more confusing when studying this for the first time was the seemingly arbitrary separation between Keys, Queries and Values.\n",
      "Sentiment: Neutral\n",
      "Confidence:\n",
      "  negative [                    ] 0.0000\n",
      "  neutral  [▓▓▓▓▓▓▓▓▓▓▓▓▓▓▓▓▓▓▓ ] 1.0000\n",
      "  positive [                    ] 0.0000\n",
      "\n",
      "Type another tweet (or 'q' to quit):\n",
      "Tweet: Ooh, you've improved the patreon preview \n",
      "Sentiment: Positive\n",
      "Confidence:\n",
      "  negative [                    ] 0.0000\n",
      "  neutral  [                    ] 0.0001\n",
      "  positive [▓▓▓▓▓▓▓▓▓▓▓▓▓▓▓▓▓▓▓ ] 0.9999\n",
      "\n",
      "Type another tweet (or 'q' to quit):\n",
      "Tweet: Ooh, you've improved the patreon preview so much\n",
      "Sentiment: Positive\n",
      "Confidence:\n",
      "  negative [                    ] 0.0000\n",
      "  neutral  [                    ] 0.0000\n",
      "  positive [▓▓▓▓▓▓▓▓▓▓▓▓▓▓▓▓▓▓▓ ] 1.0000\n",
      "\n",
      "Type another tweet (or 'q' to quit):\n",
      "Tweet: Bloody\n",
      "Sentiment: Negative\n",
      "Confidence:\n",
      "  negative [▓▓▓▓▓▓▓▓▓▓▓▓▓▓▓▓▓▓▓▓] 1.0000\n",
      "  neutral  [                    ] 0.0000\n",
      "  positive [                    ] 0.0000\n",
      "\n",
      "Type another tweet (or 'q' to quit):\n",
      "Tweet: Bloody\n",
      "Sentiment: Negative\n",
      "Confidence:\n",
      "  negative [▓▓▓▓▓▓▓▓▓▓▓▓▓▓▓▓▓▓▓▓] 1.0000\n",
      "  neutral  [                    ] 0.0000\n",
      "  positive [                    ] 0.0000\n",
      "\n",
      "Type another tweet (or 'q' to quit):\n",
      "Tweet: Bloody done\n",
      "Sentiment: Negative\n",
      "Confidence:\n",
      "  negative [▓▓▓▓▓▓▓▓▓▓▓▓▓▓▓▓▓▓▓▓] 1.0000\n",
      "  neutral  [                    ] 0.0000\n",
      "  positive [                    ] 0.0000\n",
      "\n",
      "Type another tweet (or 'q' to quit):\n",
      "Tweet: Bloody well\n",
      "Sentiment: Negative\n",
      "Confidence:\n",
      "  negative [▓▓▓▓▓▓▓▓▓▓▓▓▓▓▓▓▓▓▓▓] 1.0000\n",
      "  neutral  [                    ] 0.0000\n",
      "  positive [                    ] 0.0000\n",
      "\n",
      "Type another tweet (or 'q' to quit):\n",
      "Tweet: bloddy well done\n",
      "Sentiment: Positive\n",
      "Confidence:\n",
      "  negative [                    ] 0.0000\n",
      "  neutral  [                    ] 0.0000\n",
      "  positive [▓▓▓▓▓▓▓▓▓▓▓▓▓▓▓▓▓▓▓▓] 1.0000\n",
      "\n",
      "Type another tweet (or 'q' to quit):\n"
     ]
    }
   ],
   "source": [
    "# Load the model and perform inference only (no evaluation)\n",
    "import os\n",
    "from transformers import AutoModelForSequenceClassification, AutoTokenizer\n",
    "import torch\n",
    "from huggingface_hub import hf_hub_download\n",
    "\n",
    "# Path to your saved model\n",
    "model_path = \"rtweera/tweet-finetuned-qwen2.5-0.5B\"\n",
    "print(f\"Loading fine-tuned model from {model_path}...\")\n",
    "\n",
    "# Load tokenizer and model\n",
    "tokenizer = AutoTokenizer.from_pretrained(model_path)\n",
    "model = AutoModelForSequenceClassification.from_pretrained(model_path)\n",
    "\n",
    "# Determine device - use CPU if CUDA not available\n",
    "try:\n",
    "    device = \"cuda\" if torch.cuda.is_available() else \"cpu\"\n",
    "except:\n",
    "    device = \"cpu\"  # Fallback to CPU if checking CUDA fails\n",
    "    \n",
    "print(f\"Using device: {device}\")\n",
    "model.to(device)\n",
    "model.eval()  # Set model to evaluation mode\n",
    "\n",
    "print(f\"Model loaded successfully and moved to {device}\")\n",
    "\n",
    "# Define sentiment labels\n",
    "sentiment_labels = [\"Negative\", \"Neutral\", \"Positive\"]\n",
    "\n",
    "# Function to predict sentiment for a single text\n",
    "def predict_sentiment(text):\n",
    "    \"\"\"Predict sentiment for a single text input\"\"\"\n",
    "    # Tokenize input\n",
    "    inputs = tokenizer(text, return_tensors=\"pt\", truncation=True).to(device)\n",
    "    \n",
    "    # Run inference\n",
    "    with torch.no_grad():\n",
    "        outputs = model(**inputs)\n",
    "    \n",
    "    # Get prediction\n",
    "    prediction = outputs.logits.argmax(-1).item()\n",
    "    confidence_scores = torch.nn.functional.softmax(outputs.logits, dim=-1)[0].tolist()\n",
    "    \n",
    "    # Return sentiment and confidence scores\n",
    "    return {\n",
    "        \"text\": text,\n",
    "        \"sentiment\": sentiment_labels[prediction],\n",
    "        \"sentiment_id\": prediction,\n",
    "        \"confidence\": {\n",
    "            \"negative\": confidence_scores[0],\n",
    "            \"neutral\": confidence_scores[1], \n",
    "            \"positive\": confidence_scores[2]\n",
    "        }\n",
    "    }\n",
    "\n",
    "# Function to predict sentiment for multiple texts\n",
    "def predict_batch_sentiment(texts, batch_size=8):\n",
    "    \"\"\"Predict sentiment for multiple texts in batches\"\"\"\n",
    "    results = []\n",
    "    \n",
    "    # Process in batches\n",
    "    for i in range(0, len(texts), batch_size):\n",
    "        batch_texts = texts[i:i+batch_size]\n",
    "        \n",
    "        # Tokenize batch\n",
    "        inputs = tokenizer(batch_texts, return_tensors=\"pt\", padding=True, truncation=True).to(device)\n",
    "        \n",
    "        # Run inference\n",
    "        with torch.no_grad():\n",
    "            outputs = model(**inputs)\n",
    "        \n",
    "        # Get predictions\n",
    "        predictions = outputs.logits.argmax(-1).tolist()\n",
    "        confidence_scores = torch.nn.functional.softmax(outputs.logits, dim=-1).tolist()\n",
    "        \n",
    "        # Process results\n",
    "        for j, (text, pred, conf) in enumerate(zip(batch_texts, predictions, confidence_scores)):\n",
    "            results.append({\n",
    "                \"text\": text,\n",
    "                \"sentiment\": sentiment_labels[pred],\n",
    "                \"sentiment_id\": pred,\n",
    "                \"confidence\": {\n",
    "                    \"negative\": conf[0],\n",
    "                    \"neutral\": conf[1], \n",
    "                    \"positive\": conf[2]\n",
    "                }\n",
    "            })\n",
    "    \n",
    "    return results\n",
    "\n",
    "# Example 1: Single text inference\n",
    "print(\"\\n=== Example 1: Single Text Inference ===\")\n",
    "test_text = \"I absolutely love this product! Best purchase ever!\"\n",
    "result = predict_sentiment(test_text)\n",
    "\n",
    "print(f\"Text: '{result['text']}'\")\n",
    "print(f\"Sentiment: {result['sentiment']}\")\n",
    "print(f\"Confidence scores:\")\n",
    "for sentiment, score in result['confidence'].items():\n",
    "    print(f\"  - {sentiment}: {score:.4f}\")\n",
    "\n",
    "# Example 2: Multiple texts inference\n",
    "print(\"\\n=== Example 2: Multiple Texts Inference ===\")\n",
    "test_texts = [\n",
    "    \"I hate this, it's the worst thing ever.\",\n",
    "    \"It's okay, nothing special but works fine.\",\n",
    "    \"Great experience, would recommend to everyone!\",\n",
    "    \"Terrible customer service, never again.\",\n",
    "    \"This is just mediocre at best, wouldn't buy again.\"\n",
    "]\n",
    "\n",
    "# results = predict_batch_sentiment(test_texts)\n",
    "\n",
    "# Display results in a more visual format\n",
    "from IPython.display import display, Markdown, HTML\n",
    "import pandas as pd\n",
    "\n",
    "# # Convert results to DataFrame for better visualization\n",
    "# df = pd.DataFrame([{\n",
    "#     \"Text\": r[\"text\"], \n",
    "#     \"Sentiment\": r[\"sentiment\"],\n",
    "#     \"Negative\": f\"{r['confidence']['negative']:.4f}\",\n",
    "#     \"Neutral\": f\"{r['confidence']['neutral']:.4f}\",\n",
    "#     \"Positive\": f\"{r['confidence']['positive']:.4f}\"\n",
    "# } for r in results])\n",
    "\n",
    "# Display as styled HTML table\n",
    "# display(HTML(df.to_html(index=False)))\n",
    "\n",
    "# Example 3: Interactive input (optional)\n",
    "print(\"\\n=== Example 3: Try Your Own Text ===\")\n",
    "print(\"Type a tweet to analyze its sentiment (or 'q' to quit):\")\n",
    "\n",
    "while True:\n",
    "    user_input = input(\"> \")\n",
    "    if user_input.lower() in ['q', 'quit', 'exit']:\n",
    "        break\n",
    "    \n",
    "    if not user_input.strip():\n",
    "        continue\n",
    "        \n",
    "    print(f\"Tweet: {user_input}\")\n",
    "    result = predict_sentiment(user_input)\n",
    "    print(f\"Sentiment: {result['sentiment']}\")\n",
    "    \n",
    "    # Show confidence with visual bar\n",
    "    print(\"Confidence:\")\n",
    "    for sentiment, score in result['confidence'].items():\n",
    "        bar = \"▓\" * int(score * 20)  # Create a visual bar with length proportional to confidence\n",
    "        spaces = \" \" * (20 - len(bar))\n",
    "        print(f\"  {sentiment:8s} [{bar}{spaces}] {score:.4f}\")\n",
    "    \n",
    "    print(\"\\nType another tweet (or 'q' to quit):\")"
   ]
  },
  {
   "cell_type": "markdown",
   "metadata": {},
   "source": [
    "## NOT TESTED"
   ]
  },
  {
   "cell_type": "markdown",
   "metadata": {},
   "source": [
    "# Test"
   ]
  },
  {
   "cell_type": "code",
   "execution_count": 18,
   "metadata": {},
   "outputs": [
    {
     "name": "stderr",
     "output_type": "stream",
     "text": [
      "/usr/local/lib/python3.10/dist-packages/torch/nn/parallel/_functions.py:71: UserWarning: Was asked to gather along dimension 0, but all input tensors were scalars; will instead unsqueeze and return a vector.\n",
      "  warnings.warn(\n"
     ]
    },
    {
     "ename": "KeyboardInterrupt",
     "evalue": "",
     "output_type": "error",
     "traceback": [
      "\u001b[0;31m---------------------------------------------------------------------------\u001b[0m",
      "\u001b[0;31mKeyboardInterrupt\u001b[0m                         Traceback (most recent call last)",
      "\u001b[0;32m<ipython-input-18-710fe858c79f>\u001b[0m in \u001b[0;36m<cell line: 3>\u001b[0;34m()\u001b[0m\n\u001b[1;32m      1\u001b[0m \u001b[0;32mimport\u001b[0m \u001b[0mevaluate\u001b[0m\u001b[0;34m\u001b[0m\u001b[0;34m\u001b[0m\u001b[0m\n\u001b[1;32m      2\u001b[0m \u001b[0;34m\u001b[0m\u001b[0m\n\u001b[0;32m----> 3\u001b[0;31m \u001b[0mtrainer\u001b[0m\u001b[0;34m.\u001b[0m\u001b[0mevaluate\u001b[0m\u001b[0;34m(\u001b[0m\u001b[0;34m)\u001b[0m\u001b[0;34m\u001b[0m\u001b[0;34m\u001b[0m\u001b[0m\n\u001b[0m",
      "\u001b[0;32m/usr/local/lib/python3.10/dist-packages/transformers/trainer.py\u001b[0m in \u001b[0;36mevaluate\u001b[0;34m(self, eval_dataset, ignore_keys, metric_key_prefix)\u001b[0m\n\u001b[1;32m   4049\u001b[0m \u001b[0;34m\u001b[0m\u001b[0m\n\u001b[1;32m   4050\u001b[0m         \u001b[0meval_loop\u001b[0m \u001b[0;34m=\u001b[0m \u001b[0mself\u001b[0m\u001b[0;34m.\u001b[0m\u001b[0mprediction_loop\u001b[0m \u001b[0;32mif\u001b[0m \u001b[0mself\u001b[0m\u001b[0;34m.\u001b[0m\u001b[0margs\u001b[0m\u001b[0;34m.\u001b[0m\u001b[0muse_legacy_prediction_loop\u001b[0m \u001b[0;32melse\u001b[0m \u001b[0mself\u001b[0m\u001b[0;34m.\u001b[0m\u001b[0mevaluation_loop\u001b[0m\u001b[0;34m\u001b[0m\u001b[0;34m\u001b[0m\u001b[0m\n\u001b[0;32m-> 4051\u001b[0;31m         output = eval_loop(\n\u001b[0m\u001b[1;32m   4052\u001b[0m             \u001b[0meval_dataloader\u001b[0m\u001b[0;34m,\u001b[0m\u001b[0;34m\u001b[0m\u001b[0;34m\u001b[0m\u001b[0m\n\u001b[1;32m   4053\u001b[0m             \u001b[0mdescription\u001b[0m\u001b[0;34m=\u001b[0m\u001b[0;34m\"Evaluation\"\u001b[0m\u001b[0;34m,\u001b[0m\u001b[0;34m\u001b[0m\u001b[0;34m\u001b[0m\u001b[0m\n",
      "\u001b[0;32m/usr/local/lib/python3.10/dist-packages/transformers/trainer.py\u001b[0m in \u001b[0;36mevaluation_loop\u001b[0;34m(self, dataloader, description, prediction_loss_only, ignore_keys, metric_key_prefix)\u001b[0m\n\u001b[1;32m   4243\u001b[0m \u001b[0;34m\u001b[0m\u001b[0m\n\u001b[1;32m   4244\u001b[0m             \u001b[0;31m# Prediction step\u001b[0m\u001b[0;34m\u001b[0m\u001b[0;34m\u001b[0m\u001b[0m\n\u001b[0;32m-> 4245\u001b[0;31m             \u001b[0mlosses\u001b[0m\u001b[0;34m,\u001b[0m \u001b[0mlogits\u001b[0m\u001b[0;34m,\u001b[0m \u001b[0mlabels\u001b[0m \u001b[0;34m=\u001b[0m \u001b[0mself\u001b[0m\u001b[0;34m.\u001b[0m\u001b[0mprediction_step\u001b[0m\u001b[0;34m(\u001b[0m\u001b[0mmodel\u001b[0m\u001b[0;34m,\u001b[0m \u001b[0minputs\u001b[0m\u001b[0;34m,\u001b[0m \u001b[0mprediction_loss_only\u001b[0m\u001b[0;34m,\u001b[0m \u001b[0mignore_keys\u001b[0m\u001b[0;34m=\u001b[0m\u001b[0mignore_keys\u001b[0m\u001b[0;34m)\u001b[0m\u001b[0;34m\u001b[0m\u001b[0;34m\u001b[0m\u001b[0m\n\u001b[0m\u001b[1;32m   4246\u001b[0m             \u001b[0mmain_input_name\u001b[0m \u001b[0;34m=\u001b[0m \u001b[0mgetattr\u001b[0m\u001b[0;34m(\u001b[0m\u001b[0mself\u001b[0m\u001b[0;34m.\u001b[0m\u001b[0mmodel\u001b[0m\u001b[0;34m,\u001b[0m \u001b[0;34m\"main_input_name\"\u001b[0m\u001b[0;34m,\u001b[0m \u001b[0;34m\"input_ids\"\u001b[0m\u001b[0;34m)\u001b[0m\u001b[0;34m\u001b[0m\u001b[0;34m\u001b[0m\u001b[0m\n\u001b[1;32m   4247\u001b[0m             inputs_decode = (\n",
      "\u001b[0;32m/usr/local/lib/python3.10/dist-packages/transformers/trainer.py\u001b[0m in \u001b[0;36mprediction_step\u001b[0;34m(self, model, inputs, prediction_loss_only, ignore_keys)\u001b[0m\n\u001b[1;32m   4459\u001b[0m                 \u001b[0;32mif\u001b[0m \u001b[0mhas_labels\u001b[0m \u001b[0;32mor\u001b[0m \u001b[0mloss_without_labels\u001b[0m\u001b[0;34m:\u001b[0m\u001b[0;34m\u001b[0m\u001b[0;34m\u001b[0m\u001b[0m\n\u001b[1;32m   4460\u001b[0m                     \u001b[0;32mwith\u001b[0m \u001b[0mself\u001b[0m\u001b[0;34m.\u001b[0m\u001b[0mcompute_loss_context_manager\u001b[0m\u001b[0;34m(\u001b[0m\u001b[0;34m)\u001b[0m\u001b[0;34m:\u001b[0m\u001b[0;34m\u001b[0m\u001b[0;34m\u001b[0m\u001b[0m\n\u001b[0;32m-> 4461\u001b[0;31m                         \u001b[0mloss\u001b[0m\u001b[0;34m,\u001b[0m \u001b[0moutputs\u001b[0m \u001b[0;34m=\u001b[0m \u001b[0mself\u001b[0m\u001b[0;34m.\u001b[0m\u001b[0mcompute_loss\u001b[0m\u001b[0;34m(\u001b[0m\u001b[0mmodel\u001b[0m\u001b[0;34m,\u001b[0m \u001b[0minputs\u001b[0m\u001b[0;34m,\u001b[0m \u001b[0mreturn_outputs\u001b[0m\u001b[0;34m=\u001b[0m\u001b[0;32mTrue\u001b[0m\u001b[0;34m)\u001b[0m\u001b[0;34m\u001b[0m\u001b[0;34m\u001b[0m\u001b[0m\n\u001b[0m\u001b[1;32m   4462\u001b[0m                     \u001b[0mloss\u001b[0m \u001b[0;34m=\u001b[0m \u001b[0mloss\u001b[0m\u001b[0;34m.\u001b[0m\u001b[0mmean\u001b[0m\u001b[0;34m(\u001b[0m\u001b[0;34m)\u001b[0m\u001b[0;34m.\u001b[0m\u001b[0mdetach\u001b[0m\u001b[0;34m(\u001b[0m\u001b[0;34m)\u001b[0m\u001b[0;34m\u001b[0m\u001b[0;34m\u001b[0m\u001b[0m\n\u001b[1;32m   4463\u001b[0m \u001b[0;34m\u001b[0m\u001b[0m\n",
      "\u001b[0;32m/usr/local/lib/python3.10/dist-packages/transformers/trainer.py\u001b[0m in \u001b[0;36mcompute_loss\u001b[0;34m(self, model, inputs, return_outputs, num_items_in_batch)\u001b[0m\n\u001b[1;32m   3707\u001b[0m                 \u001b[0mloss_kwargs\u001b[0m\u001b[0;34m[\u001b[0m\u001b[0;34m\"num_items_in_batch\"\u001b[0m\u001b[0;34m]\u001b[0m \u001b[0;34m=\u001b[0m \u001b[0mnum_items_in_batch\u001b[0m\u001b[0;34m\u001b[0m\u001b[0;34m\u001b[0m\u001b[0m\n\u001b[1;32m   3708\u001b[0m             \u001b[0minputs\u001b[0m \u001b[0;34m=\u001b[0m \u001b[0;34m{\u001b[0m\u001b[0;34m**\u001b[0m\u001b[0minputs\u001b[0m\u001b[0;34m,\u001b[0m \u001b[0;34m**\u001b[0m\u001b[0mloss_kwargs\u001b[0m\u001b[0;34m}\u001b[0m\u001b[0;34m\u001b[0m\u001b[0;34m\u001b[0m\u001b[0m\n\u001b[0;32m-> 3709\u001b[0;31m         \u001b[0moutputs\u001b[0m \u001b[0;34m=\u001b[0m \u001b[0mmodel\u001b[0m\u001b[0;34m(\u001b[0m\u001b[0;34m**\u001b[0m\u001b[0minputs\u001b[0m\u001b[0;34m)\u001b[0m\u001b[0;34m\u001b[0m\u001b[0;34m\u001b[0m\u001b[0m\n\u001b[0m\u001b[1;32m   3710\u001b[0m         \u001b[0;31m# Save past state if it exists\u001b[0m\u001b[0;34m\u001b[0m\u001b[0;34m\u001b[0m\u001b[0m\n\u001b[1;32m   3711\u001b[0m         \u001b[0;31m# TODO: this needs to be fixed and made cleaner later.\u001b[0m\u001b[0;34m\u001b[0m\u001b[0;34m\u001b[0m\u001b[0m\n",
      "\u001b[0;32m/usr/local/lib/python3.10/dist-packages/torch/nn/modules/module.py\u001b[0m in \u001b[0;36m_wrapped_call_impl\u001b[0;34m(self, *args, **kwargs)\u001b[0m\n\u001b[1;32m   1734\u001b[0m             \u001b[0;32mreturn\u001b[0m \u001b[0mself\u001b[0m\u001b[0;34m.\u001b[0m\u001b[0m_compiled_call_impl\u001b[0m\u001b[0;34m(\u001b[0m\u001b[0;34m*\u001b[0m\u001b[0margs\u001b[0m\u001b[0;34m,\u001b[0m \u001b[0;34m**\u001b[0m\u001b[0mkwargs\u001b[0m\u001b[0;34m)\u001b[0m  \u001b[0;31m# type: ignore[misc]\u001b[0m\u001b[0;34m\u001b[0m\u001b[0;34m\u001b[0m\u001b[0m\n\u001b[1;32m   1735\u001b[0m         \u001b[0;32melse\u001b[0m\u001b[0;34m:\u001b[0m\u001b[0;34m\u001b[0m\u001b[0;34m\u001b[0m\u001b[0m\n\u001b[0;32m-> 1736\u001b[0;31m             \u001b[0;32mreturn\u001b[0m \u001b[0mself\u001b[0m\u001b[0;34m.\u001b[0m\u001b[0m_call_impl\u001b[0m\u001b[0;34m(\u001b[0m\u001b[0;34m*\u001b[0m\u001b[0margs\u001b[0m\u001b[0;34m,\u001b[0m \u001b[0;34m**\u001b[0m\u001b[0mkwargs\u001b[0m\u001b[0;34m)\u001b[0m\u001b[0;34m\u001b[0m\u001b[0;34m\u001b[0m\u001b[0m\n\u001b[0m\u001b[1;32m   1737\u001b[0m \u001b[0;34m\u001b[0m\u001b[0m\n\u001b[1;32m   1738\u001b[0m     \u001b[0;31m# torchrec tests the code consistency with the following code\u001b[0m\u001b[0;34m\u001b[0m\u001b[0;34m\u001b[0m\u001b[0m\n",
      "\u001b[0;32m/usr/local/lib/python3.10/dist-packages/torch/nn/modules/module.py\u001b[0m in \u001b[0;36m_call_impl\u001b[0;34m(self, *args, **kwargs)\u001b[0m\n\u001b[1;32m   1745\u001b[0m                 \u001b[0;32mor\u001b[0m \u001b[0m_global_backward_pre_hooks\u001b[0m \u001b[0;32mor\u001b[0m \u001b[0m_global_backward_hooks\u001b[0m\u001b[0;34m\u001b[0m\u001b[0;34m\u001b[0m\u001b[0m\n\u001b[1;32m   1746\u001b[0m                 or _global_forward_hooks or _global_forward_pre_hooks):\n\u001b[0;32m-> 1747\u001b[0;31m             \u001b[0;32mreturn\u001b[0m \u001b[0mforward_call\u001b[0m\u001b[0;34m(\u001b[0m\u001b[0;34m*\u001b[0m\u001b[0margs\u001b[0m\u001b[0;34m,\u001b[0m \u001b[0;34m**\u001b[0m\u001b[0mkwargs\u001b[0m\u001b[0;34m)\u001b[0m\u001b[0;34m\u001b[0m\u001b[0;34m\u001b[0m\u001b[0m\n\u001b[0m\u001b[1;32m   1748\u001b[0m \u001b[0;34m\u001b[0m\u001b[0m\n\u001b[1;32m   1749\u001b[0m         \u001b[0mresult\u001b[0m \u001b[0;34m=\u001b[0m \u001b[0;32mNone\u001b[0m\u001b[0;34m\u001b[0m\u001b[0;34m\u001b[0m\u001b[0m\n",
      "\u001b[0;32m/usr/local/lib/python3.10/dist-packages/torch/nn/parallel/data_parallel.py\u001b[0m in \u001b[0;36mforward\u001b[0;34m(self, *inputs, **kwargs)\u001b[0m\n\u001b[1;32m    191\u001b[0m                 \u001b[0;32mreturn\u001b[0m \u001b[0mself\u001b[0m\u001b[0;34m.\u001b[0m\u001b[0mmodule\u001b[0m\u001b[0;34m(\u001b[0m\u001b[0;34m*\u001b[0m\u001b[0minputs\u001b[0m\u001b[0;34m[\u001b[0m\u001b[0;36m0\u001b[0m\u001b[0;34m]\u001b[0m\u001b[0;34m,\u001b[0m \u001b[0;34m**\u001b[0m\u001b[0mmodule_kwargs\u001b[0m\u001b[0;34m[\u001b[0m\u001b[0;36m0\u001b[0m\u001b[0;34m]\u001b[0m\u001b[0;34m)\u001b[0m\u001b[0;34m\u001b[0m\u001b[0;34m\u001b[0m\u001b[0m\n\u001b[1;32m    192\u001b[0m             \u001b[0mreplicas\u001b[0m \u001b[0;34m=\u001b[0m \u001b[0mself\u001b[0m\u001b[0;34m.\u001b[0m\u001b[0mreplicate\u001b[0m\u001b[0;34m(\u001b[0m\u001b[0mself\u001b[0m\u001b[0;34m.\u001b[0m\u001b[0mmodule\u001b[0m\u001b[0;34m,\u001b[0m \u001b[0mself\u001b[0m\u001b[0;34m.\u001b[0m\u001b[0mdevice_ids\u001b[0m\u001b[0;34m[\u001b[0m\u001b[0;34m:\u001b[0m \u001b[0mlen\u001b[0m\u001b[0;34m(\u001b[0m\u001b[0minputs\u001b[0m\u001b[0;34m)\u001b[0m\u001b[0;34m]\u001b[0m\u001b[0;34m)\u001b[0m\u001b[0;34m\u001b[0m\u001b[0;34m\u001b[0m\u001b[0m\n\u001b[0;32m--> 193\u001b[0;31m             \u001b[0moutputs\u001b[0m \u001b[0;34m=\u001b[0m \u001b[0mself\u001b[0m\u001b[0;34m.\u001b[0m\u001b[0mparallel_apply\u001b[0m\u001b[0;34m(\u001b[0m\u001b[0mreplicas\u001b[0m\u001b[0;34m,\u001b[0m \u001b[0minputs\u001b[0m\u001b[0;34m,\u001b[0m \u001b[0mmodule_kwargs\u001b[0m\u001b[0;34m)\u001b[0m\u001b[0;34m\u001b[0m\u001b[0;34m\u001b[0m\u001b[0m\n\u001b[0m\u001b[1;32m    194\u001b[0m             \u001b[0;32mreturn\u001b[0m \u001b[0mself\u001b[0m\u001b[0;34m.\u001b[0m\u001b[0mgather\u001b[0m\u001b[0;34m(\u001b[0m\u001b[0moutputs\u001b[0m\u001b[0;34m,\u001b[0m \u001b[0mself\u001b[0m\u001b[0;34m.\u001b[0m\u001b[0moutput_device\u001b[0m\u001b[0;34m)\u001b[0m\u001b[0;34m\u001b[0m\u001b[0;34m\u001b[0m\u001b[0m\n\u001b[1;32m    195\u001b[0m \u001b[0;34m\u001b[0m\u001b[0m\n",
      "\u001b[0;32m/usr/local/lib/python3.10/dist-packages/torch/nn/parallel/data_parallel.py\u001b[0m in \u001b[0;36mparallel_apply\u001b[0;34m(self, replicas, inputs, kwargs)\u001b[0m\n\u001b[1;32m    210\u001b[0m         \u001b[0mself\u001b[0m\u001b[0;34m,\u001b[0m \u001b[0mreplicas\u001b[0m\u001b[0;34m:\u001b[0m \u001b[0mSequence\u001b[0m\u001b[0;34m[\u001b[0m\u001b[0mT\u001b[0m\u001b[0;34m]\u001b[0m\u001b[0;34m,\u001b[0m \u001b[0minputs\u001b[0m\u001b[0;34m:\u001b[0m \u001b[0mSequence\u001b[0m\u001b[0;34m[\u001b[0m\u001b[0mAny\u001b[0m\u001b[0;34m]\u001b[0m\u001b[0;34m,\u001b[0m \u001b[0mkwargs\u001b[0m\u001b[0;34m:\u001b[0m \u001b[0mAny\u001b[0m\u001b[0;34m\u001b[0m\u001b[0;34m\u001b[0m\u001b[0m\n\u001b[1;32m    211\u001b[0m     ) -> List[Any]:\n\u001b[0;32m--> 212\u001b[0;31m         return parallel_apply(\n\u001b[0m\u001b[1;32m    213\u001b[0m             \u001b[0mreplicas\u001b[0m\u001b[0;34m,\u001b[0m \u001b[0minputs\u001b[0m\u001b[0;34m,\u001b[0m \u001b[0mkwargs\u001b[0m\u001b[0;34m,\u001b[0m \u001b[0mself\u001b[0m\u001b[0;34m.\u001b[0m\u001b[0mdevice_ids\u001b[0m\u001b[0;34m[\u001b[0m\u001b[0;34m:\u001b[0m \u001b[0mlen\u001b[0m\u001b[0;34m(\u001b[0m\u001b[0mreplicas\u001b[0m\u001b[0;34m)\u001b[0m\u001b[0;34m]\u001b[0m\u001b[0;34m\u001b[0m\u001b[0;34m\u001b[0m\u001b[0m\n\u001b[1;32m    214\u001b[0m         )\n",
      "\u001b[0;32m/usr/local/lib/python3.10/dist-packages/torch/nn/parallel/parallel_apply.py\u001b[0m in \u001b[0;36mparallel_apply\u001b[0;34m(modules, inputs, kwargs_tup, devices)\u001b[0m\n\u001b[1;32m    116\u001b[0m             \u001b[0mthread\u001b[0m\u001b[0;34m.\u001b[0m\u001b[0mstart\u001b[0m\u001b[0;34m(\u001b[0m\u001b[0;34m)\u001b[0m\u001b[0;34m\u001b[0m\u001b[0;34m\u001b[0m\u001b[0m\n\u001b[1;32m    117\u001b[0m         \u001b[0;32mfor\u001b[0m \u001b[0mthread\u001b[0m \u001b[0;32min\u001b[0m \u001b[0mthreads\u001b[0m\u001b[0;34m:\u001b[0m\u001b[0;34m\u001b[0m\u001b[0;34m\u001b[0m\u001b[0m\n\u001b[0;32m--> 118\u001b[0;31m             \u001b[0mthread\u001b[0m\u001b[0;34m.\u001b[0m\u001b[0mjoin\u001b[0m\u001b[0;34m(\u001b[0m\u001b[0;34m)\u001b[0m\u001b[0;34m\u001b[0m\u001b[0;34m\u001b[0m\u001b[0m\n\u001b[0m\u001b[1;32m    119\u001b[0m     \u001b[0;32melse\u001b[0m\u001b[0;34m:\u001b[0m\u001b[0;34m\u001b[0m\u001b[0;34m\u001b[0m\u001b[0m\n\u001b[1;32m    120\u001b[0m         \u001b[0m_worker\u001b[0m\u001b[0;34m(\u001b[0m\u001b[0;36m0\u001b[0m\u001b[0;34m,\u001b[0m \u001b[0mmodules\u001b[0m\u001b[0;34m[\u001b[0m\u001b[0;36m0\u001b[0m\u001b[0;34m]\u001b[0m\u001b[0;34m,\u001b[0m \u001b[0minputs\u001b[0m\u001b[0;34m[\u001b[0m\u001b[0;36m0\u001b[0m\u001b[0;34m]\u001b[0m\u001b[0;34m,\u001b[0m \u001b[0mkwargs_tup\u001b[0m\u001b[0;34m[\u001b[0m\u001b[0;36m0\u001b[0m\u001b[0;34m]\u001b[0m\u001b[0;34m,\u001b[0m \u001b[0mdevices\u001b[0m\u001b[0;34m[\u001b[0m\u001b[0;36m0\u001b[0m\u001b[0;34m]\u001b[0m\u001b[0;34m,\u001b[0m \u001b[0mstreams\u001b[0m\u001b[0;34m[\u001b[0m\u001b[0;36m0\u001b[0m\u001b[0;34m]\u001b[0m\u001b[0;34m)\u001b[0m\u001b[0;34m\u001b[0m\u001b[0;34m\u001b[0m\u001b[0m\n",
      "\u001b[0;32m/usr/lib/python3.10/threading.py\u001b[0m in \u001b[0;36mjoin\u001b[0;34m(self, timeout)\u001b[0m\n\u001b[1;32m   1094\u001b[0m \u001b[0;34m\u001b[0m\u001b[0m\n\u001b[1;32m   1095\u001b[0m         \u001b[0;32mif\u001b[0m \u001b[0mtimeout\u001b[0m \u001b[0;32mis\u001b[0m \u001b[0;32mNone\u001b[0m\u001b[0;34m:\u001b[0m\u001b[0;34m\u001b[0m\u001b[0;34m\u001b[0m\u001b[0m\n\u001b[0;32m-> 1096\u001b[0;31m             \u001b[0mself\u001b[0m\u001b[0;34m.\u001b[0m\u001b[0m_wait_for_tstate_lock\u001b[0m\u001b[0;34m(\u001b[0m\u001b[0;34m)\u001b[0m\u001b[0;34m\u001b[0m\u001b[0;34m\u001b[0m\u001b[0m\n\u001b[0m\u001b[1;32m   1097\u001b[0m         \u001b[0;32melse\u001b[0m\u001b[0;34m:\u001b[0m\u001b[0;34m\u001b[0m\u001b[0;34m\u001b[0m\u001b[0m\n\u001b[1;32m   1098\u001b[0m             \u001b[0;31m# the behavior of a negative timeout isn't documented, but\u001b[0m\u001b[0;34m\u001b[0m\u001b[0;34m\u001b[0m\u001b[0m\n",
      "\u001b[0;32m/usr/lib/python3.10/threading.py\u001b[0m in \u001b[0;36m_wait_for_tstate_lock\u001b[0;34m(self, block, timeout)\u001b[0m\n\u001b[1;32m   1114\u001b[0m \u001b[0;34m\u001b[0m\u001b[0m\n\u001b[1;32m   1115\u001b[0m         \u001b[0;32mtry\u001b[0m\u001b[0;34m:\u001b[0m\u001b[0;34m\u001b[0m\u001b[0;34m\u001b[0m\u001b[0m\n\u001b[0;32m-> 1116\u001b[0;31m             \u001b[0;32mif\u001b[0m \u001b[0mlock\u001b[0m\u001b[0;34m.\u001b[0m\u001b[0macquire\u001b[0m\u001b[0;34m(\u001b[0m\u001b[0mblock\u001b[0m\u001b[0;34m,\u001b[0m \u001b[0mtimeout\u001b[0m\u001b[0;34m)\u001b[0m\u001b[0;34m:\u001b[0m\u001b[0;34m\u001b[0m\u001b[0;34m\u001b[0m\u001b[0m\n\u001b[0m\u001b[1;32m   1117\u001b[0m                 \u001b[0mlock\u001b[0m\u001b[0;34m.\u001b[0m\u001b[0mrelease\u001b[0m\u001b[0;34m(\u001b[0m\u001b[0;34m)\u001b[0m\u001b[0;34m\u001b[0m\u001b[0;34m\u001b[0m\u001b[0m\n\u001b[1;32m   1118\u001b[0m                 \u001b[0mself\u001b[0m\u001b[0;34m.\u001b[0m\u001b[0m_stop\u001b[0m\u001b[0;34m(\u001b[0m\u001b[0;34m)\u001b[0m\u001b[0;34m\u001b[0m\u001b[0;34m\u001b[0m\u001b[0m\n",
      "\u001b[0;31mKeyboardInterrupt\u001b[0m: "
     ]
    }
   ],
   "source": [
    "import evaluate\n",
    "\n",
    "trainer.evaluate()"
   ]
  },
  {
   "cell_type": "markdown",
   "metadata": {},
   "source": [
    "### View eval dataset"
   ]
  },
  {
   "cell_type": "code",
   "execution_count": 27,
   "metadata": {},
   "outputs": [
    {
     "name": "stdout",
     "output_type": "stream",
     "text": [
      "id: 2fac1b845b\n",
      "text:  whatever do you mean?\n",
      "label: 1\n",
      "label_text: neutral\n",
      "input_ids: [8820, 653, 498, 3076, 30] ... [151643, 151643, 151643, 151643, 151643]\n",
      "attention_mask: [1, 1, 1, 1, 1] ... [0, 0, 0, 0, 0]\n"
     ]
    }
   ],
   "source": [
    "for k, v in small_eval_dataset[1].items():\n",
    "    print(f\"{k}: {v[:5]} ... {v[-5:]}\") if isinstance(v, list) else print(f\"{k}: {v}\")"
   ]
  },
  {
   "cell_type": "code",
   "execution_count": null,
   "metadata": {},
   "outputs": [
    {
     "name": "stdout",
     "output_type": "stream",
     "text": [
      "\n",
      "Evaluating base model with proper prompting...\n",
      "Loading base LLM model...\n",
      "Evaluating on 1000 examples\n"
     ]
    },
    {
     "data": {
      "application/vnd.jupyter.widget-view+json": {
       "model_id": "5e2d9193518d4ecca51e45146f19f436",
       "version_major": 2,
       "version_minor": 0
      },
      "text/plain": [
       "Evaluating Base Model (Zero-Shot):   0%|          | 0/1000 [00:00<?, ?it/s]"
      ]
     },
     "metadata": {},
     "output_type": "display_data"
    },
    {
     "name": "stderr",
     "output_type": "stream",
     "text": [
      "/usr/local/lib/python3.10/dist-packages/transformers/generation/configuration_utils.py:628: UserWarning: `do_sample` is set to `False`. However, `temperature` is set to `0.1` -- this flag is only used in sample-based generation modes. You should set `do_sample=True` or unset `temperature`.\n",
      "  warnings.warn(\n"
     ]
    },
    {
     "name": "stdout",
     "output_type": "stream",
     "text": [
      "\n",
      "=== Base Model (Zero-Shot) Evaluation Results (on 1000 examples) ===\n",
      "Accuracy: 0.5750\n",
      "\n",
      "Classification Report:\n",
      "  Negative: Precision=0.6043, Recall=0.7908, F1=0.6851\n",
      "  Neutral: Precision=0.6187, Recall=0.2098, F1=0.3133\n",
      "  Positive: Precision=0.5407, Recall=0.8636, F1=0.6650\n"
     ]
    },
    {
     "data": {
      "image/png": "[encoded data removed]",
      "text/plain": [
       "<Figure size 800x600 with 2 Axes>"
      ]
     },
     "metadata": {},
     "output_type": "display_data"
    },
    {
     "data": {
      "image/png": "[encoded data removed]",
      "text/plain": [
       "<Figure size 1000x600 with 1 Axes>"
      ]
     },
     "metadata": {},
     "output_type": "display_data"
    },
    {
     "name": "stdout",
     "output_type": "stream",
     "text": [
      "\n",
      "🔍 Performance Improvement: 14.30% absolute increase in accuracy\n",
      "\n",
      "=== Example Predictions Comparison ===\n",
      "Tweet: Why is looking for girls names easier than looking for boys\n",
      "True label: Neutral\n",
      "Base model response: \"negative\"\n",
      "Base model prediction: Negative\n",
      "Fine-tuned model prediction: Neutral\n",
      "✓ Fine-tuned model prediction is correct\n",
      "----------------------------------------------------------------------\n",
      "Tweet: I`m a senior. I should of been already.\n",
      "True label: Neutral\n",
      "Base model response: \"negative\"\n",
      "Base model prediction: Negative\n",
      "Fine-tuned model prediction: Neutral\n",
      "✓ Fine-tuned model prediction is correct\n",
      "----------------------------------------------------------------------\n"
     ]
    },
    {
     "name": "stderr",
     "output_type": "stream",
     "text": [
      "/usr/local/lib/python3.10/dist-packages/transformers/generation/configuration_utils.py:628: UserWarning: `do_sample` is set to `False`. However, `temperature` is set to `0.1` -- this flag is only used in sample-based generation modes. You should set `do_sample=True` or unset `temperature`.\n",
      "  warnings.warn(\n"
     ]
    },
    {
     "name": "stdout",
     "output_type": "stream",
     "text": [
      "Tweet:  ooh, work im afarid  looking forward to a sunny weekeknd tho!!!\n",
      "True label: Negative\n",
      "Base model response: \"positive\"\n",
      "Base model prediction: Positive\n",
      "Fine-tuned model prediction: Positive\n",
      "----------------------------------------------------------------------\n",
      "Tweet:  yep  but I`m going better now\n",
      "True label: Positive\n",
      "Base model response: \"positive\"\n",
      "Base model prediction: Positive\n",
      "Fine-tuned model prediction: Positive\n",
      "✓ Base model prediction is correct\n",
      "✓ Fine-tuned model prediction is correct\n",
      "----------------------------------------------------------------------\n",
      "Tweet: The Heater blew up\n",
      "True label: Negative\n",
      "Base model response: \"negative\"\n",
      "Base model prediction: Negative\n",
      "Fine-tuned model prediction: Neutral\n",
      "✓ Base model prediction is correct\n",
      "----------------------------------------------------------------------\n"
     ]
    },
    {
     "data": {
      "text/markdown": [
       "\n",
       "## Model Comparison Summary\n",
       "\n",
       "- Base Model (Zero-Shot) Accuracy: 0.5750\n",
       "- Fine-tuned Model Accuracy: 0.7180\n",
       "- Absolute Improvement: 14.30%\n",
       "- Relative Improvement: 2486.96%\n",
       "\n",
       "### Per-Class Improvements:\n",
       "\n",
       "| Class | Base F1 | Fine-tuned F1 | Improvement |\n",
       "|-------|---------|---------------|-------------|\n",
       "| Negative | 0.6851 | 0.6940 | 0.89% |\n",
       "| Neutral | 0.3133 | 0.7044 | 39.11% |\n",
       "| Positive | 0.6650 | 0.7592 | 9.42% |\n"
      ],
      "text/plain": [
       "<IPython.core.display.Markdown object>"
      ]
     },
     "metadata": {},
     "output_type": "display_data"
    }
   ],
   "source": [
    "# Add model comparison functionality\n",
    "import torch\n",
    "# 1. Function to evaluate a model on the validation dataset\n",
    "def evaluate_model(model, tokenizer, eval_dataset, name=\"Model\"):\n",
    "    \"\"\"Evaluate a model on the validation dataset and return metrics\"\"\"\n",
    "    from tqdm.notebook import tqdm\n",
    "    import torch\n",
    "    import numpy as np\n",
    "    from sklearn.metrics import accuracy_score, classification_report, confusion_matrix\n",
    "    import matplotlib.pyplot as plt\n",
    "    import seaborn as sns\n",
    "    \n",
    "    device = \"cuda\" if torch.cuda.is_available() else \"cpu\"\n",
    "    model.to(device)\n",
    "    model.eval()\n",
    "    \n",
    "    all_preds = []\n",
    "    all_labels = []\n",
    "    \n",
    "    # Process validation data in batches\n",
    "    batch_size = 1  # adjust based on your GPU memory\n",
    "    \n",
    "    for i in tqdm(range(0, len(eval_dataset), batch_size), desc=f\"Evaluating {name}\"):\n",
    "        batch = eval_dataset[i:i+batch_size]\n",
    "        # Batch looks like: dict_keys(['id', 'text', 'label', 'label_text', 'input_ids', 'attention_mask'])\n",
    "        inputs = {k: torch.tensor(v).to(device) for k, v in batch.items() \n",
    "                 if k in ['input_ids', 'attention_mask']}\n",
    "        labels = torch.tensor(batch['label']).to(device) if 'label' in batch else None\n",
    "        \n",
    "        with torch.no_grad():\n",
    "            outputs = model(**inputs)\n",
    "            \n",
    "        logits = outputs.logits\n",
    "        predictions = torch.argmax(logits, dim=-1).cpu().numpy()\n",
    "        \n",
    "        all_preds.extend(predictions)\n",
    "        if labels is not None:\n",
    "            all_labels.extend(labels.cpu().numpy())\n",
    "    \n",
    "    # Calculate metrics\n",
    "    accuracy = accuracy_score(all_labels, all_preds)\n",
    "    report = classification_report(all_labels, all_preds, target_names=[\"Negative\", \"Neutral\", \"Positive\"], output_dict=True)\n",
    "    \n",
    "    # Print results\n",
    "    print(f\"\\n=== {name} Evaluation Results ===\")\n",
    "    print(f\"Accuracy: {accuracy:.4f}\")\n",
    "    print(\"\\nClassification Report:\")\n",
    "    for label, metrics in report.items():\n",
    "        if label in [\"Negative\", \"Neutral\", \"Positive\"]:\n",
    "            print(f\"  {label}: Precision={metrics['precision']:.4f}, Recall={metrics['recall']:.4f}, F1={metrics['f1-score']:.4f}\")\n",
    "    \n",
    "    # Plot confusion matrix\n",
    "    cm = confusion_matrix(all_labels, all_preds)\n",
    "    plt.figure(figsize=(8, 6))\n",
    "    sns.heatmap(cm, annot=True, fmt='d', cmap='Blues',\n",
    "                xticklabels=[\"Negative\", \"Neutral\", \"Positive\"],\n",
    "                yticklabels=[\"Negative\", \"Neutral\", \"Positive\"])\n",
    "    plt.xlabel('Predicted')\n",
    "    plt.ylabel('True')\n",
    "    plt.title(f'{name} Confusion Matrix')\n",
    "    plt.tight_layout()\n",
    "    plt.show()\n",
    "    \n",
    "    return {\n",
    "        \"accuracy\": accuracy,\n",
    "        \"classification_report\": report,\n",
    "        \"confusion_matrix\": cm,\n",
    "        \"predictions\": all_preds,\n",
    "        \"labels\": all_labels\n",
    "    }\n",
    "\n",
    "# Better base model evaluation with zero-shot prompting\n",
    "def evaluate_base_model_with_prompting(tokenizer, eval_dataset, name=\"Base Model with Prompting\", max_samples=None):\n",
    "    \"\"\"Evaluate base model using zero-shot prompting approach\"\"\"\n",
    "    from tqdm.notebook import tqdm\n",
    "    import torch\n",
    "    from transformers import AutoModelForCausalLM\n",
    "    import numpy as np\n",
    "    from sklearn.metrics import accuracy_score, classification_report, confusion_matrix\n",
    "    import matplotlib.pyplot as plt\n",
    "    import seaborn as sns\n",
    "    \n",
    "    # Load full LLM model (not classification head)\n",
    "    print(\"Loading base LLM model...\")\n",
    "    base_llm = AutoModelForCausalLM.from_pretrained(HF_MODEL_NAME)\n",
    "    device = \"cuda\" if torch.cuda.is_available() else \"cpu\"\n",
    "    base_llm.to(device)\n",
    "    base_llm.eval()\n",
    "    \n",
    "    all_preds = []\n",
    "    all_labels = []\n",
    "    \n",
    "    # Define sentiment mapping\n",
    "    sentiment_map = {\n",
    "        \"negative\": 0,\n",
    "        \"neutral\": 1, \n",
    "        \"positive\": 2\n",
    "    }\n",
    "    \n",
    "    # Determine how many examples to evaluate\n",
    "    num_examples = len(eval_dataset) if max_samples is None else min(max_samples, len(eval_dataset))\n",
    "    print(f\"Evaluating on {num_examples} examples\")\n",
    "    \n",
    "    # Process validation data\n",
    "    for i in tqdm(range(num_examples), desc=f\"Evaluating {name}\"):\n",
    "        example = eval_dataset[i]\n",
    "        text = tokenizer.decode(example['input_ids'], skip_special_tokens=True)\n",
    "        true_label = example['label']\n",
    "        \n",
    "        # Create zero-shot prompt\n",
    "        prompt = f\"\"\"Classify the sentiment of this tweet as either positive, negative, or neutral.\n",
    "Tweet: \"{text}\"\n",
    "Sentiment:\"\"\"\n",
    "\n",
    "        inputs = tokenizer(prompt, return_tensors=\"pt\").to(device)\n",
    "        \n",
    "        # Generate response with base model\n",
    "        with torch.no_grad():\n",
    "            outputs = base_llm.generate(\n",
    "                inputs.input_ids,\n",
    "                max_new_tokens=10,\n",
    "                temperature=0.1,  # Low temperature for more deterministic output\n",
    "                pad_token_id=tokenizer.eos_token_id\n",
    "            )\n",
    "        \n",
    "        # Decode response\n",
    "        response = tokenizer.decode(outputs[0][inputs.input_ids.shape[1]:], skip_special_tokens=True).strip().lower()\n",
    "        \n",
    "        # Get prediction based on response\n",
    "        if \"positive\" in response:\n",
    "            pred = 2\n",
    "        elif \"negative\" in response:\n",
    "            pred = 0\n",
    "        elif \"neutral\" in response:\n",
    "            pred = 1\n",
    "        else:\n",
    "            # Fallback for unclear responses - use most frequent word among sentiment options\n",
    "            words = response.split()\n",
    "            for word in words:\n",
    "                if word in sentiment_map:\n",
    "                    pred = sentiment_map[word]\n",
    "                    break\n",
    "            else:\n",
    "                pred = 1  # Default to neutral if no sentiment word is found\n",
    "        \n",
    "        all_preds.append(pred)\n",
    "        all_labels.append(true_label)\n",
    "    \n",
    "    # Calculate metrics\n",
    "    accuracy = accuracy_score(all_labels, all_preds)\n",
    "    report = classification_report(all_labels, all_preds, target_names=[\"Negative\", \"Neutral\", \"Positive\"], output_dict=True)\n",
    "    \n",
    "    # Print results\n",
    "    print(f\"\\n=== {name} Evaluation Results (on {num_examples} examples) ===\")\n",
    "    print(f\"Accuracy: {accuracy:.4f}\")\n",
    "    print(\"\\nClassification Report:\")\n",
    "    for label, metrics in report.items():\n",
    "        if label in [\"Negative\", \"Neutral\", \"Positive\"]:\n",
    "            print(f\"  {label}: Precision={metrics['precision']:.4f}, Recall={metrics['recall']:.4f}, F1={metrics['f1-score']:.4f}\")\n",
    "    \n",
    "    # Plot confusion matrix\n",
    "    cm = confusion_matrix(all_labels, all_preds)\n",
    "    plt.figure(figsize=(8, 6))\n",
    "    sns.heatmap(cm, annot=True, fmt='d', cmap='Blues',\n",
    "                xticklabels=[\"Negative\", \"Neutral\", \"Positive\"],\n",
    "                yticklabels=[\"Negative\", \"Neutral\", \"Positive\"])\n",
    "    plt.xlabel('Predicted')\n",
    "    plt.ylabel('True')\n",
    "    plt.title(f'{name} Confusion Matrix (on {num_examples} examples)')\n",
    "    plt.tight_layout()\n",
    "    plt.show()\n",
    "    \n",
    "    return {\n",
    "        \"accuracy\": accuracy,\n",
    "        \"classification_report\": report,\n",
    "        \"confusion_matrix\": cm,\n",
    "        \"predictions\": all_preds,\n",
    "        \"labels\": all_labels,\n",
    "        \"num_examples\": num_examples\n",
    "    }\n",
    "\n",
    "# Run the proper base model evaluation\n",
    "print(\"\\nEvaluating base model with proper prompting...\")\n",
    "\n",
    "# Set sample_size to adjust how many examples to use\n",
    "# For quick testing, use a small number (100-200)\n",
    "# For full evaluation (matching the fine-tuned model), use None or the full size\n",
    "sample_size = None  # Use None to evaluate on all examples, same as fine-tuned model\n",
    "\n",
    "base_metrics_proper = evaluate_base_model_with_prompting(\n",
    "    tokenizer=tokenizer,\n",
    "    eval_dataset=small_eval_dataset,\n",
    "    name=\"Base Model (Zero-Shot)\",\n",
    "    max_samples=sample_size\n",
    ")\n",
    "\n",
    "# 3. Visualize the comparison\n",
    "# Update the comparison - include sample size in the label\n",
    "base_model_label = f'Base Model (Zero-Shot, n={base_metrics_proper[\"num_examples\"]})'\n",
    "finetuned_model_label = f'Fine-tuned Model (n={len(finetuned_metrics[\"predictions\"])})'\n",
    "\n",
    "labels = [base_model_label, finetuned_model_label]\n",
    "accuracies = [base_metrics_proper['accuracy'], finetuned_metrics['accuracy']]\n",
    "\n",
    "plt.figure(figsize=(10, 6))\n",
    "bars = plt.bar(labels, accuracies, color=['lightgray', 'skyblue'])\n",
    "plt.ylim(0, 1.0)\n",
    "plt.ylabel('Accuracy')\n",
    "plt.title('Model Accuracy Comparison')\n",
    "\n",
    "for bar in bars:\n",
    "    height = bar.get_height()\n",
    "    plt.text(bar.get_x() + bar.get_width()/2., height + 0.01,\n",
    "            f'{height:.4f}', ha='center', va='bottom')\n",
    "\n",
    "plt.tight_layout()\n",
    "plt.show()\n",
    "\n",
    "# Calculate improvement\n",
    "improvement = (finetuned_metrics['accuracy'] - base_metrics_proper['accuracy']) * 100\n",
    "print(f\"\\n🔍 Performance Improvement: {improvement:.2f}% absolute increase in accuracy\")\n",
    "\n",
    "# 4. Example predictions comparison with zero-shot base model\n",
    "print(\"\\n=== Example Predictions Comparison ===\")\n",
    "# Sample 5 random examples from the validation set\n",
    "import random\n",
    "sample_indices = random.sample(range(len(small_eval_dataset)), 5)\n",
    "\n",
    "# Keep reference to the base LLM model if it exists, otherwise load it\n",
    "if 'base_llm' not in locals():\n",
    "    print(\"Loading base LLM model for examples...\")\n",
    "    from transformers import AutoModelForCausalLM\n",
    "    base_llm = AutoModelForCausalLM.from_pretrained(HF_MODEL_NAME)\n",
    "    base_llm.to(\"cuda\" if torch.cuda.is_available() else \"cpu\")\n",
    "    base_llm.eval()\n",
    "\n",
    "# Map numerical labels to text\n",
    "label_map = {0: \"Negative\", 1: \"Neutral\", 2: \"Positive\"}\n",
    "\n",
    "for idx in sample_indices:\n",
    "    example = small_eval_dataset[idx]\n",
    "    text = tokenizer.decode(example['input_ids'], skip_special_tokens=True)\n",
    "    true_label = example['label']\n",
    "    \n",
    "    # Create prompt for base model\n",
    "    prompt = f\"\"\"Classify the sentiment of this tweet as either positive, negative, or neutral.\n",
    "Tweet: \"{text}\"\n",
    "Sentiment:\"\"\"\n",
    "\n",
    "    # Get prediction from base model using zero-shot prompting\n",
    "    inputs = tokenizer(prompt, return_tensors=\"pt\").to(base_llm.device)\n",
    "    \n",
    "    with torch.no_grad():\n",
    "        outputs = base_llm.generate(\n",
    "            inputs.input_ids,\n",
    "            max_new_tokens=10,\n",
    "            temperature=0.1,\n",
    "            pad_token_id=tokenizer.eos_token_id\n",
    "        )\n",
    "    \n",
    "    # Decode and interpret base model response\n",
    "    base_response = tokenizer.decode(outputs[0][inputs.input_ids.shape[1]:], skip_special_tokens=True).strip().lower()\n",
    "    \n",
    "    # Get base model prediction from response text\n",
    "    if \"positive\" in base_response:\n",
    "        base_pred = 2\n",
    "    elif \"negative\" in base_response:\n",
    "        base_pred = 0\n",
    "    elif \"neutral\" in base_response:\n",
    "        base_pred = 1\n",
    "    else:\n",
    "        # Default to neutral if unclear\n",
    "        base_pred = 1\n",
    "    \n",
    "    # Get prediction from fine-tuned model\n",
    "    ft_inputs = tokenizer(text, return_tensors=\"pt\", truncation=True, padding=True)\n",
    "    with torch.no_grad():\n",
    "        ft_outputs = trainer.model(**{k: v.to(trainer.model.device) for k, v in ft_inputs.items()})\n",
    "        ft_pred = torch.argmax(ft_outputs.logits, dim=-1).item()\n",
    "    \n",
    "    # Print comparison\n",
    "    print(f\"Tweet: {text}\")\n",
    "    print(f\"True label: {label_map[true_label]}\")\n",
    "    print(f\"Base model response: \\\"{base_response}\\\"\")\n",
    "    print(f\"Base model prediction: {label_map[base_pred]}\")\n",
    "    print(f\"Fine-tuned model prediction: {label_map[ft_pred]}\")\n",
    "    \n",
    "    # Add a checkmark for correct predictions\n",
    "    if base_pred == true_label:\n",
    "        print(\"✓ Base model prediction is correct\")\n",
    "    if ft_pred == true_label:\n",
    "        print(\"✓ Fine-tuned model prediction is correct\")\n",
    "    \n",
    "    print(\"-\" * 70)\n",
    "\n",
    "# Display a final summary of improvements\n",
    "improvement_summary = f\"\"\"\n",
    "## Model Comparison Summary\n",
    "\n",
    "- Base Model (Zero-Shot) Accuracy: {base_metrics_proper['accuracy']:.4f}\n",
    "- Fine-tuned Model Accuracy: {finetuned_metrics['accuracy']:.4f}\n",
    "- Absolute Improvement: {improvement:.2f}%\n",
    "- Relative Improvement: {(improvement / base_metrics_proper['accuracy'] * 100):.2f}%\n",
    "\n",
    "### Per-Class Improvements:\n",
    "\n",
    "| Class | Base F1 | Fine-tuned F1 | Improvement |\n",
    "|-------|---------|---------------|-------------|\n",
    "\"\"\"\n",
    "\n",
    "for label in [\"Negative\", \"Neutral\", \"Positive\"]:\n",
    "    base_f1 = base_metrics_proper['classification_report'][label]['f1-score']\n",
    "    ft_f1 = finetuned_metrics['classification_report'][label]['f1-score']\n",
    "    class_improvement = (ft_f1 - base_f1) * 100\n",
    "    improvement_summary += f\"| {label} | {base_f1:.4f} | {ft_f1:.4f} | {class_improvement:.2f}% |\\n\"\n",
    "\n",
    "from IPython.display import Markdown\n",
    "display(Markdown(improvement_summary))"
   ]
  },
  {
   "cell_type": "code",
   "execution_count": null,
   "metadata": {},
   "outputs": [],
   "source": []
  }
 ],
 "metadata": {
  "kaggle": {
   "accelerator": "gpu",
   "dataSources": [],
   "dockerImageVersionId": 30919,
   "isGpuEnabled": true,
   "isInternetEnabled": true,
   "language": "python",
   "sourceType": "notebook"
  },
  "kernelspec": {
   "display_name": "Python 3",
   "language": "python",
   "name": "python3"
  },
  "language_info": {
   "codemirror_mode": {
    "name": "ipython",
    "version": 3
   },
   "file_extension": ".py",
   "mimetype": "text/x-python",
   "name": "python",
   "nbconvert_exporter": "python",
   "pygments_lexer": "ipython3",
   "version": "3.10.12"
  }
 },
 "nbformat": 4,
 "nbformat_minor": 4
}
