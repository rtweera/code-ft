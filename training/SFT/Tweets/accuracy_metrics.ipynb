{
 "cells": [
  {
   "cell_type": "markdown",
   "id": "a679b1d1",
   "metadata": {},
   "source": [
    "## Setup secrets"
   ]
  },
  {
   "cell_type": "code",
   "execution_count": 1,
   "id": "0a606d6d",
   "metadata": {},
   "outputs": [],
   "source": [
    "from kaggle_secrets import UserSecretsClient\n",
    "\n",
    "user_secrets = UserSecretsClient()\n",
    "HF_TOKEN = user_secrets.get_secret(\"HF_TOKEN\")\n",
    "WANDB_TOKEN = user_secrets.get_secret(\"WANDB_TOKEN\")"
   ]
  },
  {
   "cell_type": "markdown",
   "id": "07561497",
   "metadata": {},
   "source": [
    "## Load Dataset"
   ]
  },
  {
   "cell_type": "code",
   "execution_count": 2,
   "id": "485686f9",
   "metadata": {},
   "outputs": [
    {
     "name": "stdout",
     "output_type": "stream",
     "text": [
      "/bin/bash: line 1: 14: No such file or directory\n",
      "Note: you may need to restart the kernel to use updated packages.\n",
      "✅ fsspec and rich downgraded.\n",
      "\u001b[2K   \u001b[90m━━━━━━━━━━━━━━━━━━━━━━━━━━━━━━━━━━━━━━━━\u001b[0m \u001b[32m183.9/183.9 kB\u001b[0m \u001b[31m4.4 MB/s\u001b[0m eta \u001b[36m0:00:00\u001b[0ma \u001b[36m0:00:01\u001b[0m\n",
      "\u001b[?25h\u001b[31mERROR: pip's dependency resolver does not currently take into account all the packages that are installed. This behaviour is the source of the following dependency conflicts.\n",
      "gcsfs 2024.10.0 requires fsspec==2024.10.0, but you have fsspec 2024.12.0 which is incompatible.\n",
      "torch 2.5.1+cu124 requires nvidia-cublas-cu12==12.4.5.8; platform_system == \"Linux\" and platform_machine == \"x86_64\", but you have nvidia-cublas-cu12 12.8.4.1 which is incompatible.\n",
      "torch 2.5.1+cu124 requires nvidia-cudnn-cu12==9.1.0.70; platform_system == \"Linux\" and platform_machine == \"x86_64\", but you have nvidia-cudnn-cu12 9.3.0.75 which is incompatible.\n",
      "torch 2.5.1+cu124 requires nvidia-cufft-cu12==11.2.1.3; platform_system == \"Linux\" and platform_machine == \"x86_64\", but you have nvidia-cufft-cu12 11.3.3.83 which is incompatible.\n",
      "torch 2.5.1+cu124 requires nvidia-curand-cu12==10.3.5.147; platform_system == \"Linux\" and platform_machine == \"x86_64\", but you have nvidia-curand-cu12 10.3.9.90 which is incompatible.\n",
      "torch 2.5.1+cu124 requires nvidia-cusolver-cu12==11.6.1.9; platform_system == \"Linux\" and platform_machine == \"x86_64\", but you have nvidia-cusolver-cu12 11.7.3.90 which is incompatible.\n",
      "torch 2.5.1+cu124 requires nvidia-cusparse-cu12==12.3.1.170; platform_system == \"Linux\" and platform_machine == \"x86_64\", but you have nvidia-cusparse-cu12 12.5.8.93 which is incompatible.\n",
      "torch 2.5.1+cu124 requires nvidia-nvjitlink-cu12==12.4.127; platform_system == \"Linux\" and platform_machine == \"x86_64\", but you have nvidia-nvjitlink-cu12 12.8.93 which is incompatible.\n",
      "bigframes 1.36.0 requires rich<14,>=12.4.4, but you have rich 14.0.0 which is incompatible.\u001b[0m\u001b[31m\n",
      "\u001b[0mNote: you may need to restart the kernel to use updated packages.\n",
      "✅ Initial libraries installed.\n",
      "\u001b[31mERROR: Ignored the following yanked versions: 0.1.6, 0.1.7, 0.1.8, 0.1.9, 0.2.0, 0.2.1, 0.2.2, 0.2.2.post2, 0.2.2.post3, 0.15.0\u001b[0m\u001b[31m\n",
      "\u001b[0m\u001b[31mERROR: Could not find a version that satisfies the requirement torchvision==0.16.1+cu124 (from versions: 0.1.6, 0.2.0, 0.15.1, 0.15.2, 0.16.0, 0.16.1, 0.16.2, 0.17.0, 0.17.1, 0.17.2, 0.18.0, 0.18.1, 0.19.0, 0.19.0+cu124, 0.19.1, 0.19.1+cu124, 0.20.0, 0.20.0+cu124, 0.20.1, 0.20.1+cu124, 0.21.0, 0.21.0+cu124)\u001b[0m\u001b[31m\n",
      "\u001b[0m\u001b[31mERROR: No matching distribution found for torchvision==0.16.1+cu124\u001b[0m\u001b[31m\n",
      "\u001b[0mNote: you may need to restart the kernel to use updated packages.\n",
      "✅ CUDA libraries installed.\n"
     ]
    },
    {
     "data": {
      "application/vnd.jupyter.widget-view+json": {
       "model_id": "c47b11a4778d4f499f3c47de70ca5e67",
       "version_major": 2,
       "version_minor": 0
      },
      "text/plain": [
       "README.md:   0%|          | 0.00/22.0 [00:00<?, ?B/s]"
      ]
     },
     "metadata": {},
     "output_type": "display_data"
    },
    {
     "data": {
      "application/vnd.jupyter.widget-view+json": {
       "model_id": "9c741b2d5d4f41b3ba1b7b0d8afe708c",
       "version_major": 2,
       "version_minor": 0
      },
      "text/plain": [
       "train.jsonl:   0%|          | 0.00/3.63M [00:00<?, ?B/s]"
      ]
     },
     "metadata": {},
     "output_type": "display_data"
    },
    {
     "data": {
      "application/vnd.jupyter.widget-view+json": {
       "model_id": "8853484c97034f5bb3c291fbe2c96984",
       "version_major": 2,
       "version_minor": 0
      },
      "text/plain": [
       "test.jsonl:   0%|          | 0.00/465k [00:00<?, ?B/s]"
      ]
     },
     "metadata": {},
     "output_type": "display_data"
    },
    {
     "data": {
      "application/vnd.jupyter.widget-view+json": {
       "model_id": "529b44e85c76467ab6edc98c7ad7a961",
       "version_major": 2,
       "version_minor": 0
      },
      "text/plain": [
       "Generating train split:   0%|          | 0/27481 [00:00<?, ? examples/s]"
      ]
     },
     "metadata": {},
     "output_type": "display_data"
    },
    {
     "data": {
      "application/vnd.jupyter.widget-view+json": {
       "model_id": "32337a2126da4e86b31aeb11eb5b15bb",
       "version_major": 2,
       "version_minor": 0
      },
      "text/plain": [
       "Generating test split:   0%|          | 0/3534 [00:00<?, ? examples/s]"
      ]
     },
     "metadata": {},
     "output_type": "display_data"
    },
    {
     "name": "stdout",
     "output_type": "stream",
     "text": [
      "✅ Dataset loaded.\n"
     ]
    }
   ],
   "source": [
    "# Downgrade fsspec and rich to match other packages' requirements\n",
    "%pip install --quiet fsspec==2024.10.0 rich<14\n",
    "print(\"✅ fsspec and rich downgraded.\")\n",
    "\n",
    "%pip install --quiet datasets pandas transformers huggingface_hub ipywidgets\n",
    "print(\"✅ Initial libraries installed.\")\n",
    "\n",
    "# Install compatible CUDA libraries for torch 2.5.1+cu124\n",
    "%pip install --quiet torch==2.5.1+cu124 torchvision==0.16.1+cu124 torchaudio==2.5.1+cu124 --extra-index-url https://download.pytorch.org/whl/cu124\n",
    "print(\"✅ CUDA libraries installed.\")\n",
    "\n",
    "\n",
    "from datasets import load_dataset\n",
    "# import pandas as pd\n",
    "\n",
    "dataset = load_dataset(\"mteb/tweet_sentiment_extraction\")\n",
    "print(\"✅ Dataset loaded.\")"
   ]
  },
  {
   "cell_type": "markdown",
   "id": "a8bd47af",
   "metadata": {},
   "source": [
    "## HuggingFace Setup"
   ]
  },
  {
   "cell_type": "code",
   "execution_count": 3,
   "id": "77d8bd52",
   "metadata": {},
   "outputs": [
    {
     "name": "stdout",
     "output_type": "stream",
     "text": [
      "✅ Logged in to Hugging Face Hub\n"
     ]
    }
   ],
   "source": [
    "import huggingface_hub\n",
    "\n",
    "try:\n",
    "    # login(token=HF_TOKEN)\n",
    "    huggingface_hub.login(token=HF_TOKEN)\n",
    "    print(\"✅ Logged in to Hugging Face Hub\")\n",
    "except Exception as e:\n",
    "    print(f\"❌ Error during login: {e}\")\n",
    "    print(\"✅ Please ensure you have a valid Hugging Face token in your .env file.\")\n",
    "    exit(1)"
   ]
  },
  {
   "cell_type": "markdown",
   "id": "e0717720",
   "metadata": {},
   "source": [
    "# Import models"
   ]
  },
  {
   "cell_type": "code",
   "execution_count": 6,
   "id": "92b29252",
   "metadata": {},
   "outputs": [
    {
     "data": {
      "text/plain": [
       "Qwen2ForSequenceClassification(\n",
       "  (model): Qwen2Model(\n",
       "    (embed_tokens): Embedding(151665, 896, padding_idx=151643)\n",
       "    (layers): ModuleList(\n",
       "      (0-23): 24 x Qwen2DecoderLayer(\n",
       "        (self_attn): Qwen2Attention(\n",
       "          (q_proj): Linear(in_features=896, out_features=896, bias=True)\n",
       "          (k_proj): Linear(in_features=896, out_features=128, bias=True)\n",
       "          (v_proj): Linear(in_features=896, out_features=128, bias=True)\n",
       "          (o_proj): Linear(in_features=896, out_features=896, bias=False)\n",
       "        )\n",
       "        (mlp): Qwen2MLP(\n",
       "          (gate_proj): Linear(in_features=896, out_features=4864, bias=False)\n",
       "          (up_proj): Linear(in_features=896, out_features=4864, bias=False)\n",
       "          (down_proj): Linear(in_features=4864, out_features=896, bias=False)\n",
       "          (act_fn): SiLU()\n",
       "        )\n",
       "        (input_layernorm): Qwen2RMSNorm((896,), eps=1e-06)\n",
       "        (post_attention_layernorm): Qwen2RMSNorm((896,), eps=1e-06)\n",
       "      )\n",
       "    )\n",
       "    (norm): Qwen2RMSNorm((896,), eps=1e-06)\n",
       "    (rotary_emb): Qwen2RotaryEmbedding()\n",
       "  )\n",
       "  (score): Linear(in_features=896, out_features=3, bias=False)\n",
       ")"
      ]
     },
     "execution_count": 6,
     "metadata": {},
     "output_type": "execute_result"
    }
   ],
   "source": [
    "import torch\n",
    "from transformers import AutoModelForSequenceClassification, AutoModelForCausalLM, AutoTokenizer\n",
    "\n",
    "BASE_MODEL = \"Qwen/Qwen2.5-0.5B\"\n",
    "FT_MODEL = \"rtweera/Qwen2.5-0.5B_2025-04-18_11-44-30\"\n",
    "\n",
    "base_model = AutoModelForCausalLM.from_pretrained(BASE_MODEL)    \n",
    "base_tokenizer = AutoTokenizer.from_pretrained(BASE_MODEL, trust_remote_code=True, padding_side='left')\n",
    "\n",
    "ft_model = AutoModelForSequenceClassification.from_pretrained(FT_MODEL, num_labels=3)\n",
    "ft_tokenizer = AutoTokenizer.from_pretrained(FT_MODEL, trust_remote_code=True)\n",
    "\n",
    "device = \"cuda:0\" if torch.cuda.is_available() else \"cpu\"\n",
    "base_model.to(device)\n",
    "ft_model.to(device)\n",
    "\n",
    "# Set to eval mode\n",
    "base_model.eval()\n",
    "ft_model.eval()"
   ]
  },
  {
   "cell_type": "markdown",
   "id": "2f6a5474",
   "metadata": {},
   "source": []
  },
  {
   "cell_type": "code",
   "execution_count": 28,
   "id": "392249c5",
   "metadata": {},
   "outputs": [
    {
     "name": "stdout",
     "output_type": "stream",
     "text": [
      "✅ Model pad_token_id set.\n",
      "✅ one-shot prompts generated.\n",
      "✅ Prompts tokenized.\n",
      "✅ Model outputs generated.\n",
      "✅ Model responses decoded.\n",
      "✅ Predictions generated.\n",
      "📝 Accuracy calculated: 0.53\n",
      "📝 F1 score calculated: 0.46\n",
      "📝 Classification report:\n",
      "              precision    recall  f1-score   support\n",
      "\n",
      "    negative       0.46      0.92      0.62       144\n",
      "     neutral       0.63      0.11      0.18       204\n",
      "    positive       0.62      0.73      0.67       152\n",
      "\n",
      "    accuracy                           0.53       500\n",
      "   macro avg       0.57      0.59      0.49       500\n",
      "weighted avg       0.58      0.53      0.46       500\n",
      "\n",
      "📝 Confusion matrix:\n",
      "\n"
     ]
    },
    {
     "data": {
      "image/png": "[encoded data removed]",
      "text/plain": [
       "<Figure size 800x600 with 2 Axes>"
      ]
     },
     "metadata": {},
     "output_type": "display_data"
    },
    {
     "name": "stdout",
     "output_type": "stream",
     "text": [
      "📝 Prediction Counts\n"
     ]
    },
    {
     "data": {
      "image/png": "[encoded data removed]",
      "text/plain": [
       "<Figure size 800x600 with 1 Axes>"
      ]
     },
     "metadata": {},
     "output_type": "display_data"
    }
   ],
   "source": [
    "# %debug\n",
    "from IPython.core.debugger import set_trace\n",
    "from sklearn.metrics import accuracy_score, classification_report, confusion_matrix, f1_score\n",
    "import matplotlib.pyplot as plt\n",
    "import seaborn as sns\n",
    "import pandas as pd\n",
    "\n",
    "def get_zero_shot_prompt(test_dataset):\n",
    "    texts = test_dataset['text']\n",
    "    labels = test_dataset['label_text']\n",
    "    prompts = []\n",
    "    for text in texts:\n",
    "        prompt = f\"Please classify the following tweet as `positive`, `negative`, or `neutral`: {text}\"\n",
    "        prompts.append(prompt)\n",
    "    return prompts, labels\n",
    "\n",
    "def get_one_shot_prompt(test_dataset):\n",
    "    texts = test_dataset['text']\n",
    "    labels = test_dataset['label_text']\n",
    "    prompts = []\n",
    "    for text in texts:\n",
    "        prompt = f\"Please classify the sentiment of the following tweet as `positive`, `negative`, or `neutral`. Here's an example:\\n\\nTweet: This is the best day ever!\\nSentiment: positive\\n\\nTweet: {text}\\nSentiment:\"\n",
    "        prompts.append(prompt)\n",
    "    return prompts, labels\n",
    "\n",
    "def get_few_shot_prompt(test_dataset):\n",
    "    texts = test_dataset['text']\n",
    "    labels = test_dataset['label_text']\n",
    "    prompts = []\n",
    "    for text in texts:\n",
    "        prompt = f\"Please classify the sentiment of the following tweets as `positive`, `negative`, or `neutral`. Here are a few examples:\\n\\nTweet: I am so happy right now!\\nSentiment: positive\\n\\nTweet: This is absolutely terrible.\\nSentiment: negative\\n\\nTweet: The weather is cloudy today.\\nSentiment: neutral\\n\\nTweet: I'm feeling quite disappointed.\\nSentiment: negative\\n\\nTweet: {text}\\nSentiment:\"\n",
    "        prompts.append(prompt)\n",
    "    return prompts, labels\n",
    "\n",
    "def get_prediction_from_response(response):\n",
    "    if \"positive\" in response and \"negative\" not in response and \"neutral\" not in response:\n",
    "        return \"positive\"\n",
    "    elif \"negative\" in response and \"positive\" not in response and \"neutral\" not in response:\n",
    "        return \"negative\"\n",
    "    elif \"neutral\" in response and \"positive\" not in response and \"negative\" not in response:\n",
    "        return \"neutral\"\n",
    "    else:\n",
    "        return \"unknown\"\n",
    "\n",
    "def evaluate_base_model(tokenizer, model, test_dataset, eval_type):\n",
    "    if eval_type == 'zero-shot':\n",
    "        prompts, labels = get_zero_shot_prompt(test_dataset)\n",
    "    elif eval_type == 'one-shot':\n",
    "        prompts, labels = get_one_shot_prompt(test_dataset)\n",
    "    elif eval_type == 'few-shot':\n",
    "        prompts, labels = get_few_shot_prompt(test_dataset)\n",
    "    else:\n",
    "        raise ValueError(f\"Invalid eval_type: {eval_type}\")\n",
    "    print(f\"✅ {eval_type} prompts generated.\")\n",
    "\n",
    "    inputs = tokenizer(prompts, return_tensors=\"pt\", padding=True).to(device)\n",
    "    print(f\"✅ Prompts tokenized.\")\n",
    "\n",
    "    with torch.no_grad():\n",
    "        outputs = model.generate(\n",
    "            inputs.input_ids, \n",
    "            attention_mask=inputs.attention_mask,\n",
    "            do_sample=False,\n",
    "            max_new_tokens=10,\n",
    "            pad_token_id=tokenizer.eos_token_id  # Set the pad token ID for generation\n",
    "        )\n",
    "    print(f\"✅ Model outputs generated.\")\n",
    "\n",
    "    # Decode response\n",
    "    responses = []\n",
    "    for i in range(len(outputs)):\n",
    "        # print(inputs.input_ids[i].shape)\n",
    "        # print(f\"❓ Prompt {i}: {prompts[i]}\")\n",
    "        input_length = inputs.input_ids[i].shape[0]\n",
    "        response = tokenizer.decode(outputs[i][input_length:], skip_special_tokens=True)\n",
    "        # print(f\"🗯 Response {i}: {response}\")\n",
    "        responses.append(response)\n",
    "        # print(f\"✅ Response {i} decoded.\")\n",
    "    print(f\"✅ Model responses decoded.\")\n",
    "\n",
    "    # Formatting responses\n",
    "    cleaned_responses = list(map(lambda x: x.strip().lower(), responses))\n",
    "\n",
    "    # Get predictions\n",
    "    predictions = list(map(get_prediction_from_response, cleaned_responses))\n",
    "    print(f\"✅ Predictions generated.\")\n",
    "\n",
    "    # Calculate accuracy\n",
    "    accuracy = accuracy_score(labels, predictions)\n",
    "    print(f\"📝 Accuracy calculated: {accuracy:.2f}\")\n",
    "    f1 = f1_score(labels, predictions, average='weighted', zero_division=0)\n",
    "    print(f\"📝 F1 score calculated: {f1:.2f}\")\n",
    "    print(f\"📝 Classification report:\\n{classification_report(labels, predictions, zero_division=0)}\")\n",
    "\n",
    "    print(\"📝 Confusion matrix:\\n\")\n",
    "    cm = pd.crosstab(\n",
    "        pd.Series(labels, name='Actual'),\n",
    "        pd.Series(predictions, name='Predicted'),\n",
    "        rownames=['Actual'],\n",
    "        colnames=['Predicted'],\n",
    "        dropna=False\n",
    "    )\n",
    "\n",
    "    # Reindex rows and columns to ensure desired order\n",
    "    cm = cm.reindex(index=['negative', 'neutral', 'positive'], columns=['negative', 'neutral', 'positive', 'unknown'], fill_value=0)\n",
    "    plt.figure(figsize=(8, 6))\n",
    "    sns.heatmap(cm, annot=True, fmt='d', cmap='Blues')\n",
    "    plt.xlabel('Predicted')\n",
    "    plt.ylabel('True')\n",
    "    plt.title(f'Confusion Matrix for {eval_type} Evaluation')\n",
    "    plt.tight_layout()\n",
    "    plt.show()\n",
    "\n",
    "    print(\"📝 Prediction Counts\")\n",
    "    prediction_counts = pd.Series(predictions).value_counts()\n",
    "    ordered_counts = prediction_counts.reindex(['negative', 'neutral', 'positive', 'unknown'], fill_value=0)\n",
    "    ordered_counts.plot(kind='bar', color='mediumseagreen', figsize=(8, 6))\n",
    "    plt.title(\"Prediction Label Distribution\")\n",
    "    plt.xlabel(\"Label\")\n",
    "    plt.ylabel(\"Count\")\n",
    "    plt.tight_layout()\n",
    "    plt.show()\n",
    "\n",
    "# base_tokenizer.padding_token = base_tokenizer.eos_token\n",
    "base_model.config.pad_token_id = base_tokenizer.pad_token_id # Set the pad token ID in the model's config\n",
    "print(f\"✅ Model pad_token_id set.\")\n",
    "evaluate_base_model(base_tokenizer, base_model, dataset['test'][2500:3000], eval_type='one-shot')\n"
   ]
  },
  {
   "cell_type": "code",
   "execution_count": null,
   "id": "e9867262",
   "metadata": {},
   "outputs": [],
   "source": []
  }
 ],
 "metadata": {
  "kernelspec": {
   "display_name": "Python 3 (ipykernel)",
   "language": "python",
   "name": "python3"
  },
  "language_info": {
   "codemirror_mode": {
    "name": "ipython",
    "version": 3
   },
   "file_extension": ".py",
   "mimetype": "text/x-python",
   "name": "python",
   "nbconvert_exporter": "python",
   "pygments_lexer": "ipython3",
   "version": "3.11.11"
  }
 },
 "nbformat": 4,
 "nbformat_minor": 5
}
