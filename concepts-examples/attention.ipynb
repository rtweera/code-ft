{
 "cells": [
  {
   "cell_type": "markdown",
   "id": "390f1c7c",
   "metadata": {},
   "source": [
    "# Tokenization"
   ]
  },
  {
   "cell_type": "markdown",
   "id": "6c7591fd",
   "metadata": {},
   "source": [
    "This is a simulation of the tokenization process. The goal is to take a string of text and break it down into smaller pieces, or tokens. This is often the first step in natural language processing (NLP) tasks."
   ]
  },
  {
   "cell_type": "markdown",
   "id": "e9926eab",
   "metadata": {},
   "source": [
    "### Input sentence"
   ]
  },
  {
   "cell_type": "code",
   "execution_count": 2,
   "id": "a318fe34",
   "metadata": {},
   "outputs": [],
   "source": [
    "sentence = 'Life is short, eat dessert first'"
   ]
  },
  {
   "cell_type": "markdown",
   "id": "ba3f0b58",
   "metadata": {},
   "source": [
    "### Simulating the vocabulary"
   ]
  },
  {
   "cell_type": "code",
   "execution_count": 3,
   "id": "c543ffa4",
   "metadata": {},
   "outputs": [
    {
     "name": "stdout",
     "output_type": "stream",
     "text": [
      "{'Life': 0, 'dessert': 1, 'eat': 2, 'first': 3, 'is': 4, 'short': 5}\n"
     ]
    }
   ],
   "source": [
    "vocabulary = {s:i for i,s in enumerate(sorted(sentence.replace(',', '').split()))}\n",
    "print(vocabulary)"
   ]
  },
  {
   "cell_type": "markdown",
   "id": "9b87e46e",
   "metadata": {},
   "source": [
    "### Tokenization Process"
   ]
  },
  {
   "cell_type": "code",
   "execution_count": 5,
   "id": "ca95c70a",
   "metadata": {},
   "outputs": [
    {
     "name": "stdout",
     "output_type": "stream",
     "text": [
      "tensor([0, 4, 5, 2, 1, 3])\n"
     ]
    }
   ],
   "source": [
    "import torch\n",
    "\n",
    "sentence_int = torch.tensor([vocabulary[s] for s in sentence.replace(',', '').split()])\n",
    "print(sentence_int)"
   ]
  },
  {
   "cell_type": "code",
   "execution_count": null,
   "id": "69b1ac41",
   "metadata": {},
   "outputs": [],
   "source": []
  }
 ],
 "metadata": {
  "kernelspec": {
   "display_name": "Python 3",
   "language": "python",
   "name": "python3"
  },
  "language_info": {
   "codemirror_mode": {
    "name": "ipython",
    "version": 3
   },
   "file_extension": ".py",
   "mimetype": "text/x-python",
   "name": "python",
   "nbconvert_exporter": "python",
   "pygments_lexer": "ipython3",
   "version": "3.12.9"
  }
 },
 "nbformat": 4,
 "nbformat_minor": 5
}
